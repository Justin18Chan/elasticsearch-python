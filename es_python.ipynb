{
 "cells": [
  {
   "cell_type": "code",
   "execution_count": null,
   "metadata": {},
   "outputs": [],
   "source": [
    "from datetime import datetime\n",
    "from elasticsearch import Elasticsearch\n",
    "from elasticsearch import exceptions\n",
    "from elastic_transport import ObjectApiResponse"
   ]
  },
  {
   "cell_type": "code",
   "execution_count": 2,
   "metadata": {},
   "outputs": [],
   "source": [
    "es = Elasticsearch([\"http://192.168.10.50:9200\"])"
   ]
  },
  {
   "cell_type": "code",
   "execution_count": 170,
   "metadata": {},
   "outputs": [],
   "source": [
    "ess = Elasticsearch([\"http://192.168.10.50:10000\"])"
   ]
  },
  {
   "cell_type": "code",
   "execution_count": 172,
   "metadata": {},
   "outputs": [
    {
     "data": {
      "text/plain": [
       "False"
      ]
     },
     "execution_count": 172,
     "metadata": {},
     "output_type": "execute_result"
    }
   ],
   "source": [
    "ess.ping()"
   ]
  },
  {
   "cell_type": "code",
   "execution_count": 3,
   "metadata": {},
   "outputs": [
    {
     "data": {
      "text/plain": [
       "ObjectApiResponse({'name': 'loovee-1', 'cluster_name': 'elasticsearch', 'cluster_uuid': 'oQQ9Gx1pRfCoUGB4McKUeg', 'version': {'number': '8.8.2', 'build_flavor': 'default', 'build_type': 'tar', 'build_hash': '98e1271edf932a480e4262a471281f1ee295ce6b', 'build_date': '2023-06-26T05:16:16.196344851Z', 'build_snapshot': False, 'lucene_version': '9.6.0', 'minimum_wire_compatibility_version': '7.17.0', 'minimum_index_compatibility_version': '7.0.0'}, 'tagline': 'You Know, for Search'})"
      ]
     },
     "execution_count": 3,
     "metadata": {},
     "output_type": "execute_result"
    }
   ],
   "source": [
    "es.info()"
   ]
  },
  {
   "cell_type": "code",
   "execution_count": 4,
   "metadata": {},
   "outputs": [
    {
     "data": {
      "text/plain": [
       "True"
      ]
     },
     "execution_count": 4,
     "metadata": {},
     "output_type": "execute_result"
    }
   ],
   "source": [
    "es.ping()"
   ]
  },
  {
   "cell_type": "code",
   "execution_count": 8,
   "metadata": {},
   "outputs": [
    {
     "name": "stderr",
     "output_type": "stream",
     "text": [
      "/tmp/ipykernel_77299/129244569.py:1: ElasticsearchWarning: this request accesses system indices: [.security-7], but in a future major version, direct access to system indices will be prevented by default\n",
      "  es.indices.get_alias().keys()\n"
     ]
    },
    {
     "data": {
      "text/plain": [
       "dict_keys(['test-index', '.security-7', 'test_index', 'my-index-000001'])"
      ]
     },
     "execution_count": 8,
     "metadata": {},
     "output_type": "execute_result"
    }
   ],
   "source": [
    "es.indices.get_alias().keys()"
   ]
  },
  {
   "cell_type": "code",
   "execution_count": 12,
   "metadata": {},
   "outputs": [
    {
     "data": {
      "text/plain": [
       "HeadApiResponse(True)"
      ]
     },
     "execution_count": 12,
     "metadata": {},
     "output_type": "execute_result"
    }
   ],
   "source": [
    "es.indices.exists(index=\"test-index\")"
   ]
  },
  {
   "cell_type": "code",
   "execution_count": 14,
   "metadata": {},
   "outputs": [
    {
     "data": {
      "text/plain": [
       "dict_keys(['my-index-000001', 'test-index', 'test_index'])"
      ]
     },
     "execution_count": 14,
     "metadata": {},
     "output_type": "execute_result"
    }
   ],
   "source": [
    "es.indices.get_mapping().keys()"
   ]
  },
  {
   "cell_type": "code",
   "execution_count": 106,
   "metadata": {},
   "outputs": [
    {
     "data": {
      "text/plain": [
       "{'mappings': {'dynamic': 'true',\n",
       "  'numeric_detection': False,\n",
       "  'properties': {'age': {'type': 'byte'},\n",
       "   'audit_state': {'type': 'byte'},\n",
       "   'avatar': {'type': 'text'},\n",
       "   'avatar_certify': {'type': 'byte'},\n",
       "   'birthday': {'type': 'keyword'},\n",
       "   'blood_type': {'type': 'keyword'},\n",
       "   'career': {'type': 'text',\n",
       "    'analyzer': 'ik_max_word',\n",
       "    'search_analyzer': 'ik_smart'},\n",
       "   'education': {'type': 'byte'},\n",
       "   'education_certify': {'type': 'byte'},\n",
       "   'ethnic': {'type': 'byte'},\n",
       "   'favorite_mate': {'type': 'text',\n",
       "    'analyzer': 'ik_max_word',\n",
       "    'search_analyzer': 'ik_smart'},\n",
       "   'gender': {'type': 'keyword'},\n",
       "   'height': {'type': 'short'},\n",
       "   'hometown_city': {'type': 'keyword'},\n",
       "   'hometown_province': {'type': 'keyword'},\n",
       "   'horoscope': {'type': 'keyword'},\n",
       "   'income': {'type': 'byte'},\n",
       "   'info_finish_percent': {'type': 'byte'},\n",
       "   'interest': {'type': 'text',\n",
       "    'analyzer': 'ik_max_word',\n",
       "    'search_analyzer': 'ik_smart'},\n",
       "   'love_concept': {'type': 'text',\n",
       "    'analyzer': 'ik_max_word',\n",
       "    'search_analyzer': 'ik_smart'},\n",
       "   'marry_state': {'type': 'byte'},\n",
       "   'my_label': {'type': 'text',\n",
       "    'analyzer': 'ik_max_word',\n",
       "    'search_analyzer': 'ik_smart'},\n",
       "   'nature': {'type': 'text',\n",
       "    'analyzer': 'ik_max_word',\n",
       "    'search_analyzer': 'ik_smart'},\n",
       "   'nick': {'type': 'keyword'},\n",
       "   'profession': {'type': 'byte'},\n",
       "   'real_certify': {'type': 'byte'},\n",
       "   'real_name': {'type': 'keyword'},\n",
       "   'residence_city': {'type': 'keyword'},\n",
       "   'residence_province': {'type': 'keyword'},\n",
       "   'self_introduce': {'type': 'text',\n",
       "    'analyzer': 'ik_max_word',\n",
       "    'search_analyzer': 'ik_smart'},\n",
       "   'university': {'type': 'text',\n",
       "    'analyzer': 'ik_max_word',\n",
       "    'search_analyzer': 'ik_smart'},\n",
       "   'update_time': {'type': 'date',\n",
       "    'format': 'strict_date_optional_time||yyyy-MM-dd HH:mm:ss||yyyy-MM-dd||epoch_millis'},\n",
       "   'user_id': {'type': 'integer'},\n",
       "   'weight': {'type': 'short'}}}}"
      ]
     },
     "execution_count": 106,
     "metadata": {},
     "output_type": "execute_result"
    }
   ],
   "source": [
    "es.indices.get_mapping()['test-index']"
   ]
  },
  {
   "cell_type": "code",
   "execution_count": 107,
   "metadata": {},
   "outputs": [
    {
     "data": {
      "text/plain": [
       "{'settings': {'index': {'routing': {'allocation': {'include': {'_tier_preference': 'data_content'}}},\n",
       "   'number_of_shards': '2',\n",
       "   'provided_name': 'test-index',\n",
       "   'creation_date': '1688698144685',\n",
       "   'number_of_replicas': '2',\n",
       "   'uuid': 'eHJHN8wjQ6OfAWtu50Yptg',\n",
       "   'version': {'created': '8080299'}}}}"
      ]
     },
     "execution_count": 107,
     "metadata": {},
     "output_type": "execute_result"
    }
   ],
   "source": [
    "es.indices.get_settings()['test-index']"
   ]
  },
  {
   "cell_type": "code",
   "execution_count": 17,
   "metadata": {},
   "outputs": [
    {
     "data": {
      "text/plain": [
       "dict_keys(['test-index', 'test_index', 'my-index-000001'])"
      ]
     },
     "execution_count": 17,
     "metadata": {},
     "output_type": "execute_result"
    }
   ],
   "source": [
    "es.indices.get_settings().keys()"
   ]
  },
  {
   "cell_type": "code",
   "execution_count": 25,
   "metadata": {},
   "outputs": [
    {
     "name": "stdout",
     "output_type": "stream",
     "text": [
      "<class 'str'>\n",
      "<class 'str'>\n",
      "<class 'str'>\n",
      "<class 'str'>\n"
     ]
    }
   ],
   "source": [
    "for x in es.search(index=\"test_index\"):\n",
    "    print(type(x))"
   ]
  },
  {
   "cell_type": "code",
   "execution_count": 192,
   "metadata": {},
   "outputs": [
    {
     "name": "stdout",
     "output_type": "stream",
     "text": [
      "{'_index': 'test_index', '_id': '200', '_version': 2, 'result': 'updated', '_shards': {'total': 3, 'successful': 1, 'failed': 0}, '_seq_no': 148, '_primary_term': 1}\n"
     ]
    }
   ],
   "source": [
    "index = \"test_index\"\n",
    "id = 200\n",
    "document = {\"nick\":\"我是一条新样本\",\"gender\":\"male\",\"marry_state\":0,\"height\":170, \"weight\":60}\n",
    "try:\n",
    "    res = es.index(index=index, id=id, document=document)\n",
    "    print(res)\n",
    "except exceptions.BadRequestError as e:\n",
    "    print(e.message)\n",
    "    print(e.status_code)"
   ]
  },
  {
   "cell_type": "code",
   "execution_count": 193,
   "metadata": {},
   "outputs": [
    {
     "name": "stdout",
     "output_type": "stream",
     "text": [
      "{'_index': 'test_index', '_id': '200', '_version': 3, 'result': 'deleted', '_shards': {'total': 3, 'successful': 1, 'failed': 0}, '_seq_no': 149, '_primary_term': 1}\n"
     ]
    }
   ],
   "source": [
    "res = es.delete(index=\"test_index\", id=200)\n",
    "print(res)"
   ]
  },
  {
   "cell_type": "code",
   "execution_count": 174,
   "metadata": {},
   "outputs": [
    {
     "name": "stdout",
     "output_type": "stream",
     "text": [
      "{'_index': 'test_index', '_id': '100', '_version': 1, '_seq_no': 146, '_primary_term': 1, 'found': True, '_source': {'nick': '我是一条新样本', 'gender': 'male', 'marry_state': 0, 'height': 170, 'weight': 60}}\n"
     ]
    }
   ],
   "source": [
    "print(es.get(index=\"test_index\", id=1000))"
   ]
  },
  {
   "cell_type": "code",
   "execution_count": 179,
   "metadata": {},
   "outputs": [
    {
     "name": "stdout",
     "output_type": "stream",
     "text": [
      "False\n"
     ]
    }
   ],
   "source": [
    "print(es.exists(index=\"test_index\", id=1000))"
   ]
  },
  {
   "cell_type": "code",
   "execution_count": 119,
   "metadata": {},
   "outputs": [
    {
     "data": {
      "text/plain": [
       "ListApiResponse([{'epoch': '1688952616', 'timestamp': '01:30:16', 'count': '293'}])"
      ]
     },
     "execution_count": 119,
     "metadata": {},
     "output_type": "execute_result"
    }
   ],
   "source": [
    "# 查询文档总数\n",
    "es.indices.refresh(index=\"test_index\")\n",
    "es.cat.count(index=\"test_index\", format=\"json\")"
   ]
  },
  {
   "cell_type": "code",
   "execution_count": 27,
   "metadata": {},
   "outputs": [
    {
     "name": "stdout",
     "output_type": "stream",
     "text": [
      "{'hits': {'hits': [{'_source': {'age': 36}}, {'_source': {'age': 48}}, {'_source': {'age': 48}}, {'_source': {'age': 49}}, {'_source': {'age': 39}}, {'_source': {'age': 37}}, {'_source': {'age': 30}}, {'_source': {'age': 40}}, {'_source': {'age': 47}}, {'_source': {'age': 47}}]}}\n"
     ]
    }
   ],
   "source": [
    "# # 只显示test索引的age字段信息\n",
    "print(es.search(index='test_index',filter_path=['hits.hits._source.age']))"
   ]
  },
  {
   "cell_type": "code",
   "execution_count": 122,
   "metadata": {},
   "outputs": [
    {
     "name": "stdout",
     "output_type": "stream",
     "text": [
      "took：3\n",
      "timed_out：False\n",
      "_shards：{'total': 2, 'successful': 2, 'skipped': 0, 'failed': 0}\n",
      "hits：{'total': {'value': 293, 'relation': 'eq'}, 'max_score': 1.0, 'hits': [{'_index': 'test_index', '_id': '177929372', '_score': 1.0, '_source': {'nick': '不离不弃ever', 'gender': 'male', 'marry_state': 0, 'height': 175, 'weight': 99, 'education': 7, 'residence_city': '西城', 'age': 48, 'interest': '[网络, 读书, 体育运动, 旅游, 中国菜, 健康食品, 励志与成功, 行业发展, 惬意海岛, 繁华都市, 秀美山水, 江河大川, 小桥流水人家]', 'self_introduce': '北京名校本硕毕业，京户，西城有房（无贷）。别人评价人品好、靠谱、综合素质高。包容、幽默、孝顺、稳重、诚信，有责任心。休息时看书，健身，听音乐。注重饮食，健康，不吸烟不好酒，没有任何不良嗜好。自身条件不差，之所以至今未婚是因为当年从外地考到帝都一路打拼，主要精力放在学业工作上，也因为婚姻大事关乎一生，甚至下一代，不想草率结婚，但也不是挑剔，只看缘分。***警告：本人只为婚姻，非诚勿扰远离。各种托、中介、理财、博彩、传销、支教资助等形形色色骗子被本人发现一律报警。***告诉你一个防骗秘诀：只要提到钱让你掏腰包的就是骗子，无论什么理由！！', 'income': 2.0, 'horoscope': '天秤座', 'blood_type': 'O', 'profession': 9.0, 'ethnic': 56.0, 'university': '清华大学'}}, {'_index': 'test_index', '_id': '173975328', '_score': 1.0, '_source': {'nick': 'Mr Rt158', 'gender': 'male', 'marry_state': 0, 'height': 175, 'weight': 48, 'education': 7, 'residence_city': '西城', 'age': 48, 'interest': '[中国菜, 健康食品, 励志与成功, 投资理财, 人文社科, 自然科学, 什么都看, 惬意海岛, 繁华都市, 秀美山水, 历史遗迹, 江河大川]', 'self_introduce': '北京名校本科硕士毕业，京户京房无贷，心地善良、人品很好，做事很靠谱、孝敬长辈，很有责任感。喜欢旅行,看书,健身。不挑食，喜欢健康生活。无不良嗜好，不吸烟（也很介意别人吸烟），不好酒。现在的生活状态和心情，可以说是“想结婚,静待缘分”。众里寻她千百度，命里佳人在何处？非婚姻目的者勿扰，骗子一律报警。善意给诚意征婚的人：只要没见面核实身份谈钱就是骗子，无论借钱还是赚钱都是套路，拉黑！', 'income': 2.0, 'horoscope': '天秤座', 'profession': 26.0, 'ethnic': 56.0, 'university': '清华大学'}}, {'_index': 'test_index', '_id': '129852534', '_score': 1.0, '_source': {'nick': 'zeng', 'gender': 'male', 'marry_state': 0, 'height': 168, 'weight': 70, 'education': 7, 'residence_city': '贵阳', 'age': 49, 'interest': '[写作, 读书, 绘画, 中国菜, 文学, 政治与军事, 健康与养生, 投资理财, 人文社科, 喜剧, 战争, 纪录片, 政治事件, 理财投资, 图书馆/书店, 惬意海岛, 繁华都市, 广袤森林, 历史遗迹, 小桥流水人家]', 'self_introduce': '我是1974年生，硕士学历，本科学工科。研究生读中文，做的工作是与文字有关，平时最大的爱好就是画画，或做些插图设计。我在前几年买了一套二手房，环境好，旁边有一个依河建的湿地公园。有房贷，但公积金可以覆盖房贷。无车贷。我的三观算是比较正的，从2014年开始，每月向一个儿童基金会捐一百元，每月从我的卡上自动转过去。由于种种原因，错过了一些我爱的人和爱我的人。年龄不小了，可期望还在。所以，希望在这里能找到那个\\\\\\\\\" 我的爱人\\\\\\\\\"。', 'income': 1.0, 'horoscope': '双鱼座', 'profession': 11.0, 'hometown_province': '湖南', 'hometown_city': '娄底', 'ethnic': 56.0, 'university': '湘潭大学'}}]}\n"
     ]
    }
   ],
   "source": [
    "# 查询test索引中，从序号为1的位置查询两条数据\n",
    "res = es.search(index='test_index', from_=1, size=3)\n",
    "for k,v in res.items():\n",
    "    print(f\"{k}：{v}\")"
   ]
  },
  {
   "cell_type": "code",
   "execution_count": 123,
   "metadata": {},
   "outputs": [
    {
     "name": "stdout",
     "output_type": "stream",
     "text": [
      "成功获取： 3\n",
      "{'_index': 'test_index', '_id': '177929372', '_score': 1.0, '_source': {'nick': '不离不弃ever', 'gender': 'male', 'marry_state': 0, 'height': 175, 'weight': 99, 'education': 7, 'residence_city': '西城', 'age': 48, 'interest': '[网络, 读书, 体育运动, 旅游, 中国菜, 健康食品, 励志与成功, 行业发展, 惬意海岛, 繁华都市, 秀美山水, 江河大川, 小桥流水人家]', 'self_introduce': '北京名校本硕毕业，京户，西城有房（无贷）。别人评价人品好、靠谱、综合素质高。包容、幽默、孝顺、稳重、诚信，有责任心。休息时看书，健身，听音乐。注重饮食，健康，不吸烟不好酒，没有任何不良嗜好。自身条件不差，之所以至今未婚是因为当年从外地考到帝都一路打拼，主要精力放在学业工作上，也因为婚姻大事关乎一生，甚至下一代，不想草率结婚，但也不是挑剔，只看缘分。***警告：本人只为婚姻，非诚勿扰远离。各种托、中介、理财、博彩、传销、支教资助等形形色色骗子被本人发现一律报警。***告诉你一个防骗秘诀：只要提到钱让你掏腰包的就是骗子，无论什么理由！！', 'income': 2.0, 'horoscope': '天秤座', 'blood_type': 'O', 'profession': 9.0, 'ethnic': 56.0, 'university': '清华大学'}}\n",
      "{'_index': 'test_index', '_id': '173975328', '_score': 1.0, '_source': {'nick': 'Mr Rt158', 'gender': 'male', 'marry_state': 0, 'height': 175, 'weight': 48, 'education': 7, 'residence_city': '西城', 'age': 48, 'interest': '[中国菜, 健康食品, 励志与成功, 投资理财, 人文社科, 自然科学, 什么都看, 惬意海岛, 繁华都市, 秀美山水, 历史遗迹, 江河大川]', 'self_introduce': '北京名校本科硕士毕业，京户京房无贷，心地善良、人品很好，做事很靠谱、孝敬长辈，很有责任感。喜欢旅行,看书,健身。不挑食，喜欢健康生活。无不良嗜好，不吸烟（也很介意别人吸烟），不好酒。现在的生活状态和心情，可以说是“想结婚,静待缘分”。众里寻她千百度，命里佳人在何处？非婚姻目的者勿扰，骗子一律报警。善意给诚意征婚的人：只要没见面核实身份谈钱就是骗子，无论借钱还是赚钱都是套路，拉黑！', 'income': 2.0, 'horoscope': '天秤座', 'profession': 26.0, 'ethnic': 56.0, 'university': '清华大学'}}\n",
      "{'_index': 'test_index', '_id': '129852534', '_score': 1.0, '_source': {'nick': 'zeng', 'gender': 'male', 'marry_state': 0, 'height': 168, 'weight': 70, 'education': 7, 'residence_city': '贵阳', 'age': 49, 'interest': '[写作, 读书, 绘画, 中国菜, 文学, 政治与军事, 健康与养生, 投资理财, 人文社科, 喜剧, 战争, 纪录片, 政治事件, 理财投资, 图书馆/书店, 惬意海岛, 繁华都市, 广袤森林, 历史遗迹, 小桥流水人家]', 'self_introduce': '我是1974年生，硕士学历，本科学工科。研究生读中文，做的工作是与文字有关，平时最大的爱好就是画画，或做些插图设计。我在前几年买了一套二手房，环境好，旁边有一个依河建的湿地公园。有房贷，但公积金可以覆盖房贷。无车贷。我的三观算是比较正的，从2014年开始，每月向一个儿童基金会捐一百元，每月从我的卡上自动转过去。由于种种原因，错过了一些我爱的人和爱我的人。年龄不小了，可期望还在。所以，希望在这里能找到那个\\\\\\\\\" 我的爱人\\\\\\\\\"。', 'income': 1.0, 'horoscope': '双鱼座', 'profession': 11.0, 'hometown_province': '湖南', 'hometown_city': '娄底', 'ethnic': 56.0, 'university': '湘潭大学'}}\n"
     ]
    }
   ],
   "source": [
    "print(\"成功获取：\", res['took'])\n",
    "for per in res['hits']['hits']:\n",
    "    print(per)"
   ]
  },
  {
   "cell_type": "code",
   "execution_count": 114,
   "metadata": {},
   "outputs": [
    {
     "name": "stdout",
     "output_type": "stream",
     "text": [
      "took 2\n",
      "timed_out False\n",
      "_shards {'total': 2, 'successful': 2, 'skipped': 0, 'failed': 0}\n",
      "hits {'total': {'value': 0, 'relation': 'eq'}, 'max_score': None, 'hits': []}\n"
     ]
    }
   ],
   "source": [
    "for k,v in res.items():\n",
    "    print(k,v)"
   ]
  },
  {
   "cell_type": "code",
   "execution_count": null,
   "metadata": {},
   "outputs": [],
   "source": []
  },
  {
   "cell_type": "code",
   "execution_count": 127,
   "metadata": {},
   "outputs": [
    {
     "name": "stdout",
     "output_type": "stream",
     "text": [
      "{'took': 2, 'timed_out': False, '_shards': {'total': 2, 'successful': 2, 'skipped': 0, 'failed': 0}, 'hits': {'total': {'value': 0, 'relation': 'eq'}, 'max_score': None, 'hits': []}}\n",
      "{'took': 4, 'timed_out': False, '_shards': {'total': 2, 'successful': 2, 'skipped': 0, 'failed': 0}, 'hits': {'total': {'value': 8, 'relation': 'eq'}, 'max_score': 1.0, 'hits': [{'_index': 'test_index', '_id': '129852534', '_score': 1.0, '_source': {'nick': 'zeng', 'gender': 'male', 'marry_state': 0, 'height': 168, 'weight': 70, 'education': 7, 'residence_city': '贵阳', 'age': 49, 'interest': '[写作, 读书, 绘画, 中国菜, 文学, 政治与军事, 健康与养生, 投资理财, 人文社科, 喜剧, 战争, 纪录片, 政治事件, 理财投资, 图书馆/书店, 惬意海岛, 繁华都市, 广袤森林, 历史遗迹, 小桥流水人家]', 'self_introduce': '我是1974年生，硕士学历，本科学工科。研究生读中文，做的工作是与文字有关，平时最大的爱好就是画画，或做些插图设计。我在前几年买了一套二手房，环境好，旁边有一个依河建的湿地公园。有房贷，但公积金可以覆盖房贷。无车贷。我的三观算是比较正的，从2014年开始，每月向一个儿童基金会捐一百元，每月从我的卡上自动转过去。由于种种原因，错过了一些我爱的人和爱我的人。年龄不小了，可期望还在。所以，希望在这里能找到那个\\\\\\\\\" 我的爱人\\\\\\\\\"。', 'income': 1.0, 'horoscope': '双鱼座', 'profession': 11.0, 'hometown_province': '湖南', 'hometown_city': '娄底', 'ethnic': 56.0, 'university': '湘潭大学'}}, {'_index': 'test_index', '_id': '73619099', '_score': 1.0, '_source': {'nick': '孤独的心', 'gender': 'male', 'marry_state': 1, 'height': 168, 'weight': 54, 'education': 4, 'residence_city': '成都', 'age': 49, 'interest': '[旅游, 中国菜, 文学, 投资理财, 动作冒险, 悬疑推理, 惊悚恐怖, 纪录片, 政治事件, 温泉, 在自己或朋友家里, 惬意海岛, 秀美山水, 江河大川, 峻秀峡谷]', 'self_introduce': '你负责貌美如花，我负责挣钱养家......自己做点小生意，工作和生活在羊犀立交附近，时间相对自由，但有时会非常忙。业余时间喜欢弄点花花草草。酷爱旅行，喜欢自然山水，希望能够走遍祖国的山山水水，甚至环游世界。业余喜欢运动，跑步、登山、滑冰、保龄球，希望你也喜欢运动。痴迷麻将和游戏的，我们玩不到一起。柴米油盐都很俗，房子车子更是巨俗。生活很现实，我们可以讨论经济基础，希望你别太财迷。谢绝异地恋，谢绝离异带孩的。各种托，各种婊，有多远gun多远！', 'income': 2.0, 'horoscope': '射手座', 'blood_type': 'O', 'profession': 5.0, 'hometown_province': '四川', 'hometown_city': '成都', 'ethnic': 56.0}}, {'_index': 'test_index', '_id': '388434521', '_score': 1.0, '_source': {'nick': '菱湖', 'gender': 'male', 'marry_state': 1, 'height': 174, 'weight': 53, 'education': 7, 'residence_city': '朝阳', 'age': 49, 'interest': '[影视, 烹饪, 读书, 计算机, 旅游]', 'self_introduce': '不要觉得自己的过去受到了很深的伤害，从此就不敢也没有能力再爱。这世界上有那么多的人，每一个人的人生都是不同的，发生在他们身上的感情也会不同。', 'income': 2.0, 'horoscope': '处女座', 'blood_type': 'B', 'hometown_city': '北京', 'ethnic': 56.0}}, {'_index': 'test_index', '_id': '336704783', '_score': 1.0, '_source': {'nick': '彩虹更美', 'gender': 'female', 'marry_state': 1, 'height': 160, 'weight': 73, 'education': 5, 'residence_city': '长沙', 'age': 49, 'interest': '[摄影, 园艺, 旅游]', 'self_introduce': '“如果你和某个人在一起，能让你的情绪稳定，让你敞开心扉，让你更自信更爱笑，那这个人就值得你去爱。双向奔赴的爱情，是当你想奋不顾身地为一个人的时候，对方恰巧也在热烈的回应你。”希望在这里能遇见让我变得更好的你！我属牛处女座，建筑业，工作轻松且稳定。我性格开朗，善良体贴，平时喜欢摄影旅游，喝茶养花，生活中动静皆宜，闲暇时喜欢把家里收拾得温馨而舒适。深知为人母的责任，单身这些年自己独立培养女儿长大，现女儿不负期望考入了重点大学，我终于可以勇敢的去追寻自己想要的幸福了。希望他在长沙工作生活，身体健康，稳重踏实，乐观开朗，有稳定的工作或者事业，条件相当有共同兴趣爱好者最佳。心中有爱，万物皆美，余生很短，一定要和自己喜欢的人一起度过，真诚找伴，非诚勿扰！', 'income': 1.0, 'horoscope': '天秤座', 'blood_type': 'B', 'profession': 5.0, 'hometown_province': '湖南', 'hometown_city': '长沙', 'ethnic': 56.0, 'university': '湖南大学'}}, {'_index': 'test_index', '_id': '291049862', '_score': 1.0, '_source': {'nick': '秋实', 'gender': 'female', 'marry_state': 1, 'height': 162, 'weight': 70, 'education': 4, 'residence_city': '普陀', 'age': 49, 'interest': '[纪录片, 政治事件]', 'self_introduce': '出生于普通知识分子家庭，在央企从事平凡的工作，但内在的优秀品质没变。希望对方有点文凭、有点文化、有点素养', 'income': 1.0, 'horoscope': '巨蟹座', 'blood_type': 'B', 'hometown_province': '辽宁', 'hometown_city': '沈阳', 'ethnic': 56.0}}, {'_index': 'test_index', '_id': '260831814', '_score': 1.0, '_source': {'nick': '梦醒时分', 'gender': 'female', 'marry_state': 1, 'height': 155, 'weight': 60, 'education': 5, 'residence_city': '九龙坡', 'age': 49, 'self_introduce': '我1974年出生，老家是重庆市璧山县大路的，现在重庆市九龙坡区西彭镇，本科学历，我裸高155，希望三观一致，非诚勿扰，谢谢！我不是会员，看不到信息，也回不了信息，抱歉！', 'income': 1.0, 'horoscope': '金牛座', 'blood_type': 'B', 'hometown_province': '重庆', 'hometown_city': '璧山', 'ethnic': 56.0, 'university': '重庆师范大学'}}, {'_index': 'test_index', '_id': '258247801', '_score': 1.0, '_source': {'nick': '其蔓', 'gender': 'female', 'marry_state': 0, 'height': 166, 'weight': 47, 'education': 4, 'residence_city': '惠州', 'age': 49, 'self_introduce': '相貌普通，身材匀称高挑，身体健康，个性独立，思想传统，情感经历简单。不作，不闹，简单，朴实，率性。有点俗，有点土。具传统潮汕女子守旧的特性，也有都市女子的现代思维和独特个性。目前行业不景气，处于休整状态，只能算是混日子。过得比较宅，平时在家做做家务，听听音乐，看看新闻，锻炼一下身体，偶尔接个小单，日子过得轻松闲适。没有任何情感纠缠，没有婚恋子女方面的关系，没有什么存款，也没有经济负担，一切都非常简单。在深圳生活了20年，前些年移居惠州，现居于惠城江北。基于个人经历喜好，只考虑在惠州和深圳这两座城市生活，没到其他城市生活的意愿。', 'income': 1.0, 'horoscope': '天蝎座', 'blood_type': 'A', 'profession': 16.0, 'hometown_province': '广东', 'hometown_city': '揭阳', 'ethnic': 56.0}}, {'_index': 'test_index', '_id': '241020393', '_score': 1.0, '_source': {'nick': '心归何处', 'gender': 'female', 'marry_state': 1, 'height': 158, 'weight': 49, 'education': 4, 'residence_city': '成都', 'age': 49, 'interest': '[音乐, 读书, 旅游, 中国菜, 文学, 爱情, 喜剧, 古装武侠, 影视热片, 电影院, 卡拉OK, 逛街, 惬意海岛, 风情名城, 高原雪域, 秀美山水, 历史遗迹]', 'self_introduce': '我是川妹子，在航空公司上班，还有几个月就要退休了，想找个人相伴余生，如果你学历是大专或大专以上，有稳定工作，脾气好，性格好，孝顺父母的人，是成都周边的人，请给我来信，期望余生有你，香港、澳门、国外的就请别给我来信了，比我年龄小的人也别来信了，我不喜欢老牛啃嫩草，免得浪费你的银子看信，谢谢，那些炒股、定投、基金的骗子，请你们自重呵，本人诚心找伴。我先申明我没邮票，看不了你的信哟。一个人的日子好孤独，未来的老伴你在哪里呀？我在双流等你。我希望的另一半，最好不抽烟喝酒打牌。新的一年新的开始，希望2023年是双人行，不再是孤家寡人了，伸出你的手，我会回报你整个春天。欢迎来双流验证身份，真诚找老伴。本人微胖，减肥有点困难，希望找骨感美的人请别打扰我，谢谢！大我八岁以上的不考虑呵，谢谢，我的照片都是美颜过的，颜值控的别给我来信，你会失望的，毕竟我也是快知天命的人了！月老呀，请赐予我一个爱我的老公吧', 'income': 1.0, 'horoscope': '射手座', 'blood_type': 'O', 'profession': 23.0, 'hometown_province': '四川', 'ethnic': 56.0}}]}}\n"
     ]
    }
   ],
   "source": [
    "# 模糊查询（分词）\n",
    "# 查询索引中，age字段为20的数据\n",
    "res = es.search(index='test_index', query={'match':{'age':20}})\n",
    "# 匹配失败\n",
    "print(res)\n",
    "res1 = es.search(index='test_index', query={'match':{'age':49}})\n",
    "# 匹配成功\n",
    "print(res1)"
   ]
  },
  {
   "cell_type": "code",
   "execution_count": 128,
   "metadata": {},
   "outputs": [
    {
     "name": "stdout",
     "output_type": "stream",
     "text": [
      "匹配成功数: 0\n",
      "匹配成功数: 0\n",
      "匹配成功数: 8\n",
      "匹配成功数: 8\n",
      "{'_index': 'test_index', '_id': '129852534', '_score': 1.0, '_source': {'nick': 'zeng', 'gender': 'male', 'marry_state': 0, 'height': 168, 'weight': 70, 'education': 7, 'residence_city': '贵阳', 'age': 49, 'interest': '[写作, 读书, 绘画, 中国菜, 文学, 政治与军事, 健康与养生, 投资理财, 人文社科, 喜剧, 战争, 纪录片, 政治事件, 理财投资, 图书馆/书店, 惬意海岛, 繁华都市, 广袤森林, 历史遗迹, 小桥流水人家]', 'self_introduce': '我是1974年生，硕士学历，本科学工科。研究生读中文，做的工作是与文字有关，平时最大的爱好就是画画，或做些插图设计。我在前几年买了一套二手房，环境好，旁边有一个依河建的湿地公园。有房贷，但公积金可以覆盖房贷。无车贷。我的三观算是比较正的，从2014年开始，每月向一个儿童基金会捐一百元，每月从我的卡上自动转过去。由于种种原因，错过了一些我爱的人和爱我的人。年龄不小了，可期望还在。所以，希望在这里能找到那个\\\\\\\\\" 我的爱人\\\\\\\\\"。', 'income': 1.0, 'horoscope': '双鱼座', 'profession': 11.0, 'hometown_province': '湖南', 'hometown_city': '娄底', 'ethnic': 56.0, 'university': '湘潭大学'}}\n",
      "{'_index': 'test_index', '_id': '73619099', '_score': 1.0, '_source': {'nick': '孤独的心', 'gender': 'male', 'marry_state': 1, 'height': 168, 'weight': 54, 'education': 4, 'residence_city': '成都', 'age': 49, 'interest': '[旅游, 中国菜, 文学, 投资理财, 动作冒险, 悬疑推理, 惊悚恐怖, 纪录片, 政治事件, 温泉, 在自己或朋友家里, 惬意海岛, 秀美山水, 江河大川, 峻秀峡谷]', 'self_introduce': '你负责貌美如花，我负责挣钱养家......自己做点小生意，工作和生活在羊犀立交附近，时间相对自由，但有时会非常忙。业余时间喜欢弄点花花草草。酷爱旅行，喜欢自然山水，希望能够走遍祖国的山山水水，甚至环游世界。业余喜欢运动，跑步、登山、滑冰、保龄球，希望你也喜欢运动。痴迷麻将和游戏的，我们玩不到一起。柴米油盐都很俗，房子车子更是巨俗。生活很现实，我们可以讨论经济基础，希望你别太财迷。谢绝异地恋，谢绝离异带孩的。各种托，各种婊，有多远gun多远！', 'income': 2.0, 'horoscope': '射手座', 'blood_type': 'O', 'profession': 5.0, 'hometown_province': '四川', 'hometown_city': '成都', 'ethnic': 56.0}}\n",
      "{'_index': 'test_index', '_id': '388434521', '_score': 1.0, '_source': {'nick': '菱湖', 'gender': 'male', 'marry_state': 1, 'height': 174, 'weight': 53, 'education': 7, 'residence_city': '朝阳', 'age': 49, 'interest': '[影视, 烹饪, 读书, 计算机, 旅游]', 'self_introduce': '不要觉得自己的过去受到了很深的伤害，从此就不敢也没有能力再爱。这世界上有那么多的人，每一个人的人生都是不同的，发生在他们身上的感情也会不同。', 'income': 2.0, 'horoscope': '处女座', 'blood_type': 'B', 'hometown_city': '北京', 'ethnic': 56.0}}\n",
      "{'_index': 'test_index', '_id': '336704783', '_score': 1.0, '_source': {'nick': '彩虹更美', 'gender': 'female', 'marry_state': 1, 'height': 160, 'weight': 73, 'education': 5, 'residence_city': '长沙', 'age': 49, 'interest': '[摄影, 园艺, 旅游]', 'self_introduce': '“如果你和某个人在一起，能让你的情绪稳定，让你敞开心扉，让你更自信更爱笑，那这个人就值得你去爱。双向奔赴的爱情，是当你想奋不顾身地为一个人的时候，对方恰巧也在热烈的回应你。”希望在这里能遇见让我变得更好的你！我属牛处女座，建筑业，工作轻松且稳定。我性格开朗，善良体贴，平时喜欢摄影旅游，喝茶养花，生活中动静皆宜，闲暇时喜欢把家里收拾得温馨而舒适。深知为人母的责任，单身这些年自己独立培养女儿长大，现女儿不负期望考入了重点大学，我终于可以勇敢的去追寻自己想要的幸福了。希望他在长沙工作生活，身体健康，稳重踏实，乐观开朗，有稳定的工作或者事业，条件相当有共同兴趣爱好者最佳。心中有爱，万物皆美，余生很短，一定要和自己喜欢的人一起度过，真诚找伴，非诚勿扰！', 'income': 1.0, 'horoscope': '天秤座', 'blood_type': 'B', 'profession': 5.0, 'hometown_province': '湖南', 'hometown_city': '长沙', 'ethnic': 56.0, 'university': '湖南大学'}}\n",
      "{'_index': 'test_index', '_id': '291049862', '_score': 1.0, '_source': {'nick': '秋实', 'gender': 'female', 'marry_state': 1, 'height': 162, 'weight': 70, 'education': 4, 'residence_city': '普陀', 'age': 49, 'interest': '[纪录片, 政治事件]', 'self_introduce': '出生于普通知识分子家庭，在央企从事平凡的工作，但内在的优秀品质没变。希望对方有点文凭、有点文化、有点素养', 'income': 1.0, 'horoscope': '巨蟹座', 'blood_type': 'B', 'hometown_province': '辽宁', 'hometown_city': '沈阳', 'ethnic': 56.0}}\n",
      "{'_index': 'test_index', '_id': '260831814', '_score': 1.0, '_source': {'nick': '梦醒时分', 'gender': 'female', 'marry_state': 1, 'height': 155, 'weight': 60, 'education': 5, 'residence_city': '九龙坡', 'age': 49, 'self_introduce': '我1974年出生，老家是重庆市璧山县大路的，现在重庆市九龙坡区西彭镇，本科学历，我裸高155，希望三观一致，非诚勿扰，谢谢！我不是会员，看不到信息，也回不了信息，抱歉！', 'income': 1.0, 'horoscope': '金牛座', 'blood_type': 'B', 'hometown_province': '重庆', 'hometown_city': '璧山', 'ethnic': 56.0, 'university': '重庆师范大学'}}\n",
      "{'_index': 'test_index', '_id': '258247801', '_score': 1.0, '_source': {'nick': '其蔓', 'gender': 'female', 'marry_state': 0, 'height': 166, 'weight': 47, 'education': 4, 'residence_city': '惠州', 'age': 49, 'self_introduce': '相貌普通，身材匀称高挑，身体健康，个性独立，思想传统，情感经历简单。不作，不闹，简单，朴实，率性。有点俗，有点土。具传统潮汕女子守旧的特性，也有都市女子的现代思维和独特个性。目前行业不景气，处于休整状态，只能算是混日子。过得比较宅，平时在家做做家务，听听音乐，看看新闻，锻炼一下身体，偶尔接个小单，日子过得轻松闲适。没有任何情感纠缠，没有婚恋子女方面的关系，没有什么存款，也没有经济负担，一切都非常简单。在深圳生活了20年，前些年移居惠州，现居于惠城江北。基于个人经历喜好，只考虑在惠州和深圳这两座城市生活，没到其他城市生活的意愿。', 'income': 1.0, 'horoscope': '天蝎座', 'blood_type': 'A', 'profession': 16.0, 'hometown_province': '广东', 'hometown_city': '揭阳', 'ethnic': 56.0}}\n",
      "{'_index': 'test_index', '_id': '241020393', '_score': 1.0, '_source': {'nick': '心归何处', 'gender': 'female', 'marry_state': 1, 'height': 158, 'weight': 49, 'education': 4, 'residence_city': '成都', 'age': 49, 'interest': '[音乐, 读书, 旅游, 中国菜, 文学, 爱情, 喜剧, 古装武侠, 影视热片, 电影院, 卡拉OK, 逛街, 惬意海岛, 风情名城, 高原雪域, 秀美山水, 历史遗迹]', 'self_introduce': '我是川妹子，在航空公司上班，还有几个月就要退休了，想找个人相伴余生，如果你学历是大专或大专以上，有稳定工作，脾气好，性格好，孝顺父母的人，是成都周边的人，请给我来信，期望余生有你，香港、澳门、国外的就请别给我来信了，比我年龄小的人也别来信了，我不喜欢老牛啃嫩草，免得浪费你的银子看信，谢谢，那些炒股、定投、基金的骗子，请你们自重呵，本人诚心找伴。我先申明我没邮票，看不了你的信哟。一个人的日子好孤独，未来的老伴你在哪里呀？我在双流等你。我希望的另一半，最好不抽烟喝酒打牌。新的一年新的开始，希望2023年是双人行，不再是孤家寡人了，伸出你的手，我会回报你整个春天。欢迎来双流验证身份，真诚找老伴。本人微胖，减肥有点困难，希望找骨感美的人请别打扰我，谢谢！大我八岁以上的不考虑呵，谢谢，我的照片都是美颜过的，颜值控的别给我来信，你会失望的，毕竟我也是快知天命的人了！月老呀，请赐予我一个爱我的老公吧', 'income': 1.0, 'horoscope': '射手座', 'blood_type': 'O', 'profession': 23.0, 'hometown_province': '四川', 'ethnic': 56.0}}\n"
     ]
    }
   ],
   "source": [
    "print(\"匹配成功数:\", res['hits']['total']['value'])\n",
    "print(\"匹配成功数:\", len(res['hits']['hits']))\n",
    "for per in res['hits']['hits']:\n",
    "    print(per)\n",
    "print(\"匹配成功数:\", res1['hits']['total']['value'])\n",
    "print(\"匹配成功数:\", len(res1['hits']['hits']))\n",
    "for per in res1['hits']['hits']:\n",
    "    print(per)"
   ]
  },
  {
   "cell_type": "code",
   "execution_count": 125,
   "metadata": {},
   "outputs": [
    {
     "data": {
      "text/plain": [
       "ObjectApiResponse({'took': 5, 'timed_out': False, '_shards': {'total': 2, 'successful': 2, 'skipped': 0, 'failed': 0}, 'hits': {'total': {'value': 8, 'relation': 'eq'}, 'max_score': 1.0, 'hits': [{'_index': 'test_index', '_id': '129852534', '_score': 1.0, '_source': {'nick': 'zeng', 'gender': 'male', 'marry_state': 0, 'height': 168, 'weight': 70, 'education': 7, 'residence_city': '贵阳', 'age': 49, 'interest': '[写作, 读书, 绘画, 中国菜, 文学, 政治与军事, 健康与养生, 投资理财, 人文社科, 喜剧, 战争, 纪录片, 政治事件, 理财投资, 图书馆/书店, 惬意海岛, 繁华都市, 广袤森林, 历史遗迹, 小桥流水人家]', 'self_introduce': '我是1974年生，硕士学历，本科学工科。研究生读中文，做的工作是与文字有关，平时最大的爱好就是画画，或做些插图设计。我在前几年买了一套二手房，环境好，旁边有一个依河建的湿地公园。有房贷，但公积金可以覆盖房贷。无车贷。我的三观算是比较正的，从2014年开始，每月向一个儿童基金会捐一百元，每月从我的卡上自动转过去。由于种种原因，错过了一些我爱的人和爱我的人。年龄不小了，可期望还在。所以，希望在这里能找到那个\\\\\\\\\" 我的爱人\\\\\\\\\"。', 'income': 1.0, 'horoscope': '双鱼座', 'profession': 11.0, 'hometown_province': '湖南', 'hometown_city': '娄底', 'ethnic': 56.0, 'university': '湘潭大学'}}, {'_index': 'test_index', '_id': '73619099', '_score': 1.0, '_source': {'nick': '孤独的心', 'gender': 'male', 'marry_state': 1, 'height': 168, 'weight': 54, 'education': 4, 'residence_city': '成都', 'age': 49, 'interest': '[旅游, 中国菜, 文学, 投资理财, 动作冒险, 悬疑推理, 惊悚恐怖, 纪录片, 政治事件, 温泉, 在自己或朋友家里, 惬意海岛, 秀美山水, 江河大川, 峻秀峡谷]', 'self_introduce': '你负责貌美如花，我负责挣钱养家......自己做点小生意，工作和生活在羊犀立交附近，时间相对自由，但有时会非常忙。业余时间喜欢弄点花花草草。酷爱旅行，喜欢自然山水，希望能够走遍祖国的山山水水，甚至环游世界。业余喜欢运动，跑步、登山、滑冰、保龄球，希望你也喜欢运动。痴迷麻将和游戏的，我们玩不到一起。柴米油盐都很俗，房子车子更是巨俗。生活很现实，我们可以讨论经济基础，希望你别太财迷。谢绝异地恋，谢绝离异带孩的。各种托，各种婊，有多远gun多远！', 'income': 2.0, 'horoscope': '射手座', 'blood_type': 'O', 'profession': 5.0, 'hometown_province': '四川', 'hometown_city': '成都', 'ethnic': 56.0}}, {'_index': 'test_index', '_id': '388434521', '_score': 1.0, '_source': {'nick': '菱湖', 'gender': 'male', 'marry_state': 1, 'height': 174, 'weight': 53, 'education': 7, 'residence_city': '朝阳', 'age': 49, 'interest': '[影视, 烹饪, 读书, 计算机, 旅游]', 'self_introduce': '不要觉得自己的过去受到了很深的伤害，从此就不敢也没有能力再爱。这世界上有那么多的人，每一个人的人生都是不同的，发生在他们身上的感情也会不同。', 'income': 2.0, 'horoscope': '处女座', 'blood_type': 'B', 'hometown_city': '北京', 'ethnic': 56.0}}, {'_index': 'test_index', '_id': '336704783', '_score': 1.0, '_source': {'nick': '彩虹更美', 'gender': 'female', 'marry_state': 1, 'height': 160, 'weight': 73, 'education': 5, 'residence_city': '长沙', 'age': 49, 'interest': '[摄影, 园艺, 旅游]', 'self_introduce': '“如果你和某个人在一起，能让你的情绪稳定，让你敞开心扉，让你更自信更爱笑，那这个人就值得你去爱。双向奔赴的爱情，是当你想奋不顾身地为一个人的时候，对方恰巧也在热烈的回应你。”希望在这里能遇见让我变得更好的你！我属牛处女座，建筑业，工作轻松且稳定。我性格开朗，善良体贴，平时喜欢摄影旅游，喝茶养花，生活中动静皆宜，闲暇时喜欢把家里收拾得温馨而舒适。深知为人母的责任，单身这些年自己独立培养女儿长大，现女儿不负期望考入了重点大学，我终于可以勇敢的去追寻自己想要的幸福了。希望他在长沙工作生活，身体健康，稳重踏实，乐观开朗，有稳定的工作或者事业，条件相当有共同兴趣爱好者最佳。心中有爱，万物皆美，余生很短，一定要和自己喜欢的人一起度过，真诚找伴，非诚勿扰！', 'income': 1.0, 'horoscope': '天秤座', 'blood_type': 'B', 'profession': 5.0, 'hometown_province': '湖南', 'hometown_city': '长沙', 'ethnic': 56.0, 'university': '湖南大学'}}, {'_index': 'test_index', '_id': '291049862', '_score': 1.0, '_source': {'nick': '秋实', 'gender': 'female', 'marry_state': 1, 'height': 162, 'weight': 70, 'education': 4, 'residence_city': '普陀', 'age': 49, 'interest': '[纪录片, 政治事件]', 'self_introduce': '出生于普通知识分子家庭，在央企从事平凡的工作，但内在的优秀品质没变。希望对方有点文凭、有点文化、有点素养', 'income': 1.0, 'horoscope': '巨蟹座', 'blood_type': 'B', 'hometown_province': '辽宁', 'hometown_city': '沈阳', 'ethnic': 56.0}}, {'_index': 'test_index', '_id': '260831814', '_score': 1.0, '_source': {'nick': '梦醒时分', 'gender': 'female', 'marry_state': 1, 'height': 155, 'weight': 60, 'education': 5, 'residence_city': '九龙坡', 'age': 49, 'self_introduce': '我1974年出生，老家是重庆市璧山县大路的，现在重庆市九龙坡区西彭镇，本科学历，我裸高155，希望三观一致，非诚勿扰，谢谢！我不是会员，看不到信息，也回不了信息，抱歉！', 'income': 1.0, 'horoscope': '金牛座', 'blood_type': 'B', 'hometown_province': '重庆', 'hometown_city': '璧山', 'ethnic': 56.0, 'university': '重庆师范大学'}}, {'_index': 'test_index', '_id': '258247801', '_score': 1.0, '_source': {'nick': '其蔓', 'gender': 'female', 'marry_state': 0, 'height': 166, 'weight': 47, 'education': 4, 'residence_city': '惠州', 'age': 49, 'self_introduce': '相貌普通，身材匀称高挑，身体健康，个性独立，思想传统，情感经历简单。不作，不闹，简单，朴实，率性。有点俗，有点土。具传统潮汕女子守旧的特性，也有都市女子的现代思维和独特个性。目前行业不景气，处于休整状态，只能算是混日子。过得比较宅，平时在家做做家务，听听音乐，看看新闻，锻炼一下身体，偶尔接个小单，日子过得轻松闲适。没有任何情感纠缠，没有婚恋子女方面的关系，没有什么存款，也没有经济负担，一切都非常简单。在深圳生活了20年，前些年移居惠州，现居于惠城江北。基于个人经历喜好，只考虑在惠州和深圳这两座城市生活，没到其他城市生活的意愿。', 'income': 1.0, 'horoscope': '天蝎座', 'blood_type': 'A', 'profession': 16.0, 'hometown_province': '广东', 'hometown_city': '揭阳', 'ethnic': 56.0}}, {'_index': 'test_index', '_id': '241020393', '_score': 1.0, '_source': {'nick': '心归何处', 'gender': 'female', 'marry_state': 1, 'height': 158, 'weight': 49, 'education': 4, 'residence_city': '成都', 'age': 49, 'interest': '[音乐, 读书, 旅游, 中国菜, 文学, 爱情, 喜剧, 古装武侠, 影视热片, 电影院, 卡拉OK, 逛街, 惬意海岛, 风情名城, 高原雪域, 秀美山水, 历史遗迹]', 'self_introduce': '我是川妹子，在航空公司上班，还有几个月就要退休了，想找个人相伴余生，如果你学历是大专或大专以上，有稳定工作，脾气好，性格好，孝顺父母的人，是成都周边的人，请给我来信，期望余生有你，香港、澳门、国外的就请别给我来信了，比我年龄小的人也别来信了，我不喜欢老牛啃嫩草，免得浪费你的银子看信，谢谢，那些炒股、定投、基金的骗子，请你们自重呵，本人诚心找伴。我先申明我没邮票，看不了你的信哟。一个人的日子好孤独，未来的老伴你在哪里呀？我在双流等你。我希望的另一半，最好不抽烟喝酒打牌。新的一年新的开始，希望2023年是双人行，不再是孤家寡人了，伸出你的手，我会回报你整个春天。欢迎来双流验证身份，真诚找老伴。本人微胖，减肥有点困难，希望找骨感美的人请别打扰我，谢谢！大我八岁以上的不考虑呵，谢谢，我的照片都是美颜过的，颜值控的别给我来信，你会失望的，毕竟我也是快知天命的人了！月老呀，请赐予我一个爱我的老公吧', 'income': 1.0, 'horoscope': '射手座', 'blood_type': 'O', 'profession': 23.0, 'hometown_province': '四川', 'ethnic': 56.0}}]}})"
      ]
     },
     "execution_count": 125,
     "metadata": {},
     "output_type": "execute_result"
    }
   ],
   "source": [
    "res"
   ]
  },
  {
   "cell_type": "code",
   "execution_count": 145,
   "metadata": {},
   "outputs": [
    {
     "name": "stdout",
     "output_type": "stream",
     "text": [
      "{'took': 2, 'timed_out': False, '_shards': {'total': 2, 'successful': 2, 'skipped': 0, 'failed': 0}, 'hits': {'total': {'value': 293, 'relation': 'eq'}, 'max_score': 1.0, 'hits': [{'_index': 'test_index', '_id': '244389161', '_score': 1.0, '_source': {'nick': 'Panu', 'gender': 'male', 'marry_state': 0, 'height': 180, 'weight': 72, 'education': 8, 'residence_city': '海淀', 'age': 36, 'self_introduce': '我是芬兰数学家，在中科院工作. 我想找一个在北京工作和生活的女朋友.', 'income': 5.0, 'horoscope': '天秤座', 'blood_type': 'O', 'profession': 4.0, 'hometown_province': '其他'}}, {'_index': 'test_index', '_id': '177929372', '_score': 1.0, '_source': {'nick': '不离不弃ever', 'gender': 'male', 'marry_state': 0, 'height': 175, 'weight': 99, 'education': 7, 'residence_city': '西城', 'age': 48, 'interest': '[网络, 读书, 体育运动, 旅游, 中国菜, 健康食品, 励志与成功, 行业发展, 惬意海岛, 繁华都市, 秀美山水, 江河大川, 小桥流水人家]', 'self_introduce': '北京名校本硕毕业，京户，西城有房（无贷）。别人评价人品好、靠谱、综合素质高。包容、幽默、孝顺、稳重、诚信，有责任心。休息时看书，健身，听音乐。注重饮食，健康，不吸烟不好酒，没有任何不良嗜好。自身条件不差，之所以至今未婚是因为当年从外地考到帝都一路打拼，主要精力放在学业工作上，也因为婚姻大事关乎一生，甚至下一代，不想草率结婚，但也不是挑剔，只看缘分。***警告：本人只为婚姻，非诚勿扰远离。各种托、中介、理财、博彩、传销、支教资助等形形色色骗子被本人发现一律报警。***告诉你一个防骗秘诀：只要提到钱让你掏腰包的就是骗子，无论什么理由！！', 'income': 2.0, 'horoscope': '天秤座', 'blood_type': 'O', 'profession': 9.0, 'ethnic': 56.0, 'university': '清华大学'}}, {'_index': 'test_index', '_id': '173975328', '_score': 1.0, '_source': {'nick': 'Mr Rt158', 'gender': 'male', 'marry_state': 0, 'height': 175, 'weight': 48, 'education': 7, 'residence_city': '西城', 'age': 48, 'interest': '[中国菜, 健康食品, 励志与成功, 投资理财, 人文社科, 自然科学, 什么都看, 惬意海岛, 繁华都市, 秀美山水, 历史遗迹, 江河大川]', 'self_introduce': '北京名校本科硕士毕业，京户京房无贷，心地善良、人品很好，做事很靠谱、孝敬长辈，很有责任感。喜欢旅行,看书,健身。不挑食，喜欢健康生活。无不良嗜好，不吸烟（也很介意别人吸烟），不好酒。现在的生活状态和心情，可以说是“想结婚,静待缘分”。众里寻她千百度，命里佳人在何处？非婚姻目的者勿扰，骗子一律报警。善意给诚意征婚的人：只要没见面核实身份谈钱就是骗子，无论借钱还是赚钱都是套路，拉黑！', 'income': 2.0, 'horoscope': '天秤座', 'profession': 26.0, 'ethnic': 56.0, 'university': '清华大学'}}, {'_index': 'test_index', '_id': '129852534', '_score': 1.0, '_source': {'nick': 'zeng', 'gender': 'male', 'marry_state': 0, 'height': 168, 'weight': 70, 'education': 7, 'residence_city': '贵阳', 'age': 49, 'interest': '[写作, 读书, 绘画, 中国菜, 文学, 政治与军事, 健康与养生, 投资理财, 人文社科, 喜剧, 战争, 纪录片, 政治事件, 理财投资, 图书馆/书店, 惬意海岛, 繁华都市, 广袤森林, 历史遗迹, 小桥流水人家]', 'self_introduce': '我是1974年生，硕士学历，本科学工科。研究生读中文，做的工作是与文字有关，平时最大的爱好就是画画，或做些插图设计。我在前几年买了一套二手房，环境好，旁边有一个依河建的湿地公园。有房贷，但公积金可以覆盖房贷。无车贷。我的三观算是比较正的，从2014年开始，每月向一个儿童基金会捐一百元，每月从我的卡上自动转过去。由于种种原因，错过了一些我爱的人和爱我的人。年龄不小了，可期望还在。所以，希望在这里能找到那个\\\\\\\\\" 我的爱人\\\\\\\\\"。', 'income': 1.0, 'horoscope': '双鱼座', 'profession': 11.0, 'hometown_province': '湖南', 'hometown_city': '娄底', 'ethnic': 56.0, 'university': '湘潭大学'}}, {'_index': 'test_index', '_id': '105983137', '_score': 1.0, '_source': {'nick': '韩洛华', 'gender': 'male', 'marry_state': 0, 'height': 172, 'weight': 59, 'education': 5, 'residence_city': '杭州', 'age': 39, 'self_introduce': '实实在在地介绍下自己吧。从小生活在一个普通而又安静的环境中，父母都为国家打工，而我则是个内心叛逆但表现文静的好学生。原本应该像父母期望的那样传承着公职工作或者做点文化行当，但由于大学学了英法语，又因为一次巧合作为交换生出去了半年。大学毕业后就做起了外贸工作，但近几年主要从事内贸服装辅料行当。其实人生之所以精彩吧，也就是它的幻化不定，一直觉得自己以后想做个文化人、哪怕是伪文化人，没想到最后竟是个生意人。这让我想起小的时候妈妈常说我没遗传好，长得不行。那时候流行男孩国字脸、大眼、黑黑的蛮男人的感觉，而我却脸尖尖的、小眼、特白、红唇高鼻的像个姑娘。但没想到20岁后韩剧流行，老妈竟然突然说我还蛮帅的…刚过了而立之年，一直习惯孤单，其实很多时候都是一种掩饰。我真心想找一个我爱也爱我的女孩，没多大要求，只有简简单单的两点：我喜欢成熟、年纪大点没关系但不要太小的；还有就是不要瘦，因为哥哥', 'income': 5.0, 'horoscope': '天秤座', 'blood_type': 'O', 'profession': 6.0, 'hometown_province': '浙江', 'hometown_city': '杭州', 'ethnic': 56.0, 'university': '浙江大学'}}, {'_index': 'test_index', '_id': '102784991', '_score': 1.0, '_source': {'nick': '小羽', 'gender': 'male', 'marry_state': 0, 'height': 181, 'weight': 47, 'education': 5, 'residence_city': '朝阳', 'age': 37, 'interest': '[网络, 音乐, 体育运动, 旅游, 电子游戏, 中国菜, 烧烤, 巧克力和甜点, 文学, 动漫与幽默, 历史传记, 动作冒险, 科幻魔幻, 悬疑推理, 动画, 体育赛事, 相声曲艺, 饭店, 电影院, 卡拉OK, 体育馆, 在自己或朋友家里, 秀美山水, 小桥流水人家]', 'self_introduce': '挺懒的，懒得写这块，又挺急的，急着找对象。哎，委屈下我自己，动动笔吧。哈哈————————————————就先来个自评吧。你在看的这位帅哥，有点老了，86年的，年轻的时候那也是妥妥的回头率8成的小鲜肉一枚，可惜，时光这把杀猪刀割的有点狠。把”小鲜”都给割掉了，只剩块肉了。————————————————话说回来，好歹还是块肉，还有那么点嚼劲呢。也算风韵犹存吧。物质上呢，有房有车有稳定收入，不能说多优质。只是值得庆幸的是，我一直挺老实，也没培养出什么奢侈的追求，所以生活也就没什么压力。精神上呢，没什么精神，挺晚的了，困。————————————————-正经点吧！倔强的总是以为自己还是曾经的青葱少年，倔强的总是认为爱情会自己找来。但是时光告诉我，它更倔强，它貌似跟我不熟，不会对此网开一面。所以，我来了这里。更真诚的期待能在这里得到爱情的眷顾。找到另一半，牵着手，一起走，互相分享快乐，互相倾诉烦恼。偶尔冲那位倔强的时光打个招呼，然后依偎在一起，幸福的慢慢变老。__ _____________________补充一些，我属于比较接地气的普通人，会聊这顿的油盐柴米，明天的烤串啤酒大排档，未来某天的自驾游，也会宅在家玩会游戏，看看电影，看看综艺，听听小说相声，偶尔出门运动运动，跑跑步打打球。总之，俗人一枚，生活中也没有太多的仪式感。要真去吃个什么米其林，看个音乐会，也能看，但不会有什么陶冶情操的感觉，跟吃个麻辣烫，听个小剧场相声一个感觉，香就是好的。我呢，有房有车，就算不工作也有稳定收入，我目前也没什么太大的事业心，要做出什么大成就，每天多陪陪家人，周末带着老婆孩子玩一玩，逛一逛，健健康康，享受生活，慢慢记住生活，记录生活就知足了。______________', 'income': 2.0, 'horoscope': '双子座', 'blood_type': 'A', 'profession': 26.0, 'hometown_city': '北京朝阳', 'ethnic': 56.0}}, {'_index': 'test_index', '_id': '81312178', '_score': 1.0, '_source': {'nick': '南城阿牛', 'gender': 'male', 'marry_state': 0, 'height': 178, 'weight': 53, 'education': 5, 'residence_city': '南京', 'age': 30, 'interest': '[摄影, 音乐, 中国菜, 悬疑推理, 商场, 电影院, 逛街, 惬意海岛, 繁华都市, 风情名城, 历史遗迹]', 'self_introduce': '我是南京人 93年双鱼座 身高178 IT男。爱好：摄影、健身、弹吉他这个年纪应该为了自己的终生大事考虑考虑了，所以真心寻求一位我的另一半，希望你性格温顺，有自己的想法，如果肤白又爱笑，就更加分啦。我是个浪漫随性的人，生活是现实的，也是多彩的，我需要你陪我游遍千山万水，你需要我陪你度过春夏秋冬。', 'income': 2.0, 'horoscope': '双鱼座', 'profession': 3.0, 'hometown_province': '江苏', 'hometown_city': '南京', 'ethnic': 56.0}}, {'_index': 'test_index', '_id': '141511789', '_score': 1.0, '_source': {'nick': '水水小鱼', 'gender': 'male', 'marry_state': 1, 'height': 172, 'weight': 71, 'education': 5, 'residence_city': '海淀', 'age': 40, 'interest': '[网络, 汽车, 音乐, 烹饪, 旅游, 中国菜, 泰国菜, 法国菜, 俄罗斯菜, 烧烤, 校园青春, 励志与成功, 动漫与幽默, 政治与军事, 历史传记, 爱情, 喜剧, 动作冒险, 科幻魔幻, 悬疑推理, 政治事件, 娱乐八卦, 体育赛事, 影视热片, 休闲生活, 饭店, 商场, 电影院, 卡拉OK, 逛街, 惬意海岛, 名山古刹, 繁华都市, 风情名城, 秀美山水]', 'self_introduce': '北京土著爷们，简单的3口之家，独生子女，父母居住在海淀区圆明园附近的自家平房，我自己居住在海淀区上地附近一小区，学历大本，*党员，并在部队退伍以后，进去一家事业单位，任文职工作。有正事工作，此外每月还有一定的房租收入，有自己的独立住房和车辆，工作生活稳定。军旅生涯的历练让我格外坚强刚毅，使我在工作中积极进取，生活中勤劳肯干，任何家务皆能自理，空闲十分还可自制几道小菜，爱好音乐，电影，运动，美食，旅游等等，对于高品质生活有自己独有的见解和追求。不知道您看过我的资料感觉合适吗？我想寻找一位心灵相通，相互理解，开开心心的另一半，如果您是的话，那就赶快联系我吧，因为我深信真正的幸福不是他人恩赐得到的，而是靠自己创造付出拥有的！', 'income': 2.0, 'horoscope': '天秤座', 'blood_type': 'B', 'profession': 8.0, 'hometown_city': '北京海淀', 'ethnic': 56.0, 'university': '中共中央党校'}}, {'_index': 'test_index', '_id': '297067621', '_score': 1.0, '_source': {'nick': '许诺', 'gender': 'male', 'marry_state': 1, 'height': 174, 'weight': 80, 'education': 5, 'residence_city': '汕头', 'age': 47, 'self_introduce': '从颜值开始。哈。哈。我是一名医生，住市区金平区，老家鮀浦，老了我大几率会选择回归牛田洋的田园生活，有意者同行哈。离异是因为我在国外多年，聚少离多，感情不知不觉淡化了，和平分手，孩子归她。我的择友信息很简单，不符合者请勿扰。我不会挑剔，也不敢挑剔，因为人生苦短。这是我的基本情况。', 'income': 2.0, 'horoscope': '摩羯座', 'hometown_province': '广东', 'hometown_city': '汕头', 'ethnic': 56.0}}, {'_index': 'test_index', '_id': '391293003', '_score': 1.0, '_source': {'nick': '0', 'gender': 'male', 'marry_state': 1, 'height': 179, 'weight': 76, 'education': 5, 'residence_city': '深圳', 'age': 47, 'self_introduce': '关于再婚：虽然婚姻在当今社会已形同儿戏。但婚姻不是男女激情，更不是一时冲动，而是两个成熟灵魂通过相识相知，慎重诚恳的选择。重组家庭，对有失败婚姻经历的人，都需要巨大的勇气。请修复好前一段婚姻带来的心灵创伤，再开始一段新的情感和婚姻，我不是情绪安慰剂，也不是自恋型人格魅力的见证人。关于再婚后的孩子父母照顾问题：我要是选择你，会对你的孩子视如己出，用心照顾，呵护，养育，对你的父母也是一样，但不代表作为你丈夫的责任，希望我们两人为了家同心协力，共同呵护家庭和家人，（注明）个人主义，想找合作伙伴的，请不要给我发信，谢谢，有些时候不打扰也是一种礼貌！我性格开朗乐观；虽不能做上绝味佳肴，却懂得生活的讲究；喜欢音乐；喜欢运动，经常晨起来锻练，喜欢的事情很多，希望有一人能和我一起去发现美，感受美！希望你温柔贤惠、性格开朗，纵使生活给了我们很多历练和考验，愿往后余生，相敬如宾、相濡以沫、相辅相成！生活不止眼前的苟且，还有诗和远方！', 'income': 2.0, 'horoscope': '双子座'}}]}}\n"
     ]
    }
   ],
   "source": [
    "# 查询所有\n",
    "res = es.search(index=\"test_index\",  query={'match_all':{}})\n",
    "print(res)"
   ]
  },
  {
   "attachments": {},
   "cell_type": "markdown",
   "metadata": {},
   "source": [
    "##### 模糊查询匹配"
   ]
  },
  {
   "cell_type": "code",
   "execution_count": 154,
   "metadata": {},
   "outputs": [
    {
     "name": "stdout",
     "output_type": "stream",
     "text": [
      "A: {'took': 1, 'timed_out': False, '_shards': {'total': 2, 'successful': 2, 'skipped': 0, 'failed': 0}, 'hits': {'total': {'value': 0, 'relation': 'eq'}, 'max_score': None, 'hits': []}}\n",
      "B: {'took': 1, 'timed_out': False, '_shards': {'total': 2, 'successful': 2, 'skipped': 0, 'failed': 0}, 'hits': {'total': {'value': 1, 'relation': 'eq'}, 'max_score': 4.591747, 'hits': [{'_index': 'test_index', '_id': '49575145', '_score': 4.591747, '_source': {'nick': '我心飞翔', 'gender': 'male', 'marry_state': 0, 'height': 173, 'weight': 90, 'education': 7, 'residence_city': '九龙坡', 'age': 47, 'interest': '[网络, 动物, 烹饪, 读书, 计算机, 中国菜, 健康食品, 励志与成功, 政治与军事, 哲学与宗教, 健康与养生, 自然科学, 动作冒险, 战争, 纪录片, 历史传记, 政治事件, 畅销书, 休闲生活, 行业发展, 饭店, 卡拉OK, 名山古刹, 风情名城, 高原雪域, 历史遗迹, 峻秀峡谷]', 'self_introduce': '真诚交友，非诚勿扰！介绍一下自己，我在一家国企工作，工作很忙，事情也很多，但相对来讲工作比较稳定，收入也还可以。这几年为了提升自己，又用周末时间重返校园攻读研究生硕士，所以这几年基本上是5+2、白+黑的状态，也耽误了婚姻大事。我属兔，农历是75年12月，公历是76年1月，个人有点小迷信，我希望最好能找属狗、猪、羊或其次是属兔、猴、虎的女朋友，同时我长得比较年轻，基本上看不出40多岁，所以希望女方年龄也不要超过38岁。我没有结过婚，也希望找个未婚的女性。异地恋也不太方便，成功的可能性不大，我也耽误不起时间了，我主要是在主城区范围内活动，所以希望找个在主城区工作和生活的女朋友。谢谢！如果双方交往感觉不错的话，我也希望能尽快的买房结婚，早点安定下来。其他的也不知道要说什么，一切随缘吧！', 'income': 2.0, 'horoscope': '摩羯座', 'blood_type': 'B', 'profession': 7.0, 'hometown_city': '重庆九龙坡', 'ethnic': 56.0, 'university': '重庆工商大学'}}]}}\n",
      "C: {'took': 1, 'timed_out': False, '_shards': {'total': 2, 'successful': 2, 'skipped': 0, 'failed': 0}, 'hits': {'total': {'value': 0, 'relation': 'eq'}, 'max_score': None, 'hits': []}}\n",
      "D: {'took': 1, 'timed_out': False, '_shards': {'total': 2, 'successful': 2, 'skipped': 0, 'failed': 0}, 'hits': {'total': {'value': 0, 'relation': 'eq'}, 'max_score': None, 'hits': []}}\n",
      "E: {'took': 1, 'timed_out': False, '_shards': {'total': 2, 'successful': 2, 'skipped': 0, 'failed': 0}, 'hits': {'total': {'value': 1, 'relation': 'eq'}, 'max_score': 4.591747, 'hits': [{'_index': 'test_index', '_id': '49575145', '_score': 4.591747, '_source': {'nick': '我心飞翔', 'gender': 'male', 'marry_state': 0, 'height': 173, 'weight': 90, 'education': 7, 'residence_city': '九龙坡', 'age': 47, 'interest': '[网络, 动物, 烹饪, 读书, 计算机, 中国菜, 健康食品, 励志与成功, 政治与军事, 哲学与宗教, 健康与养生, 自然科学, 动作冒险, 战争, 纪录片, 历史传记, 政治事件, 畅销书, 休闲生活, 行业发展, 饭店, 卡拉OK, 名山古刹, 风情名城, 高原雪域, 历史遗迹, 峻秀峡谷]', 'self_introduce': '真诚交友，非诚勿扰！介绍一下自己，我在一家国企工作，工作很忙，事情也很多，但相对来讲工作比较稳定，收入也还可以。这几年为了提升自己，又用周末时间重返校园攻读研究生硕士，所以这几年基本上是5+2、白+黑的状态，也耽误了婚姻大事。我属兔，农历是75年12月，公历是76年1月，个人有点小迷信，我希望最好能找属狗、猪、羊或其次是属兔、猴、虎的女朋友，同时我长得比较年轻，基本上看不出40多岁，所以希望女方年龄也不要超过38岁。我没有结过婚，也希望找个未婚的女性。异地恋也不太方便，成功的可能性不大，我也耽误不起时间了，我主要是在主城区范围内活动，所以希望找个在主城区工作和生活的女朋友。谢谢！如果双方交往感觉不错的话，我也希望能尽快的买房结婚，早点安定下来。其他的也不知道要说什么，一切随缘吧！', 'income': 2.0, 'horoscope': '摩羯座', 'blood_type': 'B', 'profession': 7.0, 'hometown_city': '重庆九龙坡', 'ethnic': 56.0, 'university': '重庆工商大学'}}]}}\n"
     ]
    }
   ],
   "source": [
    "# keyword字段\n",
    "res = es.search(index=\"test_index\",  query={'match':{'nick':'我心'}})\n",
    "print(\"A:\", res)\n",
    "res = es.search(index=\"test_index\",  query={'match':{'nick':'我心飞翔'}})\n",
    "print(\"B:\", res)\n",
    "res = es.search(index=\"test_index\",  query={'match_phrase':{'nick':'我心'}})\n",
    "print(\"C:\", res)\n",
    "res = es.search(index=\"test_index\",  query={'match_phrase':{'nick':'飞翔'}})\n",
    "print(\"D:\", res)\n",
    "res = es.search(index=\"test_index\",  query={'match_phrase':{'nick':'我心飞翔'}})\n",
    "print(\"E:\", res)"
   ]
  },
  {
   "cell_type": "code",
   "execution_count": 155,
   "metadata": {},
   "outputs": [
    {
     "name": "stdout",
     "output_type": "stream",
     "text": [
      "A: {'took': 5, 'timed_out': False, '_shards': {'total': 2, 'successful': 2, 'skipped': 0, 'failed': 0}, 'hits': {'total': {'value': 16, 'relation': 'eq'}, 'max_score': 2.579227, 'hits': [{'_index': 'test_index', '_id': '13941921', '_score': 2.579227, '_source': {'nick': '洛陽塵', 'gender': 'female', 'marry_state': 0, 'height': 167, 'weight': 45, 'education': 4, 'residence_city': '深圳', 'age': 40, 'interest': '[中国菜, 巧克力和甜点, 励志与成功, 动漫与幽默, 动作冒险, 悬疑推理, 战争, 剧情, 电影院, 咖啡厅, 惬意海岛, 名山古刹, 高原雪域, 秀美山水, 历史遗迹]', 'self_introduce': '资料错了,巨蟹座。蓦然回首心戚戚，有缘的他你在哪？在熟人眼里我是个善良、温柔美丽的贤妻良母型女孩。在男生眼里，我是那种80％会喜欢，20％也不会讨厌的女生。只可惜自己属于晚熟型品种，又兼具追求完美的劣性。番然醒悟时，身边优秀的男生已被瓜分殆尽。现在的生活和学习空间相对狭窄，又无太多的时间广泛社交。所以网络交友成了我的一份希望。我来到这里，是因为大家都是热爱生活，想寻找爱情的人，彼此交往应以真诚沟通和相互信任为基础。我希望能在这里邂逅美丽的爱情，找到一生的幸福。理想中的他应该是：智慧善良、幽默大度、积极上进、乐观、有担当、足够真诚的男士，嗯,就是这样。最后,感谢浏览我资料和关注我的朋友祝福你们早日找到心仪的伴侣祝大家好运！！！', 'income': 2.0, 'horoscope': '双子座', 'blood_type': 'B', 'profession': 26.0, 'hometown_province': '湖南', 'hometown_city': '常德', 'ethnic': 56.0}}, {'_index': 'test_index', '_id': '101413172', '_score': 2.4467185, '_source': {'nick': '宁静的夏天', 'gender': 'female', 'marry_state': 1, 'height': 165, 'weight': 87, 'education': 4, 'residence_city': '西安', 'age': 37, 'interest': '[中国菜, 健康食品, 素食, 巧克力和甜点, 励志与成功, 娱乐时尚, 什么都看, 爱情, 古装武侠]', 'self_introduce': '离婚独自带孩子（女孩），前夫在外省定居，所以离婚没联系，关于来看孩子的问题，分开时就沟通好了，无探视权，请不要再纠结此问题。寻找一个工作稳定，性格稳定，爱干净，心地善良，三观正，顾家的男人。我不抽烟喝酒，没有不良嗜好，自认为还比较通情达理，愿尽快寻找合适的对象结束单身。', 'income': 1.0, 'horoscope': '天蝎座', 'blood_type': 'B', 'profession': 26.0, 'hometown_province': '陕西', 'hometown_city': '西安', 'ethnic': 56.0}}, {'_index': 'test_index', '_id': '347279025', '_score': 2.3641396, '_source': {'nick': '以诺', 'gender': 'female', 'marry_state': 0, 'height': 172, 'weight': 99, 'education': 4, 'residence_city': '普陀', 'age': 34, 'interest': '[网络, 音乐, 手工艺, 中国菜, 烧烤, 快餐, 巧克力和甜点, 烹饪与饮食, 爱情, 喜剧, 动作冒险, 古装武侠, 音乐歌舞, 相声曲艺, 休闲生活, 电影院, 在自己或朋友家里, 秀美山水, 历史遗迹, 江河大川]', 'self_introduce': '朋友们都说我性格大大咧咧，喜欢弹弹琴 唱唱歌，一直向往相濡以沫的生活，希望对方是一个孝顺有责任心 成熟稳重 脾气性格好的男孩，我在这里等着一份缘定的爱情，等着你的到来。', 'income': 1.0, 'horoscope': '巨蟹座', 'blood_type': 'O', 'profession': 20.0, 'hometown_province': '辽宁', 'hometown_city': '鞍山', 'ethnic': 56.0, 'university': '江南大学'}}, {'_index': 'test_index', '_id': '307363422', '_score': 2.182164, '_source': {'nick': '光芒星', 'gender': 'female', 'marry_state': 0, 'height': 164, 'weight': 68, 'education': 5, 'residence_city': '广州', 'age': 25, 'interest': '[音乐, 园艺, 舞蹈, 绘画, 旅游, 中国菜, 泰国菜, 巧克力和甜点, 动漫与幽默, 动作冒险, 悬疑推理, 什么都看, 娱乐八卦, 相声曲艺, 休闲生活, 电影院, 音乐会, 温泉, 名山古刹, 风情名城, 秀美山水, 江河大川, 小桥流水人家]', 'self_introduce': '我生于1998年5月份，性格活泼、开朗、率性！随着年龄的增长，我已经步入了婚嫁的黄金期，为了配合我人生重要的阶段，也为了让亲人们少操点心，选择了这里，希望我好运满满，遇到合适的男生！我从小在广州长大，已经习惯了广东的气候和风土人情，所以我只找广东省内的男孩，年龄必须是23---29之间，身高必须175以上，最少大专学历，否则，很抱歉！将不会回复。', 'income': 1.0, 'horoscope': '双子座', 'hometown_province': '广东', 'hometown_city': '广州', 'ethnic': 56.0}}, {'_index': 'test_index', '_id': '227933228', '_score': 2.1012921, '_source': {'nick': '点绛唇', 'gender': 'female', 'marry_state': 2, 'height': 166, 'weight': 63, 'education': 5, 'residence_city': '保定', 'age': 50, 'interest': '[摄影, 音乐, 购物, 烹饪, 中国菜, 健康食品, 巧克力和甜点, 艺术与摄影, 烹饪与饮食, 旅游, 投资理财, 娱乐时尚, 爱情, 喜剧, 悬疑推理, 音乐歌舞, 相声曲艺, 休闲生活, 饭店, 商场, 图书馆/书店, 咖啡厅, 其它, 惬意海岛, 名山古刹, 风情名城, 秀美山水, 历史遗迹]', 'self_introduce': '有意男士，请您不吝贴付一枚邮票，看不到您的信息无法回复。我是独立，温柔，细心，持家的女士，恬静优雅，身材适中，生活状态比较安逸，心情“平平淡淡，从从容容”，觅合得来的伴儿，彼此都愿意包容对方，希望你是个整洁大方儒雅的人，彼此相处能够做真实的自己，在一起时轻松愉悦，无需费力伪装。心胸狭隘，大男子主义，偷懒耍滑，小里小气的本人接受不了。不真实真诚者勿扰！小男孩勿扰！更没时间应付骗子！希望优秀的男士一起携手，幸福相伴。很简单，却不易，一起努力！（本人原创心声）', 'income': 1.0, 'horoscope': '摩羯座', 'blood_type': 'O', 'profession': 4.0, 'hometown_city': '北京朝阳', 'ethnic': 56.0}}, {'_index': 'test_index', '_id': '367982181', '_score': 2.0361962, '_source': {'nick': '左手指月', 'gender': 'female', 'marry_state': 0, 'height': 157, 'weight': 72, 'education': 5, 'residence_city': '深圳', 'age': 34, 'interest': '[摄影, 影视, 音乐, 烹饪, 读书, 中国菜, 日本菜, 健康食品, 巧克力和甜点, 艺术与摄影, 运动健身, 烹饪与饮食, 旅游, 自然科学, 惬意海岛, 秀美山水, 历史遗迹]', 'self_introduce': '木末芙蓉花，山中发红萼。涧户寂无人，纷纷开且落。性格偏晚熟，外企工作，现在我准备好了。', 'income': 2.0, 'horoscope': '射手座', 'blood_type': 'AB', 'profession': 20.0, 'hometown_province': '湖南', 'ethnic': 56.0}}, {'_index': 'test_index', '_id': '232124357', '_score': 1.8580518, '_source': {'nick': '沙漏', 'gender': 'female', 'marry_state': 1, 'height': 167, 'weight': 80, 'education': 7, 'residence_city': '西安', 'age': 62, 'interest': '[手工艺, 烹饪, 读书, 绘画, 计算机, 中国菜, 巧克力和甜点, 历史传记, 烹饪与饮食, 人文社科, 自然科学, 图书馆/书店, 咖啡厅, 在自己或朋友家里, 小桥流水人家]', 'self_introduce': '我喜欢咖啡，淡淡的清香。咖啡演绎一个江南女人对它的情缘，邀约您在午后，山的那边、海的这头品味如同生活一样的滋味。(备注：年龄填写大了，系统无法更改。大专以下文化，条件不符请勿留言。谢谢！）备注：我离婚非夫妻之间矛盾是丁克家庭不被宗族认可，不得已为婆婆离婚。', 'income': 1.0, 'horoscope': '摩羯座', 'hometown_province': '浙江', 'hometown_city': '杭州', 'university': '香港中文大学'}}, {'_index': 'test_index', '_id': '391174418', '_score': 1.800946, '_source': {'nick': '旺仔小馒头', 'gender': 'female', 'marry_state': 0, 'height': 171, 'weight': 69, 'education': 5, 'residence_city': '浦东新区', 'age': 29, 'interest': '[音乐, 购物, 园艺, 舞蹈, 旅游, 中国菜, 烧烤, 健康食品, 素食, 巧克力和甜点, 动漫与幽默, 历史传记, 运动健身, 健康与养生, 旅游, 爱情, 古装武侠, 科幻魔幻, 惊悚恐怖, 战争, 理财投资, 相声曲艺, 海选活动, 影视热片, 休闲生活, 酒吧, 电影院, 迪斯科, 图书馆/书店, 咖啡厅, 高原雪域, 秀美山水, 江河大川, 峻秀峡谷, 小桥流水人家]', 'self_introduce': '朋友们都说我性格直率，活泼。幽默，平时喜欢瑜伽，看电影，爬山什么的，一直向往吃喝玩乐，无忧无虑的生活，期待可以碰到一个相貌堂堂，为人正直，一表人才的男孩，我在这里等着一份缘定的爱情，等着你的到来。', 'income': 2.0, 'horoscope': '双鱼座', 'blood_type': 'B', 'ethnic': 56.0}}, {'_index': 'test_index', '_id': '260792228', '_score': 1.7455032, '_source': {'nick': 'Theresa', 'gender': 'female', 'marry_state': 2, 'height': 158, 'weight': 83, 'education': 7, 'residence_city': '比利时', 'age': 60, 'interest': '[汽车, 音乐, 园艺, 读书, 旅游, 中国菜, 烧烤, 健康食品, 素食, 巧克力和甜点, 文学, 励志与成功, 健康与养生, 烹饪与饮食, 娱乐时尚, 爱情, 喜剧, 悬疑推理, 音乐歌舞, 剧情, 政治事件, 娱乐八卦, 相声曲艺, 影视热片, 休闲生活, 饭店, 商场, 电影院, 音乐会, 在自己或朋友家里, 惬意海岛, 风情名城, 秀美山水, 峻秀峡谷, 小桥流水人家]', 'self_introduce': 'Scammers please get away get out of my view！不是真诚交友寻偶的骗子，请远离我的视线！我独身独立但不孤独,于千万人之中遇到想要遇到的你.遇知音,牵手共夕阳,许半生缘.你若愿意陪我浪迹天涯,我愿与你遨游海角. 不求一段浪漫,只求余生相爱相伴相随.前世今生,咫尺天涯, 缘于初始，爱从心开始。我1963年出生于书香门第之家，性格内向,温柔善良,勤奋操家理业,知书达理,独立自强.喜欢音乐，读书旅游。择偶年龄上下不越五为佳。最好有国外旅居经历,最好居住在欧洲，要会讲英文，本人已在欧洲居住三十余年。我的孩儿都已成年。相片摄于2021-2023年。您收到的信息以&#039;先生你好&#039;问候开始的才是我为! （非付费会员）期待真诚美好的遇见.', 'income': 4.0, 'horoscope': '水瓶座', 'blood_type': 'O', 'profession': 26.0, 'hometown_province': '其他', 'hometown_city': '其他', 'ethnic': 56.0, 'university': '国外某大学'}}, {'_index': 'test_index', '_id': '355423483', '_score': 1.708571, '_source': {'nick': '亦涵', 'gender': 'female', 'marry_state': 1, 'height': 167, 'weight': 71, 'education': 5, 'residence_city': '朝阳', 'age': 47, 'interest': '[汽车, 绘画, 体育运动, 旅游, 中国菜, 法国菜, 意大利菜, 巧克力和甜点, 哲学与宗教, 健康与养生, 人文社科, 收藏与鉴赏, 喜剧, 动作冒险, 其他, 饭店, 剧院, 音乐会, 体育馆, 惬意海岛, 风情名城, 秀美山水, 历史遗迹, 江河大川]', 'self_introduce': '好看的皮囊千篇一律，有趣的灵魂万里挑一生长在军队大院，具有很好的家庭背景、教育背景、价值道德观、见识、修养和胸怀。旅行过世界很多国家，奉读万卷书行万里路为人生浪漫，生活没有苟且，确有诗和远方。为人真诚善良，智商高，高雅不失幽默，行立不失亲和，自律且享受生活。爱好极其广泛，绘画具有天赋，热爱健身、运动、户外和大自然如皮划艇、山地车、匹克球（4.0 level）、远足、太极… 音乐、舞蹈、艺术、博物馆、哲学、中国思想文化、旅行。自驾过中国所有省市自治区包括新疆西藏，自行设计路线开车横穿北美大陆、加拿大、欧州阿联酋等很多国家，通过路虎体验中心越野驾驶培训证书。现生活在美国宾州，有长居但未选择入籍。没有地域的牵绊或限制。出国前生活在北京，北京有房产。父母军人退休在天津，所以国内以京津为主要居住地。我可以生活在任何地方，重要的是人。对方条件：有良好的教育和家庭背景，为人大气正直有责任感。有运动旅行方面的爱好更佳没照片的来信者请恕不复。特殊原因请注明。请尊重彼此的时间勿试勿扰。谢。对了，谁会打匹克球或知道哪里打，招呼一声哈。', 'income': 4.0, 'horoscope': '水瓶座', 'blood_type': 'A', 'profession': 7.0, 'hometown_city': '北京', 'ethnic': 56.0}}]}}\n",
      "B: {'took': 15, 'timed_out': False, '_shards': {'total': 2, 'successful': 2, 'skipped': 0, 'failed': 0}, 'hits': {'total': {'value': 16, 'relation': 'eq'}, 'max_score': 7.737681, 'hits': [{'_index': 'test_index', '_id': '13941921', '_score': 7.737681, '_source': {'nick': '洛陽塵', 'gender': 'female', 'marry_state': 0, 'height': 167, 'weight': 45, 'education': 4, 'residence_city': '深圳', 'age': 40, 'interest': '[中国菜, 巧克力和甜点, 励志与成功, 动漫与幽默, 动作冒险, 悬疑推理, 战争, 剧情, 电影院, 咖啡厅, 惬意海岛, 名山古刹, 高原雪域, 秀美山水, 历史遗迹]', 'self_introduce': '资料错了,巨蟹座。蓦然回首心戚戚，有缘的他你在哪？在熟人眼里我是个善良、温柔美丽的贤妻良母型女孩。在男生眼里，我是那种80％会喜欢，20％也不会讨厌的女生。只可惜自己属于晚熟型品种，又兼具追求完美的劣性。番然醒悟时，身边优秀的男生已被瓜分殆尽。现在的生活和学习空间相对狭窄，又无太多的时间广泛社交。所以网络交友成了我的一份希望。我来到这里，是因为大家都是热爱生活，想寻找爱情的人，彼此交往应以真诚沟通和相互信任为基础。我希望能在这里邂逅美丽的爱情，找到一生的幸福。理想中的他应该是：智慧善良、幽默大度、积极上进、乐观、有担当、足够真诚的男士，嗯,就是这样。最后,感谢浏览我资料和关注我的朋友祝福你们早日找到心仪的伴侣祝大家好运！！！', 'income': 2.0, 'horoscope': '双子座', 'blood_type': 'B', 'profession': 26.0, 'hometown_province': '湖南', 'hometown_city': '常德', 'ethnic': 56.0}}, {'_index': 'test_index', '_id': '101413172', '_score': 7.3401556, '_source': {'nick': '宁静的夏天', 'gender': 'female', 'marry_state': 1, 'height': 165, 'weight': 87, 'education': 4, 'residence_city': '西安', 'age': 37, 'interest': '[中国菜, 健康食品, 素食, 巧克力和甜点, 励志与成功, 娱乐时尚, 什么都看, 爱情, 古装武侠]', 'self_introduce': '离婚独自带孩子（女孩），前夫在外省定居，所以离婚没联系，关于来看孩子的问题，分开时就沟通好了，无探视权，请不要再纠结此问题。寻找一个工作稳定，性格稳定，爱干净，心地善良，三观正，顾家的男人。我不抽烟喝酒，没有不良嗜好，自认为还比较通情达理，愿尽快寻找合适的对象结束单身。', 'income': 1.0, 'horoscope': '天蝎座', 'blood_type': 'B', 'profession': 26.0, 'hometown_province': '陕西', 'hometown_city': '西安', 'ethnic': 56.0}}, {'_index': 'test_index', '_id': '347279025', '_score': 7.0924187, '_source': {'nick': '以诺', 'gender': 'female', 'marry_state': 0, 'height': 172, 'weight': 99, 'education': 4, 'residence_city': '普陀', 'age': 34, 'interest': '[网络, 音乐, 手工艺, 中国菜, 烧烤, 快餐, 巧克力和甜点, 烹饪与饮食, 爱情, 喜剧, 动作冒险, 古装武侠, 音乐歌舞, 相声曲艺, 休闲生活, 电影院, 在自己或朋友家里, 秀美山水, 历史遗迹, 江河大川]', 'self_introduce': '朋友们都说我性格大大咧咧，喜欢弹弹琴 唱唱歌，一直向往相濡以沫的生活，希望对方是一个孝顺有责任心 成熟稳重 脾气性格好的男孩，我在这里等着一份缘定的爱情，等着你的到来。', 'income': 1.0, 'horoscope': '巨蟹座', 'blood_type': 'O', 'profession': 20.0, 'hometown_province': '辽宁', 'hometown_city': '鞍山', 'ethnic': 56.0, 'university': '江南大学'}}, {'_index': 'test_index', '_id': '307363422', '_score': 6.5464916, '_source': {'nick': '光芒星', 'gender': 'female', 'marry_state': 0, 'height': 164, 'weight': 68, 'education': 5, 'residence_city': '广州', 'age': 25, 'interest': '[音乐, 园艺, 舞蹈, 绘画, 旅游, 中国菜, 泰国菜, 巧克力和甜点, 动漫与幽默, 动作冒险, 悬疑推理, 什么都看, 娱乐八卦, 相声曲艺, 休闲生活, 电影院, 音乐会, 温泉, 名山古刹, 风情名城, 秀美山水, 江河大川, 小桥流水人家]', 'self_introduce': '我生于1998年5月份，性格活泼、开朗、率性！随着年龄的增长，我已经步入了婚嫁的黄金期，为了配合我人生重要的阶段，也为了让亲人们少操点心，选择了这里，希望我好运满满，遇到合适的男生！我从小在广州长大，已经习惯了广东的气候和风土人情，所以我只找广东省内的男孩，年龄必须是23---29之间，身高必须175以上，最少大专学历，否则，很抱歉！将不会回复。', 'income': 1.0, 'horoscope': '双子座', 'hometown_province': '广东', 'hometown_city': '广州', 'ethnic': 56.0}}, {'_index': 'test_index', '_id': '227933228', '_score': 6.3038764, '_source': {'nick': '点绛唇', 'gender': 'female', 'marry_state': 2, 'height': 166, 'weight': 63, 'education': 5, 'residence_city': '保定', 'age': 50, 'interest': '[摄影, 音乐, 购物, 烹饪, 中国菜, 健康食品, 巧克力和甜点, 艺术与摄影, 烹饪与饮食, 旅游, 投资理财, 娱乐时尚, 爱情, 喜剧, 悬疑推理, 音乐歌舞, 相声曲艺, 休闲生活, 饭店, 商场, 图书馆/书店, 咖啡厅, 其它, 惬意海岛, 名山古刹, 风情名城, 秀美山水, 历史遗迹]', 'self_introduce': '有意男士，请您不吝贴付一枚邮票，看不到您的信息无法回复。我是独立，温柔，细心，持家的女士，恬静优雅，身材适中，生活状态比较安逸，心情“平平淡淡，从从容容”，觅合得来的伴儿，彼此都愿意包容对方，希望你是个整洁大方儒雅的人，彼此相处能够做真实的自己，在一起时轻松愉悦，无需费力伪装。心胸狭隘，大男子主义，偷懒耍滑，小里小气的本人接受不了。不真实真诚者勿扰！小男孩勿扰！更没时间应付骗子！希望优秀的男士一起携手，幸福相伴。很简单，却不易，一起努力！（本人原创心声）', 'income': 1.0, 'horoscope': '摩羯座', 'blood_type': 'O', 'profession': 4.0, 'hometown_city': '北京朝阳', 'ethnic': 56.0}}, {'_index': 'test_index', '_id': '367982181', '_score': 6.1085887, '_source': {'nick': '左手指月', 'gender': 'female', 'marry_state': 0, 'height': 157, 'weight': 72, 'education': 5, 'residence_city': '深圳', 'age': 34, 'interest': '[摄影, 影视, 音乐, 烹饪, 读书, 中国菜, 日本菜, 健康食品, 巧克力和甜点, 艺术与摄影, 运动健身, 烹饪与饮食, 旅游, 自然科学, 惬意海岛, 秀美山水, 历史遗迹]', 'self_introduce': '木末芙蓉花，山中发红萼。涧户寂无人，纷纷开且落。性格偏晚熟，外企工作，现在我准备好了。', 'income': 2.0, 'horoscope': '射手座', 'blood_type': 'AB', 'profession': 20.0, 'hometown_province': '湖南', 'ethnic': 56.0}}, {'_index': 'test_index', '_id': '232124357', '_score': 5.5741553, '_source': {'nick': '沙漏', 'gender': 'female', 'marry_state': 1, 'height': 167, 'weight': 80, 'education': 7, 'residence_city': '西安', 'age': 62, 'interest': '[手工艺, 烹饪, 读书, 绘画, 计算机, 中国菜, 巧克力和甜点, 历史传记, 烹饪与饮食, 人文社科, 自然科学, 图书馆/书店, 咖啡厅, 在自己或朋友家里, 小桥流水人家]', 'self_introduce': '我喜欢咖啡，淡淡的清香。咖啡演绎一个江南女人对它的情缘，邀约您在午后，山的那边、海的这头品味如同生活一样的滋味。(备注：年龄填写大了，系统无法更改。大专以下文化，条件不符请勿留言。谢谢！）备注：我离婚非夫妻之间矛盾是丁克家庭不被宗族认可，不得已为婆婆离婚。', 'income': 1.0, 'horoscope': '摩羯座', 'hometown_province': '浙江', 'hometown_city': '杭州', 'university': '香港中文大学'}}, {'_index': 'test_index', '_id': '391174418', '_score': 5.4028378, '_source': {'nick': '旺仔小馒头', 'gender': 'female', 'marry_state': 0, 'height': 171, 'weight': 69, 'education': 5, 'residence_city': '浦东新区', 'age': 29, 'interest': '[音乐, 购物, 园艺, 舞蹈, 旅游, 中国菜, 烧烤, 健康食品, 素食, 巧克力和甜点, 动漫与幽默, 历史传记, 运动健身, 健康与养生, 旅游, 爱情, 古装武侠, 科幻魔幻, 惊悚恐怖, 战争, 理财投资, 相声曲艺, 海选活动, 影视热片, 休闲生活, 酒吧, 电影院, 迪斯科, 图书馆/书店, 咖啡厅, 高原雪域, 秀美山水, 江河大川, 峻秀峡谷, 小桥流水人家]', 'self_introduce': '朋友们都说我性格直率，活泼。幽默，平时喜欢瑜伽，看电影，爬山什么的，一直向往吃喝玩乐，无忧无虑的生活，期待可以碰到一个相貌堂堂，为人正直，一表人才的男孩，我在这里等着一份缘定的爱情，等着你的到来。', 'income': 2.0, 'horoscope': '双鱼座', 'blood_type': 'B', 'ethnic': 56.0}}, {'_index': 'test_index', '_id': '260792228', '_score': 5.2365093, '_source': {'nick': 'Theresa', 'gender': 'female', 'marry_state': 2, 'height': 158, 'weight': 83, 'education': 7, 'residence_city': '比利时', 'age': 60, 'interest': '[汽车, 音乐, 园艺, 读书, 旅游, 中国菜, 烧烤, 健康食品, 素食, 巧克力和甜点, 文学, 励志与成功, 健康与养生, 烹饪与饮食, 娱乐时尚, 爱情, 喜剧, 悬疑推理, 音乐歌舞, 剧情, 政治事件, 娱乐八卦, 相声曲艺, 影视热片, 休闲生活, 饭店, 商场, 电影院, 音乐会, 在自己或朋友家里, 惬意海岛, 风情名城, 秀美山水, 峻秀峡谷, 小桥流水人家]', 'self_introduce': 'Scammers please get away get out of my view！不是真诚交友寻偶的骗子，请远离我的视线！我独身独立但不孤独,于千万人之中遇到想要遇到的你.遇知音,牵手共夕阳,许半生缘.你若愿意陪我浪迹天涯,我愿与你遨游海角. 不求一段浪漫,只求余生相爱相伴相随.前世今生,咫尺天涯, 缘于初始，爱从心开始。我1963年出生于书香门第之家，性格内向,温柔善良,勤奋操家理业,知书达理,独立自强.喜欢音乐，读书旅游。择偶年龄上下不越五为佳。最好有国外旅居经历,最好居住在欧洲，要会讲英文，本人已在欧洲居住三十余年。我的孩儿都已成年。相片摄于2021-2023年。您收到的信息以&#039;先生你好&#039;问候开始的才是我为! （非付费会员）期待真诚美好的遇见.', 'income': 4.0, 'horoscope': '水瓶座', 'blood_type': 'O', 'profession': 26.0, 'hometown_province': '其他', 'hometown_city': '其他', 'ethnic': 56.0, 'university': '国外某大学'}}, {'_index': 'test_index', '_id': '355423483', '_score': 5.125713, '_source': {'nick': '亦涵', 'gender': 'female', 'marry_state': 1, 'height': 167, 'weight': 71, 'education': 5, 'residence_city': '朝阳', 'age': 47, 'interest': '[汽车, 绘画, 体育运动, 旅游, 中国菜, 法国菜, 意大利菜, 巧克力和甜点, 哲学与宗教, 健康与养生, 人文社科, 收藏与鉴赏, 喜剧, 动作冒险, 其他, 饭店, 剧院, 音乐会, 体育馆, 惬意海岛, 风情名城, 秀美山水, 历史遗迹, 江河大川]', 'self_introduce': '好看的皮囊千篇一律，有趣的灵魂万里挑一生长在军队大院，具有很好的家庭背景、教育背景、价值道德观、见识、修养和胸怀。旅行过世界很多国家，奉读万卷书行万里路为人生浪漫，生活没有苟且，确有诗和远方。为人真诚善良，智商高，高雅不失幽默，行立不失亲和，自律且享受生活。爱好极其广泛，绘画具有天赋，热爱健身、运动、户外和大自然如皮划艇、山地车、匹克球（4.0 level）、远足、太极… 音乐、舞蹈、艺术、博物馆、哲学、中国思想文化、旅行。自驾过中国所有省市自治区包括新疆西藏，自行设计路线开车横穿北美大陆、加拿大、欧州阿联酋等很多国家，通过路虎体验中心越野驾驶培训证书。现生活在美国宾州，有长居但未选择入籍。没有地域的牵绊或限制。出国前生活在北京，北京有房产。父母军人退休在天津，所以国内以京津为主要居住地。我可以生活在任何地方，重要的是人。对方条件：有良好的教育和家庭背景，为人大气正直有责任感。有运动旅行方面的爱好更佳没照片的来信者请恕不复。特殊原因请注明。请尊重彼此的时间勿试勿扰。谢。对了，谁会打匹克球或知道哪里打，招呼一声哈。', 'income': 4.0, 'horoscope': '水瓶座', 'blood_type': 'A', 'profession': 7.0, 'hometown_city': '北京', 'ethnic': 56.0}}]}}\n",
      "C: {'took': 3, 'timed_out': False, '_shards': {'total': 2, 'successful': 2, 'skipped': 0, 'failed': 0}, 'hits': {'total': {'value': 16, 'relation': 'eq'}, 'max_score': 2.579227, 'hits': [{'_index': 'test_index', '_id': '13941921', '_score': 2.579227, '_source': {'nick': '洛陽塵', 'gender': 'female', 'marry_state': 0, 'height': 167, 'weight': 45, 'education': 4, 'residence_city': '深圳', 'age': 40, 'interest': '[中国菜, 巧克力和甜点, 励志与成功, 动漫与幽默, 动作冒险, 悬疑推理, 战争, 剧情, 电影院, 咖啡厅, 惬意海岛, 名山古刹, 高原雪域, 秀美山水, 历史遗迹]', 'self_introduce': '资料错了,巨蟹座。蓦然回首心戚戚，有缘的他你在哪？在熟人眼里我是个善良、温柔美丽的贤妻良母型女孩。在男生眼里，我是那种80％会喜欢，20％也不会讨厌的女生。只可惜自己属于晚熟型品种，又兼具追求完美的劣性。番然醒悟时，身边优秀的男生已被瓜分殆尽。现在的生活和学习空间相对狭窄，又无太多的时间广泛社交。所以网络交友成了我的一份希望。我来到这里，是因为大家都是热爱生活，想寻找爱情的人，彼此交往应以真诚沟通和相互信任为基础。我希望能在这里邂逅美丽的爱情，找到一生的幸福。理想中的他应该是：智慧善良、幽默大度、积极上进、乐观、有担当、足够真诚的男士，嗯,就是这样。最后,感谢浏览我资料和关注我的朋友祝福你们早日找到心仪的伴侣祝大家好运！！！', 'income': 2.0, 'horoscope': '双子座', 'blood_type': 'B', 'profession': 26.0, 'hometown_province': '湖南', 'hometown_city': '常德', 'ethnic': 56.0}}, {'_index': 'test_index', '_id': '101413172', '_score': 2.4467185, '_source': {'nick': '宁静的夏天', 'gender': 'female', 'marry_state': 1, 'height': 165, 'weight': 87, 'education': 4, 'residence_city': '西安', 'age': 37, 'interest': '[中国菜, 健康食品, 素食, 巧克力和甜点, 励志与成功, 娱乐时尚, 什么都看, 爱情, 古装武侠]', 'self_introduce': '离婚独自带孩子（女孩），前夫在外省定居，所以离婚没联系，关于来看孩子的问题，分开时就沟通好了，无探视权，请不要再纠结此问题。寻找一个工作稳定，性格稳定，爱干净，心地善良，三观正，顾家的男人。我不抽烟喝酒，没有不良嗜好，自认为还比较通情达理，愿尽快寻找合适的对象结束单身。', 'income': 1.0, 'horoscope': '天蝎座', 'blood_type': 'B', 'profession': 26.0, 'hometown_province': '陕西', 'hometown_city': '西安', 'ethnic': 56.0}}, {'_index': 'test_index', '_id': '347279025', '_score': 2.3641396, '_source': {'nick': '以诺', 'gender': 'female', 'marry_state': 0, 'height': 172, 'weight': 99, 'education': 4, 'residence_city': '普陀', 'age': 34, 'interest': '[网络, 音乐, 手工艺, 中国菜, 烧烤, 快餐, 巧克力和甜点, 烹饪与饮食, 爱情, 喜剧, 动作冒险, 古装武侠, 音乐歌舞, 相声曲艺, 休闲生活, 电影院, 在自己或朋友家里, 秀美山水, 历史遗迹, 江河大川]', 'self_introduce': '朋友们都说我性格大大咧咧，喜欢弹弹琴 唱唱歌，一直向往相濡以沫的生活，希望对方是一个孝顺有责任心 成熟稳重 脾气性格好的男孩，我在这里等着一份缘定的爱情，等着你的到来。', 'income': 1.0, 'horoscope': '巨蟹座', 'blood_type': 'O', 'profession': 20.0, 'hometown_province': '辽宁', 'hometown_city': '鞍山', 'ethnic': 56.0, 'university': '江南大学'}}, {'_index': 'test_index', '_id': '307363422', '_score': 2.182164, '_source': {'nick': '光芒星', 'gender': 'female', 'marry_state': 0, 'height': 164, 'weight': 68, 'education': 5, 'residence_city': '广州', 'age': 25, 'interest': '[音乐, 园艺, 舞蹈, 绘画, 旅游, 中国菜, 泰国菜, 巧克力和甜点, 动漫与幽默, 动作冒险, 悬疑推理, 什么都看, 娱乐八卦, 相声曲艺, 休闲生活, 电影院, 音乐会, 温泉, 名山古刹, 风情名城, 秀美山水, 江河大川, 小桥流水人家]', 'self_introduce': '我生于1998年5月份，性格活泼、开朗、率性！随着年龄的增长，我已经步入了婚嫁的黄金期，为了配合我人生重要的阶段，也为了让亲人们少操点心，选择了这里，希望我好运满满，遇到合适的男生！我从小在广州长大，已经习惯了广东的气候和风土人情，所以我只找广东省内的男孩，年龄必须是23---29之间，身高必须175以上，最少大专学历，否则，很抱歉！将不会回复。', 'income': 1.0, 'horoscope': '双子座', 'hometown_province': '广东', 'hometown_city': '广州', 'ethnic': 56.0}}, {'_index': 'test_index', '_id': '227933228', '_score': 2.1012921, '_source': {'nick': '点绛唇', 'gender': 'female', 'marry_state': 2, 'height': 166, 'weight': 63, 'education': 5, 'residence_city': '保定', 'age': 50, 'interest': '[摄影, 音乐, 购物, 烹饪, 中国菜, 健康食品, 巧克力和甜点, 艺术与摄影, 烹饪与饮食, 旅游, 投资理财, 娱乐时尚, 爱情, 喜剧, 悬疑推理, 音乐歌舞, 相声曲艺, 休闲生活, 饭店, 商场, 图书馆/书店, 咖啡厅, 其它, 惬意海岛, 名山古刹, 风情名城, 秀美山水, 历史遗迹]', 'self_introduce': '有意男士，请您不吝贴付一枚邮票，看不到您的信息无法回复。我是独立，温柔，细心，持家的女士，恬静优雅，身材适中，生活状态比较安逸，心情“平平淡淡，从从容容”，觅合得来的伴儿，彼此都愿意包容对方，希望你是个整洁大方儒雅的人，彼此相处能够做真实的自己，在一起时轻松愉悦，无需费力伪装。心胸狭隘，大男子主义，偷懒耍滑，小里小气的本人接受不了。不真实真诚者勿扰！小男孩勿扰！更没时间应付骗子！希望优秀的男士一起携手，幸福相伴。很简单，却不易，一起努力！（本人原创心声）', 'income': 1.0, 'horoscope': '摩羯座', 'blood_type': 'O', 'profession': 4.0, 'hometown_city': '北京朝阳', 'ethnic': 56.0}}, {'_index': 'test_index', '_id': '367982181', '_score': 2.0361962, '_source': {'nick': '左手指月', 'gender': 'female', 'marry_state': 0, 'height': 157, 'weight': 72, 'education': 5, 'residence_city': '深圳', 'age': 34, 'interest': '[摄影, 影视, 音乐, 烹饪, 读书, 中国菜, 日本菜, 健康食品, 巧克力和甜点, 艺术与摄影, 运动健身, 烹饪与饮食, 旅游, 自然科学, 惬意海岛, 秀美山水, 历史遗迹]', 'self_introduce': '木末芙蓉花，山中发红萼。涧户寂无人，纷纷开且落。性格偏晚熟，外企工作，现在我准备好了。', 'income': 2.0, 'horoscope': '射手座', 'blood_type': 'AB', 'profession': 20.0, 'hometown_province': '湖南', 'ethnic': 56.0}}, {'_index': 'test_index', '_id': '232124357', '_score': 1.8580518, '_source': {'nick': '沙漏', 'gender': 'female', 'marry_state': 1, 'height': 167, 'weight': 80, 'education': 7, 'residence_city': '西安', 'age': 62, 'interest': '[手工艺, 烹饪, 读书, 绘画, 计算机, 中国菜, 巧克力和甜点, 历史传记, 烹饪与饮食, 人文社科, 自然科学, 图书馆/书店, 咖啡厅, 在自己或朋友家里, 小桥流水人家]', 'self_introduce': '我喜欢咖啡，淡淡的清香。咖啡演绎一个江南女人对它的情缘，邀约您在午后，山的那边、海的这头品味如同生活一样的滋味。(备注：年龄填写大了，系统无法更改。大专以下文化，条件不符请勿留言。谢谢！）备注：我离婚非夫妻之间矛盾是丁克家庭不被宗族认可，不得已为婆婆离婚。', 'income': 1.0, 'horoscope': '摩羯座', 'hometown_province': '浙江', 'hometown_city': '杭州', 'university': '香港中文大学'}}, {'_index': 'test_index', '_id': '391174418', '_score': 1.800946, '_source': {'nick': '旺仔小馒头', 'gender': 'female', 'marry_state': 0, 'height': 171, 'weight': 69, 'education': 5, 'residence_city': '浦东新区', 'age': 29, 'interest': '[音乐, 购物, 园艺, 舞蹈, 旅游, 中国菜, 烧烤, 健康食品, 素食, 巧克力和甜点, 动漫与幽默, 历史传记, 运动健身, 健康与养生, 旅游, 爱情, 古装武侠, 科幻魔幻, 惊悚恐怖, 战争, 理财投资, 相声曲艺, 海选活动, 影视热片, 休闲生活, 酒吧, 电影院, 迪斯科, 图书馆/书店, 咖啡厅, 高原雪域, 秀美山水, 江河大川, 峻秀峡谷, 小桥流水人家]', 'self_introduce': '朋友们都说我性格直率，活泼。幽默，平时喜欢瑜伽，看电影，爬山什么的，一直向往吃喝玩乐，无忧无虑的生活，期待可以碰到一个相貌堂堂，为人正直，一表人才的男孩，我在这里等着一份缘定的爱情，等着你的到来。', 'income': 2.0, 'horoscope': '双鱼座', 'blood_type': 'B', 'ethnic': 56.0}}, {'_index': 'test_index', '_id': '260792228', '_score': 1.7455032, '_source': {'nick': 'Theresa', 'gender': 'female', 'marry_state': 2, 'height': 158, 'weight': 83, 'education': 7, 'residence_city': '比利时', 'age': 60, 'interest': '[汽车, 音乐, 园艺, 读书, 旅游, 中国菜, 烧烤, 健康食品, 素食, 巧克力和甜点, 文学, 励志与成功, 健康与养生, 烹饪与饮食, 娱乐时尚, 爱情, 喜剧, 悬疑推理, 音乐歌舞, 剧情, 政治事件, 娱乐八卦, 相声曲艺, 影视热片, 休闲生活, 饭店, 商场, 电影院, 音乐会, 在自己或朋友家里, 惬意海岛, 风情名城, 秀美山水, 峻秀峡谷, 小桥流水人家]', 'self_introduce': 'Scammers please get away get out of my view！不是真诚交友寻偶的骗子，请远离我的视线！我独身独立但不孤独,于千万人之中遇到想要遇到的你.遇知音,牵手共夕阳,许半生缘.你若愿意陪我浪迹天涯,我愿与你遨游海角. 不求一段浪漫,只求余生相爱相伴相随.前世今生,咫尺天涯, 缘于初始，爱从心开始。我1963年出生于书香门第之家，性格内向,温柔善良,勤奋操家理业,知书达理,独立自强.喜欢音乐，读书旅游。择偶年龄上下不越五为佳。最好有国外旅居经历,最好居住在欧洲，要会讲英文，本人已在欧洲居住三十余年。我的孩儿都已成年。相片摄于2021-2023年。您收到的信息以&#039;先生你好&#039;问候开始的才是我为! （非付费会员）期待真诚美好的遇见.', 'income': 4.0, 'horoscope': '水瓶座', 'blood_type': 'O', 'profession': 26.0, 'hometown_province': '其他', 'hometown_city': '其他', 'ethnic': 56.0, 'university': '国外某大学'}}, {'_index': 'test_index', '_id': '355423483', '_score': 1.708571, '_source': {'nick': '亦涵', 'gender': 'female', 'marry_state': 1, 'height': 167, 'weight': 71, 'education': 5, 'residence_city': '朝阳', 'age': 47, 'interest': '[汽车, 绘画, 体育运动, 旅游, 中国菜, 法国菜, 意大利菜, 巧克力和甜点, 哲学与宗教, 健康与养生, 人文社科, 收藏与鉴赏, 喜剧, 动作冒险, 其他, 饭店, 剧院, 音乐会, 体育馆, 惬意海岛, 风情名城, 秀美山水, 历史遗迹, 江河大川]', 'self_introduce': '好看的皮囊千篇一律，有趣的灵魂万里挑一生长在军队大院，具有很好的家庭背景、教育背景、价值道德观、见识、修养和胸怀。旅行过世界很多国家，奉读万卷书行万里路为人生浪漫，生活没有苟且，确有诗和远方。为人真诚善良，智商高，高雅不失幽默，行立不失亲和，自律且享受生活。爱好极其广泛，绘画具有天赋，热爱健身、运动、户外和大自然如皮划艇、山地车、匹克球（4.0 level）、远足、太极… 音乐、舞蹈、艺术、博物馆、哲学、中国思想文化、旅行。自驾过中国所有省市自治区包括新疆西藏，自行设计路线开车横穿北美大陆、加拿大、欧州阿联酋等很多国家，通过路虎体验中心越野驾驶培训证书。现生活在美国宾州，有长居但未选择入籍。没有地域的牵绊或限制。出国前生活在北京，北京有房产。父母军人退休在天津，所以国内以京津为主要居住地。我可以生活在任何地方，重要的是人。对方条件：有良好的教育和家庭背景，为人大气正直有责任感。有运动旅行方面的爱好更佳没照片的来信者请恕不复。特殊原因请注明。请尊重彼此的时间勿试勿扰。谢。对了，谁会打匹克球或知道哪里打，招呼一声哈。', 'income': 4.0, 'horoscope': '水瓶座', 'blood_type': 'A', 'profession': 7.0, 'hometown_city': '北京', 'ethnic': 56.0}}]}}\n",
      "D: {'took': 7, 'timed_out': False, '_shards': {'total': 2, 'successful': 2, 'skipped': 0, 'failed': 0}, 'hits': {'total': {'value': 16, 'relation': 'eq'}, 'max_score': 7.7376814, 'hits': [{'_index': 'test_index', '_id': '13941921', '_score': 7.7376814, '_source': {'nick': '洛陽塵', 'gender': 'female', 'marry_state': 0, 'height': 167, 'weight': 45, 'education': 4, 'residence_city': '深圳', 'age': 40, 'interest': '[中国菜, 巧克力和甜点, 励志与成功, 动漫与幽默, 动作冒险, 悬疑推理, 战争, 剧情, 电影院, 咖啡厅, 惬意海岛, 名山古刹, 高原雪域, 秀美山水, 历史遗迹]', 'self_introduce': '资料错了,巨蟹座。蓦然回首心戚戚，有缘的他你在哪？在熟人眼里我是个善良、温柔美丽的贤妻良母型女孩。在男生眼里，我是那种80％会喜欢，20％也不会讨厌的女生。只可惜自己属于晚熟型品种，又兼具追求完美的劣性。番然醒悟时，身边优秀的男生已被瓜分殆尽。现在的生活和学习空间相对狭窄，又无太多的时间广泛社交。所以网络交友成了我的一份希望。我来到这里，是因为大家都是热爱生活，想寻找爱情的人，彼此交往应以真诚沟通和相互信任为基础。我希望能在这里邂逅美丽的爱情，找到一生的幸福。理想中的他应该是：智慧善良、幽默大度、积极上进、乐观、有担当、足够真诚的男士，嗯,就是这样。最后,感谢浏览我资料和关注我的朋友祝福你们早日找到心仪的伴侣祝大家好运！！！', 'income': 2.0, 'horoscope': '双子座', 'blood_type': 'B', 'profession': 26.0, 'hometown_province': '湖南', 'hometown_city': '常德', 'ethnic': 56.0}}, {'_index': 'test_index', '_id': '101413172', '_score': 7.340156, '_source': {'nick': '宁静的夏天', 'gender': 'female', 'marry_state': 1, 'height': 165, 'weight': 87, 'education': 4, 'residence_city': '西安', 'age': 37, 'interest': '[中国菜, 健康食品, 素食, 巧克力和甜点, 励志与成功, 娱乐时尚, 什么都看, 爱情, 古装武侠]', 'self_introduce': '离婚独自带孩子（女孩），前夫在外省定居，所以离婚没联系，关于来看孩子的问题，分开时就沟通好了，无探视权，请不要再纠结此问题。寻找一个工作稳定，性格稳定，爱干净，心地善良，三观正，顾家的男人。我不抽烟喝酒，没有不良嗜好，自认为还比较通情达理，愿尽快寻找合适的对象结束单身。', 'income': 1.0, 'horoscope': '天蝎座', 'blood_type': 'B', 'profession': 26.0, 'hometown_province': '陕西', 'hometown_city': '西安', 'ethnic': 56.0}}, {'_index': 'test_index', '_id': '347279025', '_score': 7.0924187, '_source': {'nick': '以诺', 'gender': 'female', 'marry_state': 0, 'height': 172, 'weight': 99, 'education': 4, 'residence_city': '普陀', 'age': 34, 'interest': '[网络, 音乐, 手工艺, 中国菜, 烧烤, 快餐, 巧克力和甜点, 烹饪与饮食, 爱情, 喜剧, 动作冒险, 古装武侠, 音乐歌舞, 相声曲艺, 休闲生活, 电影院, 在自己或朋友家里, 秀美山水, 历史遗迹, 江河大川]', 'self_introduce': '朋友们都说我性格大大咧咧，喜欢弹弹琴 唱唱歌，一直向往相濡以沫的生活，希望对方是一个孝顺有责任心 成熟稳重 脾气性格好的男孩，我在这里等着一份缘定的爱情，等着你的到来。', 'income': 1.0, 'horoscope': '巨蟹座', 'blood_type': 'O', 'profession': 20.0, 'hometown_province': '辽宁', 'hometown_city': '鞍山', 'ethnic': 56.0, 'university': '江南大学'}}, {'_index': 'test_index', '_id': '307363422', '_score': 6.5464916, '_source': {'nick': '光芒星', 'gender': 'female', 'marry_state': 0, 'height': 164, 'weight': 68, 'education': 5, 'residence_city': '广州', 'age': 25, 'interest': '[音乐, 园艺, 舞蹈, 绘画, 旅游, 中国菜, 泰国菜, 巧克力和甜点, 动漫与幽默, 动作冒险, 悬疑推理, 什么都看, 娱乐八卦, 相声曲艺, 休闲生活, 电影院, 音乐会, 温泉, 名山古刹, 风情名城, 秀美山水, 江河大川, 小桥流水人家]', 'self_introduce': '我生于1998年5月份，性格活泼、开朗、率性！随着年龄的增长，我已经步入了婚嫁的黄金期，为了配合我人生重要的阶段，也为了让亲人们少操点心，选择了这里，希望我好运满满，遇到合适的男生！我从小在广州长大，已经习惯了广东的气候和风土人情，所以我只找广东省内的男孩，年龄必须是23---29之间，身高必须175以上，最少大专学历，否则，很抱歉！将不会回复。', 'income': 1.0, 'horoscope': '双子座', 'hometown_province': '广东', 'hometown_city': '广州', 'ethnic': 56.0}}, {'_index': 'test_index', '_id': '227933228', '_score': 6.303876, '_source': {'nick': '点绛唇', 'gender': 'female', 'marry_state': 2, 'height': 166, 'weight': 63, 'education': 5, 'residence_city': '保定', 'age': 50, 'interest': '[摄影, 音乐, 购物, 烹饪, 中国菜, 健康食品, 巧克力和甜点, 艺术与摄影, 烹饪与饮食, 旅游, 投资理财, 娱乐时尚, 爱情, 喜剧, 悬疑推理, 音乐歌舞, 相声曲艺, 休闲生活, 饭店, 商场, 图书馆/书店, 咖啡厅, 其它, 惬意海岛, 名山古刹, 风情名城, 秀美山水, 历史遗迹]', 'self_introduce': '有意男士，请您不吝贴付一枚邮票，看不到您的信息无法回复。我是独立，温柔，细心，持家的女士，恬静优雅，身材适中，生活状态比较安逸，心情“平平淡淡，从从容容”，觅合得来的伴儿，彼此都愿意包容对方，希望你是个整洁大方儒雅的人，彼此相处能够做真实的自己，在一起时轻松愉悦，无需费力伪装。心胸狭隘，大男子主义，偷懒耍滑，小里小气的本人接受不了。不真实真诚者勿扰！小男孩勿扰！更没时间应付骗子！希望优秀的男士一起携手，幸福相伴。很简单，却不易，一起努力！（本人原创心声）', 'income': 1.0, 'horoscope': '摩羯座', 'blood_type': 'O', 'profession': 4.0, 'hometown_city': '北京朝阳', 'ethnic': 56.0}}, {'_index': 'test_index', '_id': '367982181', '_score': 6.108589, '_source': {'nick': '左手指月', 'gender': 'female', 'marry_state': 0, 'height': 157, 'weight': 72, 'education': 5, 'residence_city': '深圳', 'age': 34, 'interest': '[摄影, 影视, 音乐, 烹饪, 读书, 中国菜, 日本菜, 健康食品, 巧克力和甜点, 艺术与摄影, 运动健身, 烹饪与饮食, 旅游, 自然科学, 惬意海岛, 秀美山水, 历史遗迹]', 'self_introduce': '木末芙蓉花，山中发红萼。涧户寂无人，纷纷开且落。性格偏晚熟，外企工作，现在我准备好了。', 'income': 2.0, 'horoscope': '射手座', 'blood_type': 'AB', 'profession': 20.0, 'hometown_province': '湖南', 'ethnic': 56.0}}, {'_index': 'test_index', '_id': '232124357', '_score': 5.574156, '_source': {'nick': '沙漏', 'gender': 'female', 'marry_state': 1, 'height': 167, 'weight': 80, 'education': 7, 'residence_city': '西安', 'age': 62, 'interest': '[手工艺, 烹饪, 读书, 绘画, 计算机, 中国菜, 巧克力和甜点, 历史传记, 烹饪与饮食, 人文社科, 自然科学, 图书馆/书店, 咖啡厅, 在自己或朋友家里, 小桥流水人家]', 'self_introduce': '我喜欢咖啡，淡淡的清香。咖啡演绎一个江南女人对它的情缘，邀约您在午后，山的那边、海的这头品味如同生活一样的滋味。(备注：年龄填写大了，系统无法更改。大专以下文化，条件不符请勿留言。谢谢！）备注：我离婚非夫妻之间矛盾是丁克家庭不被宗族认可，不得已为婆婆离婚。', 'income': 1.0, 'horoscope': '摩羯座', 'hometown_province': '浙江', 'hometown_city': '杭州', 'university': '香港中文大学'}}, {'_index': 'test_index', '_id': '391174418', '_score': 5.4028378, '_source': {'nick': '旺仔小馒头', 'gender': 'female', 'marry_state': 0, 'height': 171, 'weight': 69, 'education': 5, 'residence_city': '浦东新区', 'age': 29, 'interest': '[音乐, 购物, 园艺, 舞蹈, 旅游, 中国菜, 烧烤, 健康食品, 素食, 巧克力和甜点, 动漫与幽默, 历史传记, 运动健身, 健康与养生, 旅游, 爱情, 古装武侠, 科幻魔幻, 惊悚恐怖, 战争, 理财投资, 相声曲艺, 海选活动, 影视热片, 休闲生活, 酒吧, 电影院, 迪斯科, 图书馆/书店, 咖啡厅, 高原雪域, 秀美山水, 江河大川, 峻秀峡谷, 小桥流水人家]', 'self_introduce': '朋友们都说我性格直率，活泼。幽默，平时喜欢瑜伽，看电影，爬山什么的，一直向往吃喝玩乐，无忧无虑的生活，期待可以碰到一个相貌堂堂，为人正直，一表人才的男孩，我在这里等着一份缘定的爱情，等着你的到来。', 'income': 2.0, 'horoscope': '双鱼座', 'blood_type': 'B', 'ethnic': 56.0}}, {'_index': 'test_index', '_id': '260792228', '_score': 5.2365093, '_source': {'nick': 'Theresa', 'gender': 'female', 'marry_state': 2, 'height': 158, 'weight': 83, 'education': 7, 'residence_city': '比利时', 'age': 60, 'interest': '[汽车, 音乐, 园艺, 读书, 旅游, 中国菜, 烧烤, 健康食品, 素食, 巧克力和甜点, 文学, 励志与成功, 健康与养生, 烹饪与饮食, 娱乐时尚, 爱情, 喜剧, 悬疑推理, 音乐歌舞, 剧情, 政治事件, 娱乐八卦, 相声曲艺, 影视热片, 休闲生活, 饭店, 商场, 电影院, 音乐会, 在自己或朋友家里, 惬意海岛, 风情名城, 秀美山水, 峻秀峡谷, 小桥流水人家]', 'self_introduce': 'Scammers please get away get out of my view！不是真诚交友寻偶的骗子，请远离我的视线！我独身独立但不孤独,于千万人之中遇到想要遇到的你.遇知音,牵手共夕阳,许半生缘.你若愿意陪我浪迹天涯,我愿与你遨游海角. 不求一段浪漫,只求余生相爱相伴相随.前世今生,咫尺天涯, 缘于初始，爱从心开始。我1963年出生于书香门第之家，性格内向,温柔善良,勤奋操家理业,知书达理,独立自强.喜欢音乐，读书旅游。择偶年龄上下不越五为佳。最好有国外旅居经历,最好居住在欧洲，要会讲英文，本人已在欧洲居住三十余年。我的孩儿都已成年。相片摄于2021-2023年。您收到的信息以&#039;先生你好&#039;问候开始的才是我为! （非付费会员）期待真诚美好的遇见.', 'income': 4.0, 'horoscope': '水瓶座', 'blood_type': 'O', 'profession': 26.0, 'hometown_province': '其他', 'hometown_city': '其他', 'ethnic': 56.0, 'university': '国外某大学'}}, {'_index': 'test_index', '_id': '355423483', '_score': 5.1257133, '_source': {'nick': '亦涵', 'gender': 'female', 'marry_state': 1, 'height': 167, 'weight': 71, 'education': 5, 'residence_city': '朝阳', 'age': 47, 'interest': '[汽车, 绘画, 体育运动, 旅游, 中国菜, 法国菜, 意大利菜, 巧克力和甜点, 哲学与宗教, 健康与养生, 人文社科, 收藏与鉴赏, 喜剧, 动作冒险, 其他, 饭店, 剧院, 音乐会, 体育馆, 惬意海岛, 风情名城, 秀美山水, 历史遗迹, 江河大川]', 'self_introduce': '好看的皮囊千篇一律，有趣的灵魂万里挑一生长在军队大院，具有很好的家庭背景、教育背景、价值道德观、见识、修养和胸怀。旅行过世界很多国家，奉读万卷书行万里路为人生浪漫，生活没有苟且，确有诗和远方。为人真诚善良，智商高，高雅不失幽默，行立不失亲和，自律且享受生活。爱好极其广泛，绘画具有天赋，热爱健身、运动、户外和大自然如皮划艇、山地车、匹克球（4.0 level）、远足、太极… 音乐、舞蹈、艺术、博物馆、哲学、中国思想文化、旅行。自驾过中国所有省市自治区包括新疆西藏，自行设计路线开车横穿北美大陆、加拿大、欧州阿联酋等很多国家，通过路虎体验中心越野驾驶培训证书。现生活在美国宾州，有长居但未选择入籍。没有地域的牵绊或限制。出国前生活在北京，北京有房产。父母军人退休在天津，所以国内以京津为主要居住地。我可以生活在任何地方，重要的是人。对方条件：有良好的教育和家庭背景，为人大气正直有责任感。有运动旅行方面的爱好更佳没照片的来信者请恕不复。特殊原因请注明。请尊重彼此的时间勿试勿扰。谢。对了，谁会打匹克球或知道哪里打，招呼一声哈。', 'income': 4.0, 'horoscope': '水瓶座', 'blood_type': 'A', 'profession': 7.0, 'hometown_city': '北京', 'ethnic': 56.0}}]}}\n"
     ]
    }
   ],
   "source": [
    "# text字段\n",
    "res = es.search(index=\"test_index\",  query={'match':{'interest':'巧克力'}})\n",
    "print(\"A:\", res)\n",
    "res = es.search(index=\"test_index\",  query={'match':{'interest':'巧克力和甜点'}})\n",
    "print(\"B:\", res)\n",
    "res = es.search(index=\"test_index\",  query={'match_phrase':{'interest':'巧克力'}})\n",
    "print(\"C:\", res)\n",
    "res = es.search(index=\"test_index\",  query={'match_phrase':{'interest':'巧克力和甜点'}})\n",
    "print(\"D:\", res)\n"
   ]
  },
  {
   "attachments": {},
   "cell_type": "markdown",
   "metadata": {},
   "source": [
    "#### 精准查询\n",
    "term: 单一词语查询分词后结果，质量与分词有关;\n",
    "terms: 结果是多个匹配词的结果的合集;"
   ]
  },
  {
   "cell_type": "code",
   "execution_count": 157,
   "metadata": {},
   "outputs": [
    {
     "name": "stdout",
     "output_type": "stream",
     "text": [
      "A: {'took': 1, 'timed_out': False, '_shards': {'total': 2, 'successful': 2, 'skipped': 0, 'failed': 0}, 'hits': {'total': {'value': 0, 'relation': 'eq'}, 'max_score': None, 'hits': []}}\n",
      "B: {'took': 1, 'timed_out': False, '_shards': {'total': 2, 'successful': 2, 'skipped': 0, 'failed': 0}, 'hits': {'total': {'value': 1, 'relation': 'eq'}, 'max_score': 4.591747, 'hits': [{'_index': 'test_index', '_id': '49575145', '_score': 4.591747, '_source': {'nick': '我心飞翔', 'gender': 'male', 'marry_state': 0, 'height': 173, 'weight': 90, 'education': 7, 'residence_city': '九龙坡', 'age': 47, 'interest': '[网络, 动物, 烹饪, 读书, 计算机, 中国菜, 健康食品, 励志与成功, 政治与军事, 哲学与宗教, 健康与养生, 自然科学, 动作冒险, 战争, 纪录片, 历史传记, 政治事件, 畅销书, 休闲生活, 行业发展, 饭店, 卡拉OK, 名山古刹, 风情名城, 高原雪域, 历史遗迹, 峻秀峡谷]', 'self_introduce': '真诚交友，非诚勿扰！介绍一下自己，我在一家国企工作，工作很忙，事情也很多，但相对来讲工作比较稳定，收入也还可以。这几年为了提升自己，又用周末时间重返校园攻读研究生硕士，所以这几年基本上是5+2、白+黑的状态，也耽误了婚姻大事。我属兔，农历是75年12月，公历是76年1月，个人有点小迷信，我希望最好能找属狗、猪、羊或其次是属兔、猴、虎的女朋友，同时我长得比较年轻，基本上看不出40多岁，所以希望女方年龄也不要超过38岁。我没有结过婚，也希望找个未婚的女性。异地恋也不太方便，成功的可能性不大，我也耽误不起时间了，我主要是在主城区范围内活动，所以希望找个在主城区工作和生活的女朋友。谢谢！如果双方交往感觉不错的话，我也希望能尽快的买房结婚，早点安定下来。其他的也不知道要说什么，一切随缘吧！', 'income': 2.0, 'horoscope': '摩羯座', 'blood_type': 'B', 'profession': 7.0, 'hometown_city': '重庆九龙坡', 'ethnic': 56.0, 'university': '重庆工商大学'}}]}}\n",
      "C: {'took': 1, 'timed_out': False, '_shards': {'total': 2, 'successful': 2, 'skipped': 0, 'failed': 0}, 'hits': {'total': {'value': 0, 'relation': 'eq'}, 'max_score': None, 'hits': []}}\n",
      "D: {'took': 2, 'timed_out': False, '_shards': {'total': 2, 'successful': 2, 'skipped': 0, 'failed': 0}, 'hits': {'total': {'value': 1, 'relation': 'eq'}, 'max_score': 4.591747, 'hits': [{'_index': 'test_index', '_id': '49575145', '_score': 4.591747, '_source': {'nick': '我心飞翔', 'gender': 'male', 'marry_state': 0, 'height': 173, 'weight': 90, 'education': 7, 'residence_city': '九龙坡', 'age': 47, 'interest': '[网络, 动物, 烹饪, 读书, 计算机, 中国菜, 健康食品, 励志与成功, 政治与军事, 哲学与宗教, 健康与养生, 自然科学, 动作冒险, 战争, 纪录片, 历史传记, 政治事件, 畅销书, 休闲生活, 行业发展, 饭店, 卡拉OK, 名山古刹, 风情名城, 高原雪域, 历史遗迹, 峻秀峡谷]', 'self_introduce': '真诚交友，非诚勿扰！介绍一下自己，我在一家国企工作，工作很忙，事情也很多，但相对来讲工作比较稳定，收入也还可以。这几年为了提升自己，又用周末时间重返校园攻读研究生硕士，所以这几年基本上是5+2、白+黑的状态，也耽误了婚姻大事。我属兔，农历是75年12月，公历是76年1月，个人有点小迷信，我希望最好能找属狗、猪、羊或其次是属兔、猴、虎的女朋友，同时我长得比较年轻，基本上看不出40多岁，所以希望女方年龄也不要超过38岁。我没有结过婚，也希望找个未婚的女性。异地恋也不太方便，成功的可能性不大，我也耽误不起时间了，我主要是在主城区范围内活动，所以希望找个在主城区工作和生活的女朋友。谢谢！如果双方交往感觉不错的话，我也希望能尽快的买房结婚，早点安定下来。其他的也不知道要说什么，一切随缘吧！', 'income': 2.0, 'horoscope': '摩羯座', 'blood_type': 'B', 'profession': 7.0, 'hometown_city': '重庆九龙坡', 'ethnic': 56.0, 'university': '重庆工商大学'}}]}}\n"
     ]
    }
   ],
   "source": [
    "# keyword字段\n",
    "res = es.search(index=\"test_index\",  query={'term':{'nick':'我心'}})\n",
    "print(\"A:\", res)\n",
    "res = es.search(index=\"test_index\",  query={'term':{'nick':'我心飞翔'}})\n",
    "print(\"B:\", res)"
   ]
  },
  {
   "cell_type": "code",
   "execution_count": 165,
   "metadata": {},
   "outputs": [
    {
     "name": "stdout",
     "output_type": "stream",
     "text": [
      "A: {'took': 4, 'timed_out': False, '_shards': {'total': 2, 'successful': 2, 'skipped': 0, 'failed': 0}, 'hits': {'total': {'value': 125, 'relation': 'eq'}, 'max_score': 1.125726, 'hits': [{'_index': 'test_index', '_id': '314589592', '_score': 1.125726, '_source': {'nick': '雅', 'gender': 'female', 'marry_state': 0, 'height': 158, 'weight': 87, 'education': 5, 'residence_city': '长沙', 'age': 33, 'interest': '[影视, 音乐, 读书, 旅游, 中国菜, 文学]', 'self_introduce': '对世界充满好奇的钢琴老师，母胎单身至今，能感受到美好的事物，好希望能遇到一个人能一起分享眼前的繁花，心中的诗意畅想，真诚善良的两颗心携手同行，一起走在这蓝色星球的时光里.....', 'income': 2.0, 'horoscope': '天蝎座', 'hometown_province': '湖南', 'hometown_city': '常德', 'ethnic': 56.0}}, {'_index': 'test_index', '_id': '386595061', '_score': 1.1064631, '_source': {'nick': '紫芸腾', 'gender': 'female', 'marry_state': 0, 'height': 157, 'weight': 89, 'education': 5, 'residence_city': '广州', 'age': 40, 'interest': '[中国菜, 惬意海岛, 名山古刹, 秀美山水]', 'self_introduce': '我来自广东，平时喜欢爬山，打羽毛球。希望对方是以结婚为目的，期待与我有缘分的人出现，一起去创造浪漫之爱，共筑一个温馨的家。 静侯佳音，执子之手，与子偕老。注：有小孩的请不要来信（不论小孩归男方还是女方），谢谢。', 'income': 2.0, 'horoscope': '射手座', 'blood_type': 'B', 'profession': 16.0, 'hometown_province': '广东', 'hometown_city': '韶关', 'ethnic': 56.0}}, {'_index': 'test_index', '_id': '291072996', '_score': 1.0698495, '_source': {'nick': '默然', 'gender': 'female', 'marry_state': 1, 'height': 152, 'weight': 55, 'education': 4, 'residence_city': '广州', 'age': 46, 'interest': '[摄影, 计算机, 中国菜, 战争, 体育赛事]', 'self_introduce': '本人，在广州打工的湖南人，职业：翻译。 诚征：广州户口，身高173-180，年龄48-55之间，大专以上学历,有房车，年收入18万以上的男士做余生的伴侣和我的守护神.备注：1.加了微信，在没聊几天，根本都不了解的情况下动不动就叫亲爱的，说肉麻的情话的男士，请绕道，了解期间我不喜欢挺肉麻的情话，随便说情话的男人基本都是多情种，我没兴趣.2.光说没有行动-发红包的男士，请绕道！我不是物质的女性，但我是实在的真实的女性，有质量的生活离不开钱，男人真心喜欢一个女人，会转红包给女人，不会光说！我没有闲心听废话。我这人很真实，我有意跟对方相处的男士，给我转红包，我才会收下，我无意交往的男士，我是不会收你红包的。 但不给我发红包的男士，想空手套白狼，就凭你一张嘴上的甜言蜜语，想我动心，那是你多想了！ 本人只会对一个男士真正的动心，因为我只需找一个伴侣。能让我感到你的真心和用心，确实是想为我余生护航，对我好呵护我的男士，我才会收下你的红包！ 我收下的红包不退还的，证明我愿意和你牵手余生！3.年收入低于18万的，不要给我写信，因为我不会选择低收入的男士做伴侣，因为不想扶贫！另外，非佳缘钻石会员的信件，发过来我也打不开看不到，我也不会付费去看这些打不开的信件，因为我觉得，连个钻石会员费都不舍得付的男人，抠门到家了，我没兴趣付费去看看这类男士的信件.我这人很直率，不喜欢藏着掖着，实话实说。', 'income': 1.0, 'horoscope': '狮子座', 'profession': 3.0, 'ethnic': 56.0, 'university': '长沙理工大学'}}, {'_index': 'test_index', '_id': '355579891', '_score': 1.0524367, '_source': {'nick': 'Phoebe', 'gender': 'female', 'marry_state': 0, 'height': 158, 'weight': 60, 'education': 5, 'residence_city': '深圳', 'age': 40, 'interest': '[中国菜, 喜剧, 科幻魔幻, 广袤森林, 高原雪域, 江河大川]', 'self_introduce': '湖南人，全日制本科，南山区工作、生活。单身无婚史，经历简单。找三观相合、谈得来，相互尊重的人共度余生。真诚征婚，欢迎来信相互了解。不好意思，如你有别的意图的，请不要来信了。重复一遍，只找结婚对象！', 'income': 4.0, 'horoscope': '狮子座', 'profession': 3.0, 'hometown_province': '湖南', 'university': '湖南科技大学'}}, {'_index': 'test_index', '_id': '387849948', '_score': 1.0360881, '_source': {'nick': '人在草木间', 'gender': 'female', 'marry_state': 1, 'height': 168, 'weight': 85, 'education': 3, 'residence_city': '闵行', 'age': 57, 'interest': '[中国菜, 泰国菜, 日本菜, 健康食品, 惬意海岛, 高原雪域, 秀美山水, 历史遗迹, 小桥流水人家]', 'self_introduce': '一个善良，成熟、端庄、有生活情调的女人。上得厅堂、下得厨房。喜欢煲糖水、炖靓汤，做精致、清新的小菜，和自己所爱的人一起品味。一屋二人三餐四季，人生何求？希望自己永远年轻，希望生活永远美满。相信爱情，希望彼此有能力成就对方获得更多幸福感。喜欢旅游，喜欢散步，倾听爱人诉说他的喜悦、他的劳累，他的梦想……对于物质，小富即安、知足常乐。不会凯觎对方的财产，若心灵的丰富和爱情的美满，我们就是个大富翁。以后我会把家庭当成最大的事业来经营；把你，我的爱人，当成最珍贵的财富来守护。乐观、积极、善良、低调，始终对生命怀有一颗感恩的心。希望逢着一个谦谦君子，彼此真诚，彼此恩爱，彼此忠诚，直到生命的尽头。拒绝异地， 拒绝一切不以婚姻为目的的交往，理财，投资请绕道~', 'income': 1.0, 'horoscope': '水瓶座', 'blood_type': 'A', 'profession': 23.0, 'hometown_city': '上海', 'ethnic': 56.0}}, {'_index': 'test_index', '_id': '320938879', '_score': 1.0036119, '_source': {'nick': '大函', 'gender': 'female', 'marry_state': 1, 'height': 166, 'weight': 68, 'education': 4, 'residence_city': '乌鲁木齐', 'age': 51, 'interest': '[园艺, 读书, 中国菜, 文学, 江河大川]', 'self_introduce': '疫情让我们重新审视自己审视生活。三个月的静默消磨了我们的意志力魔平了我们对工作得热情和动力。这个年纪一个普通的女人说前程说发展都是美好的空谈了。赖以生存的信念是我们必须活着还要活的体面。很想找一个僻静的乡村小野隐居，从此后只看山黄水绿鸟飞虫舞。写写画画一日三餐。而现实是也许疫情结束后立即就要投入到水深火热的工作中去了。', 'income': 1.0, 'horoscope': '巨蟹座', 'profession': 26.0, 'hometown_province': '新疆', 'ethnic': 56.0}}, {'_index': 'test_index', '_id': '258252341', '_score': 1.0036119, '_source': {'nick': 'GM', 'gender': 'female', 'marry_state': 0, 'height': 160, 'weight': 88, 'education': 5, 'residence_city': '丰台', 'age': 35, 'interest': '[中国菜, 运动健身, 投资理财, 喜剧]', 'self_introduce': '根据网站要求，进行了手持身份证实名注册。我是一个孝顺,靠谱,顾家,诚信,善良的人 ，88年出生在内蒙，小学时随父母调到北京工作生活，身份证110102开头，未婚单身，京户京房京车，北京对外经济贸易大学会计专业本科毕业，在金融行业工作，任公司中层。(可不是推销理财卖保险的)持有CFA等证书。父母都是高级职称在京退休，姐姐姐夫都在京知名企业工作。性格开朗，善良聪慧，积极向上，知性气质，爱好看书，运动健身旅游等，善于理财。感情经历简单。没有任何不良嗜好。希望他，人品性格好，积极向上，真诚靠谱，健康阳光，未婚单身，年龄在88-83年出生，身高168-178CM,重点本科以上学历，在京有不错的工作和收入，最好有京户或京房，父母有退休金和医保，感情经历简单。不接受已婚过和异地的，非诚勿扰。谢谢。我不是会员，若有意联系可以连续发三封信，我买邮票看信，谢谢', 'income': 5.0, 'horoscope': '水瓶座', 'profession': 7.0, 'hometown_province': '内蒙古', 'university': '对外经济贸易大学'}}, {'_index': 'test_index', '_id': '375381996', '_score': 0.9876644, '_source': {'nick': '丫丫', 'gender': 'female', 'marry_state': 0, 'height': 160, 'weight': 48, 'education': 7, 'residence_city': '纽约州', 'age': 29, 'interest': '[中国菜, 惬意海岛, 风情名城, 江河大川]', 'self_introduce': '美国哥伦比亚大学硕士，目前在纽约工作。我是一个开朗,独立,简单的人 ，喜欢音乐会, 运动。我生长在一个三口之家,高知家庭，我爱我家人，他们也爱我。', 'income': 1.0, 'horoscope': '射手座', 'profession': 5.0, 'hometown_province': '广西', 'hometown_city': '南宁', 'ethnic': 1.0}}, {'_index': 'test_index', '_id': '283786535', '_score': 0.981434, '_source': {'nick': '橡树', 'gender': 'female', 'marry_state': 2, 'height': 165, 'weight': 92, 'education': 5, 'residence_city': '伊利诺伊州', 'age': 75, 'interest': '[旅游, 中国菜, 意大利菜, 旅游, 喜剧, 政治事件, 惬意海岛, 广袤森林, 秀美山水, 江河大川, 峻秀峡谷]', 'self_introduce': '诚挚，善良，阳光，喜欢旅行，受过良好教育，身体健康，略懂英语，一直开车。我长住美国， 如果住在大陆你有决心来美国居住，我们可以考虑两边居住或养老。因为条件限制我无法购买邮票，如果你有诚意，请自付邮票，谢谢！再次强调寻找伴侣，不交友！！！最近若干年轻人来信，请别浪费时间，如不听劝阻，视为恶意骚扰 ！照片为2022年8月', 'income': 1.0, 'horoscope': '处女座', 'blood_type': 'O', 'ethnic': 56.0}}, {'_index': 'test_index', '_id': '283055726', '_score': 0.9719405, '_source': {'nick': '紫静城', 'gender': 'female', 'marry_state': 1, 'height': 160, 'weight': 82, 'education': 4, 'residence_city': '浦东新区', 'age': 58, 'interest': '[音乐, 写作, 读书, 绘画, 旅游, 中国菜, 法国菜, 日本菜, 烧烤, 健康食品, 惬意海岛, 风情名城, 秀美山水, 江河大川, 小桥流水人家]', 'self_introduce': '靓丽中不乏淡雅、明艳中透着清新。颜控！照片是近几年拍的，有几张是今年2023年拍的！多读书、多锻炼、自律、阳光豁达好心态可以保持年轻态～ 当今社会，视觉年龄比实际年龄更重要～性格慢热、娴静少言，文艺宅女、好读书，偶有著文自娱，或唱歌、书法消遣，闲时旅游、健身……一个人的生活轻松自由，再有个爱人相互陪伴、相互照顾的那才是幸福！女儿留学后留在日本工作，日本或者上海生活皆可。网络是虚拟的，落地见面才算认识。存了些看信宝，可以看来信，有眼缘可以发信给我，我会认真回复你。常常收到百合网上会员的来信，抱歉，我没有注册百合网，来信打不开…id地址与资料不符的请勿来信，qq不加！', 'income': 1.0, 'horoscope': '天秤座', 'blood_type': 'O', 'ethnic': 56.0}}]}}\n",
      "B: {'took': 2, 'timed_out': False, '_shards': {'total': 2, 'successful': 2, 'skipped': 0, 'failed': 0}, 'hits': {'total': {'value': 74, 'relation': 'eq'}, 'max_score': 2.661387, 'hits': [{'_index': 'test_index', '_id': '337047878', '_score': 2.661387, '_source': {'nick': '小草', 'gender': 'female', 'marry_state': 2, 'height': 158, 'weight': 65, 'education': 4, 'residence_city': '南昌', 'age': 67, 'interest': '[健康食品, 素食, 烹饪与饮食]', 'self_introduce': '本人容易相处，为人实在，低调做人，懂得照顾自己的丈夫是我最好的优点！习惯换位思考，性格开朗温顺的我，是你值得信任和依靠托付一生的人！本人国企单位退休，独居有房。上得厅堂，下得厨房。小孩早已成家立业有房有车,无任何负担！本人有看信邮票，欢迎留言,。非诚勿扰！', 'income': 1.0, 'horoscope': '天蝎座', 'blood_type': 'B', 'ethnic': 56.0}}, {'_index': 'test_index', '_id': '360025958', '_score': 2.1744826, '_source': {'nick': '沐阳', 'gender': 'female', 'marry_state': 1, 'height': 158, 'weight': 83, 'education': 4, 'residence_city': '长沙', 'age': 47, 'interest': '[园艺, 读书, 体育运动, 其它, 健康食品, 文学, 运动健身, 其他, 名山古刹, 历史遗迹]', 'self_introduce': '忘掉一段不美好的过去，重新起航。生活虽然忙碌而琐碎，一直有心中的向往，或许上帝关上了一张门，会打开一扇窗。坚持瑜伽锻炼，身体健康柔韧；坚持学习读书，思想纯粹静好；热爱自己的职业，工作从容稳重；能上厅堂，亦能做出一般水准的湘菜。寻找有担当，能力在我以上的伴侣，度温柔你我的岁月。我有孩子，且不止一个，请慎重对待。', 'income': 1.0, 'horoscope': '天秤座', 'profession': 7.0, 'hometown_province': '湖南', 'ethnic': 56.0}}, {'_index': 'test_index', '_id': '278258499', '_score': 2.1288772, '_source': {'nick': '小西', 'gender': 'female', 'marry_state': 0, 'height': 160, 'weight': 50, 'education': 5, 'residence_city': '武汉', 'age': 37, 'interest': '[手工艺, 绘画, 旅游, 中国菜, 健康食品, 励志与成功, 运动健身, 健康与养生, 旅游, 什么都看, 暂无, 名山古刹, 风情名城, 峻秀峡谷]', 'self_introduce': '以前我总觉得，人要拥有的够多才能幸福，但最近几年我越来越认同，好的人生其实是从做减法开始的…过期的食物要丢，衣柜里不穿的衣服要舍弃，别留恋，往前走，去迎接新的生活！（新的一年希望重新出发在此平台寻到有缘人，要求对方真诚稳重，品性善良，不抽烟，未婚，大专以上学历，28-40岁之间身高不低于1米72）', 'income': 1.0, 'horoscope': '白羊座', 'blood_type': 'B', 'profession': 20.0, 'hometown_province': '湖北', 'hometown_city': '武汉', 'ethnic': 56.0}}, {'_index': 'test_index', '_id': '101413172', '_score': 2.1248188, '_source': {'nick': '宁静的夏天', 'gender': 'female', 'marry_state': 1, 'height': 165, 'weight': 87, 'education': 4, 'residence_city': '西安', 'age': 37, 'interest': '[中国菜, 健康食品, 素食, 巧克力和甜点, 励志与成功, 娱乐时尚, 什么都看, 爱情, 古装武侠]', 'self_introduce': '离婚独自带孩子（女孩），前夫在外省定居，所以离婚没联系，关于来看孩子的问题，分开时就沟通好了，无探视权，请不要再纠结此问题。寻找一个工作稳定，性格稳定，爱干净，心地善良，三观正，顾家的男人。我不抽烟喝酒，没有不良嗜好，自认为还比较通情达理，愿尽快寻找合适的对象结束单身。', 'income': 1.0, 'horoscope': '天蝎座', 'blood_type': 'B', 'profession': 26.0, 'hometown_province': '陕西', 'hometown_city': '西安', 'ethnic': 56.0}}, {'_index': 'test_index', '_id': '387849948', '_score': 2.0653334, '_source': {'nick': '人在草木间', 'gender': 'female', 'marry_state': 1, 'height': 168, 'weight': 85, 'education': 3, 'residence_city': '闵行', 'age': 57, 'interest': '[中国菜, 泰国菜, 日本菜, 健康食品, 惬意海岛, 高原雪域, 秀美山水, 历史遗迹, 小桥流水人家]', 'self_introduce': '一个善良，成熟、端庄、有生活情调的女人。上得厅堂、下得厨房。喜欢煲糖水、炖靓汤，做精致、清新的小菜，和自己所爱的人一起品味。一屋二人三餐四季，人生何求？希望自己永远年轻，希望生活永远美满。相信爱情，希望彼此有能力成就对方获得更多幸福感。喜欢旅游，喜欢散步，倾听爱人诉说他的喜悦、他的劳累，他的梦想……对于物质，小富即安、知足常乐。不会凯觎对方的财产，若心灵的丰富和爱情的美满，我们就是个大富翁。以后我会把家庭当成最大的事业来经营；把你，我的爱人，当成最珍贵的财富来守护。乐观、积极、善良、低调，始终对生命怀有一颗感恩的心。希望逢着一个谦谦君子，彼此真诚，彼此恩爱，彼此忠诚，直到生命的尽头。拒绝异地， 拒绝一切不以婚姻为目的的交往，理财，投资请绕道~', 'income': 1.0, 'horoscope': '水瓶座', 'blood_type': 'A', 'profession': 23.0, 'hometown_city': '上海', 'ethnic': 56.0}}, {'_index': 'test_index', '_id': '240975231', '_score': 2.0219755, '_source': {'nick': '紫薇', 'gender': 'female', 'marry_state': 1, 'height': 161, 'weight': 61, 'education': 5, 'residence_city': '杭州', 'age': 44, 'interest': '[中国菜, 健康食品, 哲学与宗教, 历史传记, 健康与养生, 投资理财, 爱情, 动作冒险, 悬疑推理, 剧情, 饭店, 电影院, 图书馆/书店, 咖啡厅, 惬意海岛]', 'self_introduce': '浙江省内人。动静皆宜,性格率直,善良孝顺，端庄文静,有个性,喜欢小动物和关爱老人,喜欢看书,看电影,散步,亲近大自然...希望你:人品好,性格好,脾气温和儒雅,包容大度,本科学历,有责任心,有绅士风度(骨子里的教养),生活精致整洁,言而有信,爱读书和运动,长得顺眼，江浙人士。本人读书年阅读量四五十本以上,希望你也喜欢看书.注:异地的、身高170CM以下的、加了微信一个月内不积极聊天不见面的,请不要联系我', 'income': 2.0, 'horoscope': '巨蟹座', 'blood_type': 'O', 'profession': 26.0, 'hometown_province': '浙江', 'hometown_city': '绍兴', 'ethnic': 56.0, 'university': '浙江大学'}}, {'_index': 'test_index', '_id': '390775361', '_score': 1.9766283, '_source': {'nick': 'sunny', 'gender': 'female', 'marry_state': 1, 'height': 155, 'weight': 90, 'education': 5, 'residence_city': '渝北', 'age': 45, 'interest': '[中国菜, 泰国菜, 日本菜, 烧烤, 健康食品, 惬意海岛, 风情名城, 广袤森林, 秀美山水, 小桥流水人家]', 'self_introduce': '没有实名认证的来信一律拉黑！医学类本科，事业单位工作。有点自由散漫，如果你也是，那我们互相都不用嫌弃，可以结伴乐游人生。喜欢旅行，去过一些国家，争取未来能看更多的世界、体会不同的文化。没有运动天赋，喜欢步行，对跑马拉松、热爱运动的人很是钦佩。讲究眼缘，不喜欢油腻感，希望对方阳光向上。经济能够自给自足，但这不是接受抠门吝啬的人的理由，男人应该有胸怀、责任与担当。一切顺其自然吧！', 'income': 2.0, 'horoscope': '摩羯座', 'blood_type': 'A', 'ethnic': 56.0}}, {'_index': 'test_index', '_id': '230148683', '_score': 1.9569211, '_source': {'nick': '晨夕', 'gender': 'female', 'marry_state': 1, 'height': 168, 'weight': 72, 'education': 5, 'residence_city': '保定', 'age': 42, 'interest': '[烹饪, 体育运动, 旅游, 健康食品, 素食, 运动健身, 健康与养生, 婚恋与家庭, 自然科学, 爱情, 动作冒险, 悬疑推理, 休闲生活, 惬意海岛, 广袤森林, 秀美山水, 小桥流水人家]', 'self_introduce': '我喜欢跑步、游泳、旅行，希望找到一个和我一起发现世界无穷无尽美好的伙伴，婚姻什么时候到来并不一定如我们所愿，但这也让生活保有了一份未知的惊喜。', 'income': 1.0, 'horoscope': '天蝎座', 'blood_type': 'A', 'ethnic': 56.0}}, {'_index': 'test_index', '_id': '290415501', '_score': 1.9256076, '_source': {'nick': '相伴到老', 'gender': 'female', 'marry_state': 1, 'height': 160, 'weight': 86, 'education': 5, 'residence_city': '西城', 'age': 46, 'interest': '[摄影, 舞蹈, 读书, 体育运动, 旅游, 健康食品, 励志与成功, 政治与军事, 历史传记, 健康与养生, 投资理财, 喜剧, 音乐歌舞, 历史传记, 政治事件, 行业发展, 惬意海岛, 秀美山水]', 'self_introduce': '传承几代junren之家优秀传统家风家训，风清气正、爱国爱家，正直、正派、忠诚、踏实、孝顺、有责任、有担当。30年前随父母全家定居北京西城。在此纯粹征婚，以结婚为目的，只找北京同城，非诚勿扰！异地勿扰！骗子勿扰！本人基本情况：75年属兔，在北京生活工作近30年,有北京社保医保养老，单身离异，无子女、无家庭负担、无经济负担、无生育打算；个人经济独立稳定、生活简单充实，不依附不高攀、顺其自然、心平气和，至于其它，有则锦上添花，无则依旧风华；自尊自爱、自律自立、心态阳光、性格开朗、积极乐观、热爱生活、热爱运动；身体健康、精力体力充沛、贤惠善良孝顺、干净整洁，不抽烟、不喝酒、不打牌，无任何不良嗜好；早睡早起、规律生活，坚持早起晨跑10多年，无论春夏秋冬、严寒酷暑，已经习惯成自然；正能量满满，除了是一名运动爱好者，平时还乐于参与社会公益活动。同类相吸、同屏共振，喜欢交往同样充满正能量的三观正的朋友。感谢佳缘这个平台，感恩所有人的付出！在此希望遇见我未来的老伴，一位值得我爱、值得我疼、值得我陪伴、照顾到终老的男人！', 'income': 1.0, 'horoscope': '射手座', 'blood_type': 'O', 'profession': 3.0, 'hometown_province': '河北', 'hometown_city': '廊坊', 'ethnic': 56.0}}, {'_index': 'test_index', '_id': '380334530', '_score': 1.9053133, '_source': {'nick': 'lili', 'gender': 'female', 'marry_state': 0, 'height': 162, 'weight': 99, 'education': 7, 'residence_city': '通州', 'age': 39, 'interest': '[写作, 舞蹈, 读书, 体育运动, 中国菜, 健康食品, 无特别爱好, 剧院, 电影院, 音乐会, 图书馆/书店, 咖啡厅]', 'self_introduce': '互相欣赏、双向奔赴的爱情是我落地的感情观。朝九晚六的工作之余，打羽毛球、写毛笔字、行万里路、读万卷书，只是因为喜欢。运动时挥汗如雨的畅快，陌生的城市走错路却发现更美风景的惊喜，慢慢叠好干净衣服的悠然都让独自走过的时光宁静而浓烈，欣然乐见自己成为了健康、热爱生活的自己。成长的感悟让我能平和且宽容地面对接下来的人生旅程。无法预知将来,也许这正是人生岁月的真实，与你相遇是最美的时刻。来呀，互相了解吧。', 'income': 2.0, 'horoscope': '双鱼座', 'blood_type': 'A', 'profession': 23.0, 'hometown_city': '北京', 'ethnic': 56.0, 'university': '北京大学'}}]}}\n",
      "C: {'took': 2, 'timed_out': False, '_shards': {'total': 2, 'successful': 2, 'skipped': 0, 'failed': 0}, 'hits': {'total': {'value': 122, 'relation': 'eq'}, 'max_score': 0.3830734, 'hits': [{'_index': 'test_index', '_id': '314589592', '_score': 0.3830734, '_source': {'nick': '雅', 'gender': 'female', 'marry_state': 0, 'height': 158, 'weight': 87, 'education': 5, 'residence_city': '长沙', 'age': 33, 'interest': '[影视, 音乐, 读书, 旅游, 中国菜, 文学]', 'self_introduce': '对世界充满好奇的钢琴老师，母胎单身至今，能感受到美好的事物，好希望能遇到一个人能一起分享眼前的繁花，心中的诗意畅想，真诚善良的两颗心携手同行，一起走在这蓝色星球的时光里.....', 'income': 2.0, 'horoscope': '天蝎座', 'hometown_province': '湖南', 'hometown_city': '常德', 'ethnic': 56.0}}, {'_index': 'test_index', '_id': '386595061', '_score': 0.37651843, '_source': {'nick': '紫芸腾', 'gender': 'female', 'marry_state': 0, 'height': 157, 'weight': 89, 'education': 5, 'residence_city': '广州', 'age': 40, 'interest': '[中国菜, 惬意海岛, 名山古刹, 秀美山水]', 'self_introduce': '我来自广东，平时喜欢爬山，打羽毛球。希望对方是以结婚为目的，期待与我有缘分的人出现，一起去创造浪漫之爱，共筑一个温馨的家。 静侯佳音，执子之手，与子偕老。注：有小孩的请不要来信（不论小孩归男方还是女方），谢谢。', 'income': 2.0, 'horoscope': '射手座', 'blood_type': 'B', 'profession': 16.0, 'hometown_province': '广东', 'hometown_city': '韶关', 'ethnic': 56.0}}, {'_index': 'test_index', '_id': '291072996', '_score': 0.3640592, '_source': {'nick': '默然', 'gender': 'female', 'marry_state': 1, 'height': 152, 'weight': 55, 'education': 4, 'residence_city': '广州', 'age': 46, 'interest': '[摄影, 计算机, 中国菜, 战争, 体育赛事]', 'self_introduce': '本人，在广州打工的湖南人，职业：翻译。 诚征：广州户口，身高173-180，年龄48-55之间，大专以上学历,有房车，年收入18万以上的男士做余生的伴侣和我的守护神.备注：1.加了微信，在没聊几天，根本都不了解的情况下动不动就叫亲爱的，说肉麻的情话的男士，请绕道，了解期间我不喜欢挺肉麻的情话，随便说情话的男人基本都是多情种，我没兴趣.2.光说没有行动-发红包的男士，请绕道！我不是物质的女性，但我是实在的真实的女性，有质量的生活离不开钱，男人真心喜欢一个女人，会转红包给女人，不会光说！我没有闲心听废话。我这人很真实，我有意跟对方相处的男士，给我转红包，我才会收下，我无意交往的男士，我是不会收你红包的。 但不给我发红包的男士，想空手套白狼，就凭你一张嘴上的甜言蜜语，想我动心，那是你多想了！ 本人只会对一个男士真正的动心，因为我只需找一个伴侣。能让我感到你的真心和用心，确实是想为我余生护航，对我好呵护我的男士，我才会收下你的红包！ 我收下的红包不退还的，证明我愿意和你牵手余生！3.年收入低于18万的，不要给我写信，因为我不会选择低收入的男士做伴侣，因为不想扶贫！另外，非佳缘钻石会员的信件，发过来我也打不开看不到，我也不会付费去看这些打不开的信件，因为我觉得，连个钻石会员费都不舍得付的男人，抠门到家了，我没兴趣付费去看看这类男士的信件.我这人很直率，不喜欢藏着掖着，实话实说。', 'income': 1.0, 'horoscope': '狮子座', 'profession': 3.0, 'ethnic': 56.0, 'university': '长沙理工大学'}}, {'_index': 'test_index', '_id': '355579891', '_score': 0.3581338, '_source': {'nick': 'Phoebe', 'gender': 'female', 'marry_state': 0, 'height': 158, 'weight': 60, 'education': 5, 'residence_city': '深圳', 'age': 40, 'interest': '[中国菜, 喜剧, 科幻魔幻, 广袤森林, 高原雪域, 江河大川]', 'self_introduce': '湖南人，全日制本科，南山区工作、生活。单身无婚史，经历简单。找三观相合、谈得来，相互尊重的人共度余生。真诚征婚，欢迎来信相互了解。不好意思，如你有别的意图的，请不要来信了。重复一遍，只找结婚对象！', 'income': 4.0, 'horoscope': '狮子座', 'profession': 3.0, 'hometown_province': '湖南', 'university': '湖南科技大学'}}, {'_index': 'test_index', '_id': '320938879', '_score': 0.35025817, '_source': {'nick': '大函', 'gender': 'female', 'marry_state': 1, 'height': 166, 'weight': 68, 'education': 4, 'residence_city': '乌鲁木齐', 'age': 51, 'interest': '[园艺, 读书, 中国菜, 文学, 江河大川]', 'self_introduce': '疫情让我们重新审视自己审视生活。三个月的静默消磨了我们的意志力魔平了我们对工作得热情和动力。这个年纪一个普通的女人说前程说发展都是美好的空谈了。赖以生存的信念是我们必须活着还要活的体面。很想找一个僻静的乡村小野隐居，从此后只看山黄水绿鸟飞虫舞。写写画画一日三餐。而现实是也许疫情结束后立即就要投入到水深火热的工作中去了。', 'income': 1.0, 'horoscope': '巨蟹座', 'profession': 26.0, 'hometown_province': '新疆', 'ethnic': 56.0}}, {'_index': 'test_index', '_id': '258252341', '_score': 0.35025817, '_source': {'nick': 'GM', 'gender': 'female', 'marry_state': 0, 'height': 160, 'weight': 88, 'education': 5, 'residence_city': '丰台', 'age': 35, 'interest': '[中国菜, 运动健身, 投资理财, 喜剧]', 'self_introduce': '根据网站要求，进行了手持身份证实名注册。我是一个孝顺,靠谱,顾家,诚信,善良的人 ，88年出生在内蒙，小学时随父母调到北京工作生活，身份证110102开头，未婚单身，京户京房京车，北京对外经济贸易大学会计专业本科毕业，在金融行业工作，任公司中层。(可不是推销理财卖保险的)持有CFA等证书。父母都是高级职称在京退休，姐姐姐夫都在京知名企业工作。性格开朗，善良聪慧，积极向上，知性气质，爱好看书，运动健身旅游等，善于理财。感情经历简单。没有任何不良嗜好。希望他，人品性格好，积极向上，真诚靠谱，健康阳光，未婚单身，年龄在88-83年出生，身高168-178CM,重点本科以上学历，在京有不错的工作和收入，最好有京户或京房，父母有退休金和医保，感情经历简单。不接受已婚过和异地的，非诚勿扰。谢谢。我不是会员，若有意联系可以连续发三封信，我买邮票看信，谢谢', 'income': 5.0, 'horoscope': '水瓶座', 'profession': 7.0, 'hometown_province': '内蒙古', 'university': '对外经济贸易大学'}}, {'_index': 'test_index', '_id': '375381996', '_score': 0.34469253, '_source': {'nick': '丫丫', 'gender': 'female', 'marry_state': 0, 'height': 160, 'weight': 48, 'education': 7, 'residence_city': '纽约州', 'age': 29, 'interest': '[中国菜, 惬意海岛, 风情名城, 江河大川]', 'self_introduce': '美国哥伦比亚大学硕士，目前在纽约工作。我是一个开朗,独立,简单的人 ，喜欢音乐会, 运动。我生长在一个三口之家,高知家庭，我爱我家人，他们也爱我。', 'income': 1.0, 'horoscope': '射手座', 'profession': 5.0, 'hometown_province': '广西', 'hometown_city': '南宁', 'ethnic': 1.0}}, {'_index': 'test_index', '_id': '326911531', '_score': 0.32627147, '_source': {'nick': '细雨-菲菲', 'gender': 'female', 'marry_state': 0, 'height': 155, 'weight': 60, 'education': 4, 'residence_city': '深圳', 'age': 40, 'interest': '[音乐, 体育运动, 中国菜, 历史传记, 政治事件, 图书馆/书店]', 'self_introduce': '目前从事财务工作，喜欢并且会做甜点平时去图书馆看书、手机唱唱歌、周一至周五早上练瑜伽喜欢乐器，尤其是二胡和吉他喜欢三毛，喜欢看人物传记每到一个新的地址地方，喜欢到博物馆看看简单、诚信、正直、善良希望对方也简单一点、豁达一点、不要抽烟。', 'income': 2.0, 'horoscope': '天蝎座', 'blood_type': 'O', 'profession': 5.0, 'hometown_province': '湖北', 'hometown_city': '咸宁', 'ethnic': 56.0, 'university': '中南财经政法大学'}}, {'_index': 'test_index', '_id': '305614432', '_score': 0.32627147, '_source': {'nick': 'wen?qi?er', 'gender': 'female', 'marry_state': 0, 'height': 170, 'weight': 56, 'education': 5, 'residence_city': '滨海新区', 'age': 38, 'interest': '[中国菜, 什么都看, 惬意海岛, 秀美山水, 历史遗迹, 江河大川, 小桥流水人家]', 'self_introduce': '选择另一半，各有各的原则。我选择工作在天津（非回族），居住在天津塘沽，从没有过孩子的。不接盘无论现在跟谁的拖油瓶。我喜欢旅游，憧憬生活自由。希望我未来的另一半是有责任心，有担当，实事求是，经历过高考不低于大专的正规学校毕业，IP所属地和户口皆为天津，在天津有稳定的正式工作（自有公司不算）。基本不出差。年龄不超过44岁，至少同岁，身高最低170，不过分超重。w祖籍，冀。天津大港人，住塘沽开发区，中档国产车。在职接本。希望你在天津滨海新区塘沽有车，必须有独立住房，无所谓贷款，因为我有房贷。不相信没有面包的爱情。基本的物质基础必须有。父母必须均有医保、社保、有养老住房。注：不考虑天津市以外的任何哪里及在天津市其他区居住的，不是谁不好，是奔波的成本太高，人生减负等于质量，何苦为难自己。', 'income': 1.0, 'horoscope': '双子座', 'profession': 8.0, 'hometown_province': '河北', 'hometown_city': '衡水', 'ethnic': 56.0, 'university': '天津农学院'}}, {'_index': 'test_index', '_id': '38265098', '_score': 0.31932223, '_source': {'nick': 'panp8', 'gender': 'male', 'marry_state': 0, 'height': 170, 'weight': 92, 'education': 5, 'residence_city': '安庆', 'age': 38, 'interest': '[网络, 中国菜, 什么都看, 什么都看, 其他, 其它, 其他选择]', 'self_introduce': '本人85年属牛的，双鱼座，更正一下。希望在这里能遇到有缘的她！西湖绿洲城(婚房，距乡间别墅2公里)2015年全款购买室内100平方，我一个人在这里住，安庆市宜秀区人。——找家庭主妇！生活无忧！稳定！我是老板！居家办公！女司机勿扰！二手的勿扰!', 'income': 2.0, 'horoscope': '水瓶座', 'blood_type': 'B', 'profession': 18.0, 'hometown_province': '安徽', 'hometown_city': '安庆', 'ethnic': 56.0, 'university': '安徽大学'}}]}}\n",
      "D {'took': 4, 'timed_out': False, '_shards': {'total': 2, 'successful': 2, 'skipped': 0, 'failed': 0}, 'hits': {'total': {'value': 74, 'relation': 'eq'}, 'max_score': 1.1037507, 'hits': [{'_index': 'test_index', '_id': '337047878', '_score': 1.1037507, '_source': {'nick': '小草', 'gender': 'female', 'marry_state': 2, 'height': 158, 'weight': 65, 'education': 4, 'residence_city': '南昌', 'age': 67, 'interest': '[健康食品, 素食, 烹饪与饮食]', 'self_introduce': '本人容易相处，为人实在，低调做人，懂得照顾自己的丈夫是我最好的优点！习惯换位思考，性格开朗温顺的我，是你值得信任和依靠托付一生的人！本人国企单位退休，独居有房。上得厅堂，下得厨房。小孩早已成家立业有房有车,无任何负担！本人有看信邮票，欢迎留言,。非诚勿扰！', 'income': 1.0, 'horoscope': '天蝎座', 'blood_type': 'B', 'ethnic': 56.0}}, {'_index': 'test_index', '_id': '230148683', '_score': 1.0468328, '_source': {'nick': '晨夕', 'gender': 'female', 'marry_state': 1, 'height': 168, 'weight': 72, 'education': 5, 'residence_city': '保定', 'age': 42, 'interest': '[烹饪, 体育运动, 旅游, 健康食品, 素食, 运动健身, 健康与养生, 婚恋与家庭, 自然科学, 爱情, 动作冒险, 悬疑推理, 休闲生活, 惬意海岛, 广袤森林, 秀美山水, 小桥流水人家]', 'self_introduce': '我喜欢跑步、游泳、旅行，希望找到一个和我一起发现世界无穷无尽美好的伙伴，婚姻什么时候到来并不一定如我们所愿，但这也让生活保有了一份未知的惊喜。', 'income': 1.0, 'horoscope': '天蝎座', 'blood_type': 'A', 'ethnic': 56.0}}, {'_index': 'test_index', '_id': '278258499', '_score': 1.0418248, '_source': {'nick': '小西', 'gender': 'female', 'marry_state': 0, 'height': 160, 'weight': 50, 'education': 5, 'residence_city': '武汉', 'age': 37, 'interest': '[手工艺, 绘画, 旅游, 中国菜, 健康食品, 励志与成功, 运动健身, 健康与养生, 旅游, 什么都看, 暂无, 名山古刹, 风情名城, 峻秀峡谷]', 'self_introduce': '以前我总觉得，人要拥有的够多才能幸福，但最近几年我越来越认同，好的人生其实是从做减法开始的…过期的食物要丢，衣柜里不穿的衣服要舍弃，别留恋，往前走，去迎接新的生活！（新的一年希望重新出发在此平台寻到有缘人，要求对方真诚稳重，品性善良，不抽烟，未婚，大专以上学历，28-40岁之间身高不低于1米72）', 'income': 1.0, 'horoscope': '白羊座', 'blood_type': 'B', 'profession': 20.0, 'hometown_province': '湖北', 'hometown_city': '武汉', 'ethnic': 56.0}}, {'_index': 'test_index', '_id': '377350393', '_score': 1.0236418, '_source': {'nick': '寻缘', 'gender': 'female', 'marry_state': 1, 'height': 157, 'weight': 61, 'education': 5, 'residence_city': '深圳', 'age': 53, 'interest': '[音乐, 购物, 旅游, 其它, 中国菜, 健康食品, 哲学与宗教, 健康与养生, 人文社科, 其他, 悬疑推理, 纪录片, 娱乐八卦, 在自己或朋友家里, 其它, 惬意海岛, 高原雪域, 小桥流水人家]', 'self_introduce': '身体健康，心态年轻，受过良好教育，从事教育和财务工作，性格直来直去，淳朴善良，待人真诚，希望找到有缘人。猴子掰苞米的故事每天都在上演，不忘初心，方得始终。', 'income': 2.0, 'horoscope': '天蝎座', 'blood_type': 'A', 'profession': 11.0, 'hometown_province': '湖北', 'hometown_city': '其它', 'ethnic': 56.0, 'university': '武汉大学'}}, {'_index': 'test_index', '_id': '240975231', '_score': 0.9992913, '_source': {'nick': '紫薇', 'gender': 'female', 'marry_state': 1, 'height': 161, 'weight': 61, 'education': 5, 'residence_city': '杭州', 'age': 44, 'interest': '[中国菜, 健康食品, 哲学与宗教, 历史传记, 健康与养生, 投资理财, 爱情, 动作冒险, 悬疑推理, 剧情, 饭店, 电影院, 图书馆/书店, 咖啡厅, 惬意海岛]', 'self_introduce': '浙江省内人。动静皆宜,性格率直,善良孝顺，端庄文静,有个性,喜欢小动物和关爱老人,喜欢看书,看电影,散步,亲近大自然...希望你:人品好,性格好,脾气温和儒雅,包容大度,本科学历,有责任心,有绅士风度(骨子里的教养),生活精致整洁,言而有信,爱读书和运动,长得顺眼，江浙人士。本人读书年阅读量四五十本以上,希望你也喜欢看书.注:异地的、身高170CM以下的、加了微信一个月内不积极聊天不见面的,请不要联系我', 'income': 2.0, 'horoscope': '巨蟹座', 'blood_type': 'O', 'profession': 26.0, 'hometown_province': '浙江', 'hometown_city': '绍兴', 'ethnic': 56.0, 'university': '浙江大学'}}, {'_index': 'test_index', '_id': '360025958', '_score': 0.9911031, '_source': {'nick': '沐阳', 'gender': 'female', 'marry_state': 1, 'height': 158, 'weight': 83, 'education': 4, 'residence_city': '长沙', 'age': 47, 'interest': '[园艺, 读书, 体育运动, 其它, 健康食品, 文学, 运动健身, 其他, 名山古刹, 历史遗迹]', 'self_introduce': '忘掉一段不美好的过去，重新起航。生活虽然忙碌而琐碎，一直有心中的向往，或许上帝关上了一张门，会打开一扇窗。坚持瑜伽锻炼，身体健康柔韧；坚持学习读书，思想纯粹静好；热爱自己的职业，工作从容稳重；能上厅堂，亦能做出一般水准的湘菜。寻找有担当，能力在我以上的伴侣，度温柔你我的岁月。我有孩子，且不止一个，请慎重对待。', 'income': 1.0, 'horoscope': '天秤座', 'profession': 7.0, 'hometown_province': '湖南', 'ethnic': 56.0}}, {'_index': 'test_index', '_id': '290415501', '_score': 0.9600946, '_source': {'nick': '相伴到老', 'gender': 'female', 'marry_state': 1, 'height': 160, 'weight': 86, 'education': 5, 'residence_city': '西城', 'age': 46, 'interest': '[摄影, 舞蹈, 读书, 体育运动, 旅游, 健康食品, 励志与成功, 政治与军事, 历史传记, 健康与养生, 投资理财, 喜剧, 音乐歌舞, 历史传记, 政治事件, 行业发展, 惬意海岛, 秀美山水]', 'self_introduce': '传承几代junren之家优秀传统家风家训，风清气正、爱国爱家，正直、正派、忠诚、踏实、孝顺、有责任、有担当。30年前随父母全家定居北京西城。在此纯粹征婚，以结婚为目的，只找北京同城，非诚勿扰！异地勿扰！骗子勿扰！本人基本情况：75年属兔，在北京生活工作近30年,有北京社保医保养老，单身离异，无子女、无家庭负担、无经济负担、无生育打算；个人经济独立稳定、生活简单充实，不依附不高攀、顺其自然、心平气和，至于其它，有则锦上添花，无则依旧风华；自尊自爱、自律自立、心态阳光、性格开朗、积极乐观、热爱生活、热爱运动；身体健康、精力体力充沛、贤惠善良孝顺、干净整洁，不抽烟、不喝酒、不打牌，无任何不良嗜好；早睡早起、规律生活，坚持早起晨跑10多年，无论春夏秋冬、严寒酷暑，已经习惯成自然；正能量满满，除了是一名运动爱好者，平时还乐于参与社会公益活动。同类相吸、同屏共振，喜欢交往同样充满正能量的三观正的朋友。感谢佳缘这个平台，感恩所有人的付出！在此希望遇见我未来的老伴，一位值得我爱、值得我疼、值得我陪伴、照顾到终老的男人！', 'income': 1.0, 'horoscope': '射手座', 'blood_type': 'O', 'profession': 3.0, 'hometown_province': '河北', 'hometown_city': '廊坊', 'ethnic': 56.0}}, {'_index': 'test_index', '_id': '244729480', '_score': 0.93088377, '_source': {'nick': '安心', 'gender': 'female', 'marry_state': 1, 'height': 155, 'weight': 48, 'education': 4, 'residence_city': '武汉', 'age': 51, 'interest': '[影视, 音乐, 购物, 读书, 体育运动, 中国菜, 健康食品, 文学, 运动健身, 健康与养生, 婚恋与家庭, 娱乐时尚, 理财投资, 畅销书, 休闲生活, 惬意海岛, 繁华都市, 秀美山水, 江河大川, 小桥流水人家]', 'self_introduce': '写信留QQ的一律拉黑人生没有来日方长，想找一个温暖的人相伴余生！我崇尚健康的生活方式，平时会跑步，瑜伽，希望你也一样，没有不良嗜好！希望你：真诚正直，大气有担当，不要斤斤计较，性格随合不要太固执。注：在上海工作了十几年，今年7月才回武汉我是天蝎座', 'income': 4.0, 'horoscope': '天秤座', 'blood_type': 'B', 'hometown_province': '湖北', 'ethnic': 56.0}}, {'_index': 'test_index', '_id': '328624210', '_score': 0.916935, '_source': {'nick': '期盼', 'gender': 'female', 'marry_state': 1, 'height': 158, 'weight': 48, 'education': 5, 'residence_city': '中山', 'age': 67, 'interest': '[摄影, 音乐, 购物, 舞蹈, 旅游, 中国菜, 日本菜, 健康食品, 素食, 艺术与摄影, 健康与养生, 烹饪与饮食, 娱乐时尚, 自然科学, 音乐歌舞, 纪录片, 相声曲艺, 休闲生活, 商场, 剧院, 音乐会, 温泉, 逛街, 秀美山水]', 'self_introduce': '人头像是2023 年三八节那天。人还很显年轻！身体健康，没有三高！一年四季游泳。特别视力很好！找个老伴，希望 他独居电梯房，因为已经住习惯了。希望他有稳定退休工资，不吸烟。公务员，老师， 医生，优先考虑！我一个优秀的儿子国外研究生毕业，一个孙子。目前喜欢游泳，公园散步，旅游。就是没有帅哥陪伴，总是一个人，空巢老人家，感觉没有家庭温暖。还是要找个老伴！开心健康过退休养老生活！年龄63 -73岁之间，有独居电梯房 。有经济能力！没有独居电梯房的请不要打扰！！！不诚信的请不要打扰！！！不 找情人，只找老伴！', 'income': 2.0, 'horoscope': '双鱼座', 'blood_type': 'O', 'hometown_province': '湖南', 'hometown_city': '岳阳', 'ethnic': 56.0, 'university': '湖南师范大学'}}, {'_index': 'test_index', '_id': '390775361', '_score': 0.9009235, '_source': {'nick': 'sunny', 'gender': 'female', 'marry_state': 1, 'height': 155, 'weight': 90, 'education': 5, 'residence_city': '渝北', 'age': 45, 'interest': '[中国菜, 泰国菜, 日本菜, 烧烤, 健康食品, 惬意海岛, 风情名城, 广袤森林, 秀美山水, 小桥流水人家]', 'self_introduce': '没有实名认证的来信一律拉黑！医学类本科，事业单位工作。有点自由散漫，如果你也是，那我们互相都不用嫌弃，可以结伴乐游人生。喜欢旅行，去过一些国家，争取未来能看更多的世界、体会不同的文化。没有运动天赋，喜欢步行，对跑马拉松、热爱运动的人很是钦佩。讲究眼缘，不喜欢油腻感，希望对方阳光向上。经济能够自给自足，但这不是接受抠门吝啬的人的理由，男人应该有胸怀、责任与担当。一切顺其自然吧！', 'income': 2.0, 'horoscope': '摩羯座', 'blood_type': 'A', 'ethnic': 56.0}}]}}\n",
      "E {'took': 2, 'timed_out': False, '_shards': {'total': 2, 'successful': 2, 'skipped': 0, 'failed': 0}, 'hits': {'total': {'value': 59, 'relation': 'eq'}, 'max_score': 1.5576361, 'hits': [{'_index': 'test_index', '_id': '337047878', '_score': 1.5576361, '_source': {'nick': '小草', 'gender': 'female', 'marry_state': 2, 'height': 158, 'weight': 65, 'education': 4, 'residence_city': '南昌', 'age': 67, 'interest': '[健康食品, 素食, 烹饪与饮食]', 'self_introduce': '本人容易相处，为人实在，低调做人，懂得照顾自己的丈夫是我最好的优点！习惯换位思考，性格开朗温顺的我，是你值得信任和依靠托付一生的人！本人国企单位退休，独居有房。上得厅堂，下得厨房。小孩早已成家立业有房有车,无任何负担！本人有看信邮票，欢迎留言,。非诚勿扰！', 'income': 1.0, 'horoscope': '天蝎座', 'blood_type': 'B', 'ethnic': 56.0}}, {'_index': 'test_index', '_id': '101413172', '_score': 1.2435976, '_source': {'nick': '宁静的夏天', 'gender': 'female', 'marry_state': 1, 'height': 165, 'weight': 87, 'education': 4, 'residence_city': '西安', 'age': 37, 'interest': '[中国菜, 健康食品, 素食, 巧克力和甜点, 励志与成功, 娱乐时尚, 什么都看, 爱情, 古装武侠]', 'self_introduce': '离婚独自带孩子（女孩），前夫在外省定居，所以离婚没联系，关于来看孩子的问题，分开时就沟通好了，无探视权，请不要再纠结此问题。寻找一个工作稳定，性格稳定，爱干净，心地善良，三观正，顾家的男人。我不抽烟喝酒，没有不良嗜好，自认为还比较通情达理，愿尽快寻找合适的对象结束单身。', 'income': 1.0, 'horoscope': '天蝎座', 'blood_type': 'B', 'profession': 26.0, 'hometown_province': '陕西', 'hometown_city': '西安', 'ethnic': 56.0}}, {'_index': 'test_index', '_id': '387849948', '_score': 1.2087826, '_source': {'nick': '人在草木间', 'gender': 'female', 'marry_state': 1, 'height': 168, 'weight': 85, 'education': 3, 'residence_city': '闵行', 'age': 57, 'interest': '[中国菜, 泰国菜, 日本菜, 健康食品, 惬意海岛, 高原雪域, 秀美山水, 历史遗迹, 小桥流水人家]', 'self_introduce': '一个善良，成熟、端庄、有生活情调的女人。上得厅堂、下得厨房。喜欢煲糖水、炖靓汤，做精致、清新的小菜，和自己所爱的人一起品味。一屋二人三餐四季，人生何求？希望自己永远年轻，希望生活永远美满。相信爱情，希望彼此有能力成就对方获得更多幸福感。喜欢旅游，喜欢散步，倾听爱人诉说他的喜悦、他的劳累，他的梦想……对于物质，小富即安、知足常乐。不会凯觎对方的财产，若心灵的丰富和爱情的美满，我们就是个大富翁。以后我会把家庭当成最大的事业来经营；把你，我的爱人，当成最珍贵的财富来守护。乐观、积极、善良、低调，始终对生命怀有一颗感恩的心。希望逢着一个谦谦君子，彼此真诚，彼此恩爱，彼此忠诚，直到生命的尽头。拒绝异地， 拒绝一切不以婚姻为目的的交往，理财，投资请绕道~', 'income': 1.0, 'horoscope': '水瓶座', 'blood_type': 'A', 'profession': 23.0, 'hometown_city': '上海', 'ethnic': 56.0}}, {'_index': 'test_index', '_id': '360025958', '_score': 1.1833795, '_source': {'nick': '沐阳', 'gender': 'female', 'marry_state': 1, 'height': 158, 'weight': 83, 'education': 4, 'residence_city': '长沙', 'age': 47, 'interest': '[园艺, 读书, 体育运动, 其它, 健康食品, 文学, 运动健身, 其他, 名山古刹, 历史遗迹]', 'self_introduce': '忘掉一段不美好的过去，重新起航。生活虽然忙碌而琐碎，一直有心中的向往，或许上帝关上了一张门，会打开一扇窗。坚持瑜伽锻炼，身体健康柔韧；坚持学习读书，思想纯粹静好；热爱自己的职业，工作从容稳重；能上厅堂，亦能做出一般水准的湘菜。寻找有担当，能力在我以上的伴侣，度温柔你我的岁月。我有孩子，且不止一个，请慎重对待。', 'income': 1.0, 'horoscope': '天秤座', 'profession': 7.0, 'hometown_province': '湖南', 'ethnic': 56.0}}, {'_index': 'test_index', '_id': '380334530', '_score': 1.1151272, '_source': {'nick': 'lili', 'gender': 'female', 'marry_state': 0, 'height': 162, 'weight': 99, 'education': 7, 'residence_city': '通州', 'age': 39, 'interest': '[写作, 舞蹈, 读书, 体育运动, 中国菜, 健康食品, 无特别爱好, 剧院, 电影院, 音乐会, 图书馆/书店, 咖啡厅]', 'self_introduce': '互相欣赏、双向奔赴的爱情是我落地的感情观。朝九晚六的工作之余，打羽毛球、写毛笔字、行万里路、读万卷书，只是因为喜欢。运动时挥汗如雨的畅快，陌生的城市走错路却发现更美风景的惊喜，慢慢叠好干净衣服的悠然都让独自走过的时光宁静而浓烈，欣然乐见自己成为了健康、热爱生活的自己。成长的感悟让我能平和且宽容地面对接下来的人生旅程。无法预知将来,也许这正是人生岁月的真实，与你相遇是最美的时刻。来呀，互相了解吧。', 'income': 2.0, 'horoscope': '双鱼座', 'blood_type': 'A', 'profession': 23.0, 'hometown_city': '北京', 'ethnic': 56.0, 'university': '北京大学'}}, {'_index': 'test_index', '_id': '283055726', '_score': 1.1151272, '_source': {'nick': '紫静城', 'gender': 'female', 'marry_state': 1, 'height': 160, 'weight': 82, 'education': 4, 'residence_city': '浦东新区', 'age': 58, 'interest': '[音乐, 写作, 读书, 绘画, 旅游, 中国菜, 法国菜, 日本菜, 烧烤, 健康食品, 惬意海岛, 风情名城, 秀美山水, 江河大川, 小桥流水人家]', 'self_introduce': '靓丽中不乏淡雅、明艳中透着清新。颜控！照片是近几年拍的，有几张是今年2023年拍的！多读书、多锻炼、自律、阳光豁达好心态可以保持年轻态～ 当今社会，视觉年龄比实际年龄更重要～性格慢热、娴静少言，文艺宅女、好读书，偶有著文自娱，或唱歌、书法消遣，闲时旅游、健身……一个人的生活轻松自由，再有个爱人相互陪伴、相互照顾的那才是幸福！女儿留学后留在日本工作，日本或者上海生活皆可。网络是虚拟的，落地见面才算认识。存了些看信宝，可以看来信，有眼缘可以发信给我，我会认真回复你。常常收到百合网上会员的来信，抱歉，我没有注册百合网，来信打不开…id地址与资料不符的请勿来信，qq不加！', 'income': 1.0, 'horoscope': '天秤座', 'blood_type': 'O', 'ethnic': 56.0}}, {'_index': 'test_index', '_id': '321478970', '_score': 1.1009109, '_source': {'nick': 'wei', 'gender': 'female', 'marry_state': 0, 'height': 162, 'weight': 59, 'education': 7, 'residence_city': '南京', 'age': 39, 'interest': '[写作, 展览, 烹饪, 读书, 绘画, 中国菜, 健康食品, 素食, 什么都看, 纪录片, 剧情, 畅销书, 图书馆/书店, 名山古刹, 历史遗迹]', 'self_introduce': '本人知书达理，性格温柔，形象气质佳，无复杂感情史。觅感情专一，作风正派，无不良嗜好及混乱感情史，行为举止得体，有责任担当的同城男子缔结家庭。留言请认真，勿频繁乱弹系统信，大家都挺忙的，谢谢！', 'income': 1.0, 'horoscope': '白羊座', 'blood_type': 'B', 'hometown_province': '江苏', 'hometown_city': '南京', 'ethnic': 56.0, 'university': '河南大学'}}, {'_index': 'test_index', '_id': '282774611', '_score': 1.1009109, '_source': {'nick': '梁如月', 'gender': 'female', 'marry_state': 2, 'height': 130, 'weight': 57, 'education': 3, 'residence_city': '吉林', 'age': 61, 'interest': '[动物, 音乐, 体育运动, 中国菜, 烧烤, 健康食品, 爱情, 喜剧, 休闲生活, 饭店, 商场, 温泉, 卡拉OK, 在自己或朋友家里, 小桥流水人家]', 'self_introduce': '来到这里一年了，看到很多人的资料，能看上真的是需要眼缘的。我不符合你的标准，我不会再看。人要有点志气呀!为什么篡改我的独白呢？有那么几位，我都不看，像考勤，跟*一样，脸皮真厚呀！即烦人也恶心人，没有放照片是自己真不想看到那几个人的嘴脸呀！！！每天早餐后收拾完卫生就上会网，十点多下网做午饭，午饭后再来个午睡，醒来喝会下午茶，在给养的花浇浇水，日复一日.新年伊始，郑重声明，不看你一眼的，给我滚，少来我这里，明白？！我烦的人就别老来这里了。有位男士问我，找老伴钱怎么分配呀？都没把自己位置放正就先谈钱，用网络一句话回答：啥也不是，丢人.今天是母亲节，其实也是我的生日，在失去母亲后，我就告诉女儿，从此以后我在也不过生日了。余生好好爱自己，不奢望就不失望。发信息我也看不到，看到的人家又没回应，就怕对牛弹琴呀！哈哈哈今天（28）早上收拾厨房发现柜门下面有水，顺藤摸瓜找到出水点，原来是阀门坏了，铜鼓半天，不行，就声援了孩子奶奶家的那边亲人，给处理的妥妥的。自己感觉有时真的很无奈。现在我都不反锁门了，生怕会有意外，到时候孩子进不来。嘿！', 'income': 1.0, 'horoscope': '金牛座', 'blood_type': '其它', 'ethnic': 56.0}}, {'_index': 'test_index', '_id': '177929372', '_score': 1.0870525, '_source': {'nick': '不离不弃ever', 'gender': 'male', 'marry_state': 0, 'height': 175, 'weight': 99, 'education': 7, 'residence_city': '西城', 'age': 48, 'interest': '[网络, 读书, 体育运动, 旅游, 中国菜, 健康食品, 励志与成功, 行业发展, 惬意海岛, 繁华都市, 秀美山水, 江河大川, 小桥流水人家]', 'self_introduce': '北京名校本硕毕业，京户，西城有房（无贷）。别人评价人品好、靠谱、综合素质高。包容、幽默、孝顺、稳重、诚信，有责任心。休息时看书，健身，听音乐。注重饮食，健康，不吸烟不好酒，没有任何不良嗜好。自身条件不差，之所以至今未婚是因为当年从外地考到帝都一路打拼，主要精力放在学业工作上，也因为婚姻大事关乎一生，甚至下一代，不想草率结婚，但也不是挑剔，只看缘分。***警告：本人只为婚姻，非诚勿扰远离。各种托、中介、理财、博彩、传销、支教资助等形形色色骗子被本人发现一律报警。***告诉你一个防骗秘诀：只要提到钱让你掏腰包的就是骗子，无论什么理由！！', 'income': 2.0, 'horoscope': '天秤座', 'blood_type': 'O', 'profession': 9.0, 'ethnic': 56.0, 'university': '清华大学'}}, {'_index': 'test_index', '_id': '278258499', '_score': 1.0870525, '_source': {'nick': '小西', 'gender': 'female', 'marry_state': 0, 'height': 160, 'weight': 50, 'education': 5, 'residence_city': '武汉', 'age': 37, 'interest': '[手工艺, 绘画, 旅游, 中国菜, 健康食品, 励志与成功, 运动健身, 健康与养生, 旅游, 什么都看, 暂无, 名山古刹, 风情名城, 峻秀峡谷]', 'self_introduce': '以前我总觉得，人要拥有的够多才能幸福，但最近几年我越来越认同，好的人生其实是从做减法开始的…过期的食物要丢，衣柜里不穿的衣服要舍弃，别留恋，往前走，去迎接新的生活！（新的一年希望重新出发在此平台寻到有缘人，要求对方真诚稳重，品性善良，不抽烟，未婚，大专以上学历，28-40岁之间身高不低于1米72）', 'income': 1.0, 'horoscope': '白羊座', 'blood_type': 'B', 'profession': 20.0, 'hometown_province': '湖北', 'hometown_city': '武汉', 'ethnic': 56.0}}]}}\n",
      "F: {'took': 1, 'timed_out': False, '_shards': {'total': 2, 'successful': 2, 'skipped': 0, 'failed': 0}, 'hits': {'total': {'value': 0, 'relation': 'eq'}, 'max_score': None, 'hits': []}}\n",
      "I: {'took': 3, 'timed_out': False, '_shards': {'total': 2, 'successful': 2, 'skipped': 0, 'failed': 0}, 'hits': {'total': {'value': 129, 'relation': 'eq'}, 'max_score': 1.0, 'hits': [{'_index': 'test_index', '_id': '177929372', '_score': 1.0, '_source': {'nick': '不离不弃ever', 'gender': 'male', 'marry_state': 0, 'height': 175, 'weight': 99, 'education': 7, 'residence_city': '西城', 'age': 48, 'interest': '[网络, 读书, 体育运动, 旅游, 中国菜, 健康食品, 励志与成功, 行业发展, 惬意海岛, 繁华都市, 秀美山水, 江河大川, 小桥流水人家]', 'self_introduce': '北京名校本硕毕业，京户，西城有房（无贷）。别人评价人品好、靠谱、综合素质高。包容、幽默、孝顺、稳重、诚信，有责任心。休息时看书，健身，听音乐。注重饮食，健康，不吸烟不好酒，没有任何不良嗜好。自身条件不差，之所以至今未婚是因为当年从外地考到帝都一路打拼，主要精力放在学业工作上，也因为婚姻大事关乎一生，甚至下一代，不想草率结婚，但也不是挑剔，只看缘分。***警告：本人只为婚姻，非诚勿扰远离。各种托、中介、理财、博彩、传销、支教资助等形形色色骗子被本人发现一律报警。***告诉你一个防骗秘诀：只要提到钱让你掏腰包的就是骗子，无论什么理由！！', 'income': 2.0, 'horoscope': '天秤座', 'blood_type': 'O', 'profession': 9.0, 'ethnic': 56.0, 'university': '清华大学'}}, {'_index': 'test_index', '_id': '173975328', '_score': 1.0, '_source': {'nick': 'Mr Rt158', 'gender': 'male', 'marry_state': 0, 'height': 175, 'weight': 48, 'education': 7, 'residence_city': '西城', 'age': 48, 'interest': '[中国菜, 健康食品, 励志与成功, 投资理财, 人文社科, 自然科学, 什么都看, 惬意海岛, 繁华都市, 秀美山水, 历史遗迹, 江河大川]', 'self_introduce': '北京名校本科硕士毕业，京户京房无贷，心地善良、人品很好，做事很靠谱、孝敬长辈，很有责任感。喜欢旅行,看书,健身。不挑食，喜欢健康生活。无不良嗜好，不吸烟（也很介意别人吸烟），不好酒。现在的生活状态和心情，可以说是“想结婚,静待缘分”。众里寻她千百度，命里佳人在何处？非婚姻目的者勿扰，骗子一律报警。善意给诚意征婚的人：只要没见面核实身份谈钱就是骗子，无论借钱还是赚钱都是套路，拉黑！', 'income': 2.0, 'horoscope': '天秤座', 'profession': 26.0, 'ethnic': 56.0, 'university': '清华大学'}}, {'_index': 'test_index', '_id': '129852534', '_score': 1.0, '_source': {'nick': 'zeng', 'gender': 'male', 'marry_state': 0, 'height': 168, 'weight': 70, 'education': 7, 'residence_city': '贵阳', 'age': 49, 'interest': '[写作, 读书, 绘画, 中国菜, 文学, 政治与军事, 健康与养生, 投资理财, 人文社科, 喜剧, 战争, 纪录片, 政治事件, 理财投资, 图书馆/书店, 惬意海岛, 繁华都市, 广袤森林, 历史遗迹, 小桥流水人家]', 'self_introduce': '我是1974年生，硕士学历，本科学工科。研究生读中文，做的工作是与文字有关，平时最大的爱好就是画画，或做些插图设计。我在前几年买了一套二手房，环境好，旁边有一个依河建的湿地公园。有房贷，但公积金可以覆盖房贷。无车贷。我的三观算是比较正的，从2014年开始，每月向一个儿童基金会捐一百元，每月从我的卡上自动转过去。由于种种原因，错过了一些我爱的人和爱我的人。年龄不小了，可期望还在。所以，希望在这里能找到那个\\\\\\\\\" 我的爱人\\\\\\\\\"。', 'income': 1.0, 'horoscope': '双鱼座', 'profession': 11.0, 'hometown_province': '湖南', 'hometown_city': '娄底', 'ethnic': 56.0, 'university': '湘潭大学'}}, {'_index': 'test_index', '_id': '102784991', '_score': 1.0, '_source': {'nick': '小羽', 'gender': 'male', 'marry_state': 0, 'height': 181, 'weight': 47, 'education': 5, 'residence_city': '朝阳', 'age': 37, 'interest': '[网络, 音乐, 体育运动, 旅游, 电子游戏, 中国菜, 烧烤, 巧克力和甜点, 文学, 动漫与幽默, 历史传记, 动作冒险, 科幻魔幻, 悬疑推理, 动画, 体育赛事, 相声曲艺, 饭店, 电影院, 卡拉OK, 体育馆, 在自己或朋友家里, 秀美山水, 小桥流水人家]', 'self_introduce': '挺懒的，懒得写这块，又挺急的，急着找对象。哎，委屈下我自己，动动笔吧。哈哈————————————————就先来个自评吧。你在看的这位帅哥，有点老了，86年的，年轻的时候那也是妥妥的回头率8成的小鲜肉一枚，可惜，时光这把杀猪刀割的有点狠。把”小鲜”都给割掉了，只剩块肉了。————————————————话说回来，好歹还是块肉，还有那么点嚼劲呢。也算风韵犹存吧。物质上呢，有房有车有稳定收入，不能说多优质。只是值得庆幸的是，我一直挺老实，也没培养出什么奢侈的追求，所以生活也就没什么压力。精神上呢，没什么精神，挺晚的了，困。————————————————-正经点吧！倔强的总是以为自己还是曾经的青葱少年，倔强的总是认为爱情会自己找来。但是时光告诉我，它更倔强，它貌似跟我不熟，不会对此网开一面。所以，我来了这里。更真诚的期待能在这里得到爱情的眷顾。找到另一半，牵着手，一起走，互相分享快乐，互相倾诉烦恼。偶尔冲那位倔强的时光打个招呼，然后依偎在一起，幸福的慢慢变老。__ _____________________补充一些，我属于比较接地气的普通人，会聊这顿的油盐柴米，明天的烤串啤酒大排档，未来某天的自驾游，也会宅在家玩会游戏，看看电影，看看综艺，听听小说相声，偶尔出门运动运动，跑跑步打打球。总之，俗人一枚，生活中也没有太多的仪式感。要真去吃个什么米其林，看个音乐会，也能看，但不会有什么陶冶情操的感觉，跟吃个麻辣烫，听个小剧场相声一个感觉，香就是好的。我呢，有房有车，就算不工作也有稳定收入，我目前也没什么太大的事业心，要做出什么大成就，每天多陪陪家人，周末带着老婆孩子玩一玩，逛一逛，健健康康，享受生活，慢慢记住生活，记录生活就知足了。______________', 'income': 2.0, 'horoscope': '双子座', 'blood_type': 'A', 'profession': 26.0, 'hometown_city': '北京朝阳', 'ethnic': 56.0}}, {'_index': 'test_index', '_id': '81312178', '_score': 1.0, '_source': {'nick': '南城阿牛', 'gender': 'male', 'marry_state': 0, 'height': 178, 'weight': 53, 'education': 5, 'residence_city': '南京', 'age': 30, 'interest': '[摄影, 音乐, 中国菜, 悬疑推理, 商场, 电影院, 逛街, 惬意海岛, 繁华都市, 风情名城, 历史遗迹]', 'self_introduce': '我是南京人 93年双鱼座 身高178 IT男。爱好：摄影、健身、弹吉他这个年纪应该为了自己的终生大事考虑考虑了，所以真心寻求一位我的另一半，希望你性格温顺，有自己的想法，如果肤白又爱笑，就更加分啦。我是个浪漫随性的人，生活是现实的，也是多彩的，我需要你陪我游遍千山万水，你需要我陪你度过春夏秋冬。', 'income': 2.0, 'horoscope': '双鱼座', 'profession': 3.0, 'hometown_province': '江苏', 'hometown_city': '南京', 'ethnic': 56.0}}, {'_index': 'test_index', '_id': '141511789', '_score': 1.0, '_source': {'nick': '水水小鱼', 'gender': 'male', 'marry_state': 1, 'height': 172, 'weight': 71, 'education': 5, 'residence_city': '海淀', 'age': 40, 'interest': '[网络, 汽车, 音乐, 烹饪, 旅游, 中国菜, 泰国菜, 法国菜, 俄罗斯菜, 烧烤, 校园青春, 励志与成功, 动漫与幽默, 政治与军事, 历史传记, 爱情, 喜剧, 动作冒险, 科幻魔幻, 悬疑推理, 政治事件, 娱乐八卦, 体育赛事, 影视热片, 休闲生活, 饭店, 商场, 电影院, 卡拉OK, 逛街, 惬意海岛, 名山古刹, 繁华都市, 风情名城, 秀美山水]', 'self_introduce': '北京土著爷们，简单的3口之家，独生子女，父母居住在海淀区圆明园附近的自家平房，我自己居住在海淀区上地附近一小区，学历大本，*党员，并在部队退伍以后，进去一家事业单位，任文职工作。有正事工作，此外每月还有一定的房租收入，有自己的独立住房和车辆，工作生活稳定。军旅生涯的历练让我格外坚强刚毅，使我在工作中积极进取，生活中勤劳肯干，任何家务皆能自理，空闲十分还可自制几道小菜，爱好音乐，电影，运动，美食，旅游等等，对于高品质生活有自己独有的见解和追求。不知道您看过我的资料感觉合适吗？我想寻找一位心灵相通，相互理解，开开心心的另一半，如果您是的话，那就赶快联系我吧，因为我深信真正的幸福不是他人恩赐得到的，而是靠自己创造付出拥有的！', 'income': 2.0, 'horoscope': '天秤座', 'blood_type': 'B', 'profession': 8.0, 'hometown_city': '北京海淀', 'ethnic': 56.0, 'university': '中共中央党校'}}, {'_index': 'test_index', '_id': '390774276', '_score': 1.0, '_source': {'nick': '空白先森', 'gender': 'male', 'marry_state': 1, 'height': 171, 'weight': 78, 'education': 5, 'residence_city': '黔西南', 'age': 32, 'interest': '[网络, 影视, 计算机, 电子游戏, 中国菜, 健康食品, 素食, 动漫与幽默, 喜剧, 动作冒险, 科幻魔幻, 悬疑推理, 动画, 休闲生活, 电影院, 温泉, 咖啡厅, 卡拉OK, 在自己或朋友家里, 还没想好]', 'self_introduce': '离异，目前无子女，情绪稳定，不会打麻将，闲暇时间喜欢骑机车看风景，不烂酒而且酒品好，少量抽烟，会游泳、会滑冰等等', 'income': 1.0, 'horoscope': '金牛座', 'hometown_province': '贵州'}}, {'_index': 'test_index', '_id': '390612840', '_score': 1.0, '_source': {'nick': '阳光男孩', 'gender': 'male', 'marry_state': 0, 'height': 175, 'weight': 70, 'education': 7, 'residence_city': '成都', 'age': 34, 'interest': '[汽车, 读书, 体育运动, 旅游, 中国菜, 意大利菜, 健康食品, 励志与成功, 运动健身, 烹饪与饮食, 旅游, 爱情, 悬疑推理, 历史传记, 体育赛事, 理财投资, 影视热片, 电影院, 图书馆/书店, 体育馆, 逛街, 惬意海岛, 繁华都市, 历史遗迹]', 'self_introduce': '本人阳光爱笑类型，真诚可靠，来这里真诚找结婚对象，从小家教严格，不抽烟，不喝酒，不去酒吧夜店，没有什么不良嗜好，工作之余喜欢旅游、运动、看书等，希望缘分尽快到来。那些骗子请绕道，各种投资、借钱、酒托等都是骗子，请远离我！晚点遇到你，余生都是你。祝福大家早日找到自己的心仪对象！', 'income': 2.0, 'horoscope': '处女座', 'blood_type': 'A', 'profession': 8.0, 'ethnic': 56.0, 'university': '中国人民大学'}}, {'_index': 'test_index', '_id': '390256388', '_score': 1.0, '_source': {'nick': '蓝天', 'gender': 'male', 'marry_state': 1, 'height': 172, 'weight': 82, 'education': 4, 'residence_city': '贵港', 'age': 60, 'interest': '[网络, 音乐, 中国菜, 政治与军事, 战争, 政治事件, 休闲生活, 其它, 秀美山水, 小桥流水人家]', 'self_introduce': '我的性格比较有爱心，热情奔放，我的业余时间都放在了散步、看书上，我憧憬自由、自然一般的生活，希望对方是一个活泼的女孩，我在这里等着一份缘定的爱情，等着你的到来。', 'income': 1.0, 'horoscope': '天秤座', 'blood_type': 'A', 'ethnic': 56.0}}, {'_index': 'test_index', '_id': '389923193', '_score': 1.0, '_source': {'nick': '芒果', 'gender': 'male', 'marry_state': 1, 'height': 179, 'weight': 95, 'education': 4, 'residence_city': '南宁', 'age': 42, 'interest': '[摄影, 手工艺, 读书, 中国菜, 快餐, 哲学与宗教, 其他, 爱情, 喜剧, 纪录片, 历史传记, 行业发展, 图书馆/书店, 咖啡厅, 风情名城, 高原雪域, 秀美山水, 历史遗迹, 小桥流水人家]', 'self_introduce': '诚实正直的性格，喜爱看书，徒步，摄影，希望能一起丰富彼此，一起柴米油盐，一起经历一段相互欣赏，相互扶持的路。经历过失败的婚姻，努力的向内看的几年，使得自己更真切的理解到作为不同角色的自己分别应该承担怎样的责任，以及这些责任应该以怎样的方式去具体的实现。多年对于儿童教育的全新投入，让我对人有了更深刻的理解，如若再有孩子，也会有比较清晰的图景去从容的帮助孩子的成长，面对各个阶段遇到的问题已经底层的应对方式。虽然我们经过多年的成长，生理上早已变得高大魁伟，不再是那个脆弱而容易哭泣的婴儿，但大多时候，在遇到事件时，我们仍然会表现出婴儿一样的反应模式，从了解行为，到理解对方，有的人天生就会，而大部分人却要经历怎样漫长的学习过程，用理性去理解感性的另一半，男人和女人，因为不一样生理构造，不一样的的角色，不一样的原始发展经历，导致沟通法式的迥异，这个对大部分人来说，并不容易很好的平衡，而我经历很多的经历，加上碰巧工作的需要，基本具备了这样的能力。', 'income': 1.0, 'horoscope': '天秤座', 'blood_type': 'O', 'profession': 4.0, 'hometown_province': '山东', 'hometown_city': '菏泽', 'ethnic': 56.0}}]}}\n",
      "G: {'took': 2, 'timed_out': False, '_shards': {'total': 2, 'successful': 2, 'skipped': 0, 'failed': 0}, 'hits': {'total': {'value': 122, 'relation': 'eq'}, 'max_score': 1.0, 'hits': [{'_index': 'test_index', '_id': '177929372', '_score': 1.0, '_source': {'nick': '不离不弃ever', 'gender': 'male', 'marry_state': 0, 'height': 175, 'weight': 99, 'education': 7, 'residence_city': '西城', 'age': 48, 'interest': '[网络, 读书, 体育运动, 旅游, 中国菜, 健康食品, 励志与成功, 行业发展, 惬意海岛, 繁华都市, 秀美山水, 江河大川, 小桥流水人家]', 'self_introduce': '北京名校本硕毕业，京户，西城有房（无贷）。别人评价人品好、靠谱、综合素质高。包容、幽默、孝顺、稳重、诚信，有责任心。休息时看书，健身，听音乐。注重饮食，健康，不吸烟不好酒，没有任何不良嗜好。自身条件不差，之所以至今未婚是因为当年从外地考到帝都一路打拼，主要精力放在学业工作上，也因为婚姻大事关乎一生，甚至下一代，不想草率结婚，但也不是挑剔，只看缘分。***警告：本人只为婚姻，非诚勿扰远离。各种托、中介、理财、博彩、传销、支教资助等形形色色骗子被本人发现一律报警。***告诉你一个防骗秘诀：只要提到钱让你掏腰包的就是骗子，无论什么理由！！', 'income': 2.0, 'horoscope': '天秤座', 'blood_type': 'O', 'profession': 9.0, 'ethnic': 56.0, 'university': '清华大学'}}, {'_index': 'test_index', '_id': '173975328', '_score': 1.0, '_source': {'nick': 'Mr Rt158', 'gender': 'male', 'marry_state': 0, 'height': 175, 'weight': 48, 'education': 7, 'residence_city': '西城', 'age': 48, 'interest': '[中国菜, 健康食品, 励志与成功, 投资理财, 人文社科, 自然科学, 什么都看, 惬意海岛, 繁华都市, 秀美山水, 历史遗迹, 江河大川]', 'self_introduce': '北京名校本科硕士毕业，京户京房无贷，心地善良、人品很好，做事很靠谱、孝敬长辈，很有责任感。喜欢旅行,看书,健身。不挑食，喜欢健康生活。无不良嗜好，不吸烟（也很介意别人吸烟），不好酒。现在的生活状态和心情，可以说是“想结婚,静待缘分”。众里寻她千百度，命里佳人在何处？非婚姻目的者勿扰，骗子一律报警。善意给诚意征婚的人：只要没见面核实身份谈钱就是骗子，无论借钱还是赚钱都是套路，拉黑！', 'income': 2.0, 'horoscope': '天秤座', 'profession': 26.0, 'ethnic': 56.0, 'university': '清华大学'}}, {'_index': 'test_index', '_id': '129852534', '_score': 1.0, '_source': {'nick': 'zeng', 'gender': 'male', 'marry_state': 0, 'height': 168, 'weight': 70, 'education': 7, 'residence_city': '贵阳', 'age': 49, 'interest': '[写作, 读书, 绘画, 中国菜, 文学, 政治与军事, 健康与养生, 投资理财, 人文社科, 喜剧, 战争, 纪录片, 政治事件, 理财投资, 图书馆/书店, 惬意海岛, 繁华都市, 广袤森林, 历史遗迹, 小桥流水人家]', 'self_introduce': '我是1974年生，硕士学历，本科学工科。研究生读中文，做的工作是与文字有关，平时最大的爱好就是画画，或做些插图设计。我在前几年买了一套二手房，环境好，旁边有一个依河建的湿地公园。有房贷，但公积金可以覆盖房贷。无车贷。我的三观算是比较正的，从2014年开始，每月向一个儿童基金会捐一百元，每月从我的卡上自动转过去。由于种种原因，错过了一些我爱的人和爱我的人。年龄不小了，可期望还在。所以，希望在这里能找到那个\\\\\\\\\" 我的爱人\\\\\\\\\"。', 'income': 1.0, 'horoscope': '双鱼座', 'profession': 11.0, 'hometown_province': '湖南', 'hometown_city': '娄底', 'ethnic': 56.0, 'university': '湘潭大学'}}, {'_index': 'test_index', '_id': '102784991', '_score': 1.0, '_source': {'nick': '小羽', 'gender': 'male', 'marry_state': 0, 'height': 181, 'weight': 47, 'education': 5, 'residence_city': '朝阳', 'age': 37, 'interest': '[网络, 音乐, 体育运动, 旅游, 电子游戏, 中国菜, 烧烤, 巧克力和甜点, 文学, 动漫与幽默, 历史传记, 动作冒险, 科幻魔幻, 悬疑推理, 动画, 体育赛事, 相声曲艺, 饭店, 电影院, 卡拉OK, 体育馆, 在自己或朋友家里, 秀美山水, 小桥流水人家]', 'self_introduce': '挺懒的，懒得写这块，又挺急的，急着找对象。哎，委屈下我自己，动动笔吧。哈哈————————————————就先来个自评吧。你在看的这位帅哥，有点老了，86年的，年轻的时候那也是妥妥的回头率8成的小鲜肉一枚，可惜，时光这把杀猪刀割的有点狠。把”小鲜”都给割掉了，只剩块肉了。————————————————话说回来，好歹还是块肉，还有那么点嚼劲呢。也算风韵犹存吧。物质上呢，有房有车有稳定收入，不能说多优质。只是值得庆幸的是，我一直挺老实，也没培养出什么奢侈的追求，所以生活也就没什么压力。精神上呢，没什么精神，挺晚的了，困。————————————————-正经点吧！倔强的总是以为自己还是曾经的青葱少年，倔强的总是认为爱情会自己找来。但是时光告诉我，它更倔强，它貌似跟我不熟，不会对此网开一面。所以，我来了这里。更真诚的期待能在这里得到爱情的眷顾。找到另一半，牵着手，一起走，互相分享快乐，互相倾诉烦恼。偶尔冲那位倔强的时光打个招呼，然后依偎在一起，幸福的慢慢变老。__ _____________________补充一些，我属于比较接地气的普通人，会聊这顿的油盐柴米，明天的烤串啤酒大排档，未来某天的自驾游，也会宅在家玩会游戏，看看电影，看看综艺，听听小说相声，偶尔出门运动运动，跑跑步打打球。总之，俗人一枚，生活中也没有太多的仪式感。要真去吃个什么米其林，看个音乐会，也能看，但不会有什么陶冶情操的感觉，跟吃个麻辣烫，听个小剧场相声一个感觉，香就是好的。我呢，有房有车，就算不工作也有稳定收入，我目前也没什么太大的事业心，要做出什么大成就，每天多陪陪家人，周末带着老婆孩子玩一玩，逛一逛，健健康康，享受生活，慢慢记住生活，记录生活就知足了。______________', 'income': 2.0, 'horoscope': '双子座', 'blood_type': 'A', 'profession': 26.0, 'hometown_city': '北京朝阳', 'ethnic': 56.0}}, {'_index': 'test_index', '_id': '81312178', '_score': 1.0, '_source': {'nick': '南城阿牛', 'gender': 'male', 'marry_state': 0, 'height': 178, 'weight': 53, 'education': 5, 'residence_city': '南京', 'age': 30, 'interest': '[摄影, 音乐, 中国菜, 悬疑推理, 商场, 电影院, 逛街, 惬意海岛, 繁华都市, 风情名城, 历史遗迹]', 'self_introduce': '我是南京人 93年双鱼座 身高178 IT男。爱好：摄影、健身、弹吉他这个年纪应该为了自己的终生大事考虑考虑了，所以真心寻求一位我的另一半，希望你性格温顺，有自己的想法，如果肤白又爱笑，就更加分啦。我是个浪漫随性的人，生活是现实的，也是多彩的，我需要你陪我游遍千山万水，你需要我陪你度过春夏秋冬。', 'income': 2.0, 'horoscope': '双鱼座', 'profession': 3.0, 'hometown_province': '江苏', 'hometown_city': '南京', 'ethnic': 56.0}}, {'_index': 'test_index', '_id': '141511789', '_score': 1.0, '_source': {'nick': '水水小鱼', 'gender': 'male', 'marry_state': 1, 'height': 172, 'weight': 71, 'education': 5, 'residence_city': '海淀', 'age': 40, 'interest': '[网络, 汽车, 音乐, 烹饪, 旅游, 中国菜, 泰国菜, 法国菜, 俄罗斯菜, 烧烤, 校园青春, 励志与成功, 动漫与幽默, 政治与军事, 历史传记, 爱情, 喜剧, 动作冒险, 科幻魔幻, 悬疑推理, 政治事件, 娱乐八卦, 体育赛事, 影视热片, 休闲生活, 饭店, 商场, 电影院, 卡拉OK, 逛街, 惬意海岛, 名山古刹, 繁华都市, 风情名城, 秀美山水]', 'self_introduce': '北京土著爷们，简单的3口之家，独生子女，父母居住在海淀区圆明园附近的自家平房，我自己居住在海淀区上地附近一小区，学历大本，*党员，并在部队退伍以后，进去一家事业单位，任文职工作。有正事工作，此外每月还有一定的房租收入，有自己的独立住房和车辆，工作生活稳定。军旅生涯的历练让我格外坚强刚毅，使我在工作中积极进取，生活中勤劳肯干，任何家务皆能自理，空闲十分还可自制几道小菜，爱好音乐，电影，运动，美食，旅游等等，对于高品质生活有自己独有的见解和追求。不知道您看过我的资料感觉合适吗？我想寻找一位心灵相通，相互理解，开开心心的另一半，如果您是的话，那就赶快联系我吧，因为我深信真正的幸福不是他人恩赐得到的，而是靠自己创造付出拥有的！', 'income': 2.0, 'horoscope': '天秤座', 'blood_type': 'B', 'profession': 8.0, 'hometown_city': '北京海淀', 'ethnic': 56.0, 'university': '中共中央党校'}}, {'_index': 'test_index', '_id': '390774276', '_score': 1.0, '_source': {'nick': '空白先森', 'gender': 'male', 'marry_state': 1, 'height': 171, 'weight': 78, 'education': 5, 'residence_city': '黔西南', 'age': 32, 'interest': '[网络, 影视, 计算机, 电子游戏, 中国菜, 健康食品, 素食, 动漫与幽默, 喜剧, 动作冒险, 科幻魔幻, 悬疑推理, 动画, 休闲生活, 电影院, 温泉, 咖啡厅, 卡拉OK, 在自己或朋友家里, 还没想好]', 'self_introduce': '离异，目前无子女，情绪稳定，不会打麻将，闲暇时间喜欢骑机车看风景，不烂酒而且酒品好，少量抽烟，会游泳、会滑冰等等', 'income': 1.0, 'horoscope': '金牛座', 'hometown_province': '贵州'}}, {'_index': 'test_index', '_id': '390612840', '_score': 1.0, '_source': {'nick': '阳光男孩', 'gender': 'male', 'marry_state': 0, 'height': 175, 'weight': 70, 'education': 7, 'residence_city': '成都', 'age': 34, 'interest': '[汽车, 读书, 体育运动, 旅游, 中国菜, 意大利菜, 健康食品, 励志与成功, 运动健身, 烹饪与饮食, 旅游, 爱情, 悬疑推理, 历史传记, 体育赛事, 理财投资, 影视热片, 电影院, 图书馆/书店, 体育馆, 逛街, 惬意海岛, 繁华都市, 历史遗迹]', 'self_introduce': '本人阳光爱笑类型，真诚可靠，来这里真诚找结婚对象，从小家教严格，不抽烟，不喝酒，不去酒吧夜店，没有什么不良嗜好，工作之余喜欢旅游、运动、看书等，希望缘分尽快到来。那些骗子请绕道，各种投资、借钱、酒托等都是骗子，请远离我！晚点遇到你，余生都是你。祝福大家早日找到自己的心仪对象！', 'income': 2.0, 'horoscope': '处女座', 'blood_type': 'A', 'profession': 8.0, 'ethnic': 56.0, 'university': '中国人民大学'}}, {'_index': 'test_index', '_id': '390256388', '_score': 1.0, '_source': {'nick': '蓝天', 'gender': 'male', 'marry_state': 1, 'height': 172, 'weight': 82, 'education': 4, 'residence_city': '贵港', 'age': 60, 'interest': '[网络, 音乐, 中国菜, 政治与军事, 战争, 政治事件, 休闲生活, 其它, 秀美山水, 小桥流水人家]', 'self_introduce': '我的性格比较有爱心，热情奔放，我的业余时间都放在了散步、看书上，我憧憬自由、自然一般的生活，希望对方是一个活泼的女孩，我在这里等着一份缘定的爱情，等着你的到来。', 'income': 1.0, 'horoscope': '天秤座', 'blood_type': 'A', 'ethnic': 56.0}}, {'_index': 'test_index', '_id': '389923193', '_score': 1.0, '_source': {'nick': '芒果', 'gender': 'male', 'marry_state': 1, 'height': 179, 'weight': 95, 'education': 4, 'residence_city': '南宁', 'age': 42, 'interest': '[摄影, 手工艺, 读书, 中国菜, 快餐, 哲学与宗教, 其他, 爱情, 喜剧, 纪录片, 历史传记, 行业发展, 图书馆/书店, 咖啡厅, 风情名城, 高原雪域, 秀美山水, 历史遗迹, 小桥流水人家]', 'self_introduce': '诚实正直的性格，喜爱看书，徒步，摄影，希望能一起丰富彼此，一起柴米油盐，一起经历一段相互欣赏，相互扶持的路。经历过失败的婚姻，努力的向内看的几年，使得自己更真切的理解到作为不同角色的自己分别应该承担怎样的责任，以及这些责任应该以怎样的方式去具体的实现。多年对于儿童教育的全新投入，让我对人有了更深刻的理解，如若再有孩子，也会有比较清晰的图景去从容的帮助孩子的成长，面对各个阶段遇到的问题已经底层的应对方式。虽然我们经过多年的成长，生理上早已变得高大魁伟，不再是那个脆弱而容易哭泣的婴儿，但大多时候，在遇到事件时，我们仍然会表现出婴儿一样的反应模式，从了解行为，到理解对方，有的人天生就会，而大部分人却要经历怎样漫长的学习过程，用理性去理解感性的另一半，男人和女人，因为不一样生理构造，不一样的的角色，不一样的原始发展经历，导致沟通法式的迥异，这个对大部分人来说，并不容易很好的平衡，而我经历很多的经历，加上碰巧工作的需要，基本具备了这样的能力。', 'income': 1.0, 'horoscope': '天秤座', 'blood_type': 'O', 'profession': 4.0, 'hometown_province': '山东', 'hometown_city': '菏泽', 'ethnic': 56.0}}]}}\n"
     ]
    }
   ],
   "source": [
    "# text字段\n",
    "# term应该是分词后内容精准匹配\n",
    "res = es.search(index=\"test_index\",  query={'match':{'interest':'中国菜'}})\n",
    "print(\"A:\", res)\n",
    "res = es.search(index=\"test_index\",  query={'match':{'interest':'健康食品'}})\n",
    "print(\"B:\", res)\n",
    "res = es.search(index=\"test_index\",  query={'term':{'interest':'中国菜'}})\n",
    "print(\"C:\", res)\n",
    "res = es.search(index=\"test_index\",  query={'term':{'interest':'健康'}})\n",
    "print(\"D\", res)\n",
    "res = es.search(index=\"test_index\",  query={'term':{'interest':'食品'}})\n",
    "print(\"E\", res)\n",
    "res = es.search(index=\"test_index\",  query={'term':{'interest':'健康食品'}})\n",
    "print(\"F:\", res)\n",
    "res = es.search(index=\"test_index\",  query={'terms':{'interest':['中国菜', '健康']}})\n",
    "print(\"I:\", res)\n",
    "res = es.search(index=\"test_index\",  query={'terms':{'interest':['中国菜', '健康食品']}})\n",
    "print(\"G:\", res)"
   ]
  },
  {
   "cell_type": "code",
   "execution_count": 39,
   "metadata": {},
   "outputs": [
    {
     "name": "stdout",
     "output_type": "stream",
     "text": [
      "{'took': 8, 'timed_out': False, '_shards': {'total': 2, 'successful': 2, 'skipped': 0, 'failed': 0}, 'hits': {'total': {'value': 293, 'relation': 'eq'}, 'max_score': 1.0, 'hits': [{'_index': 'test_index', '_id': '244389161', '_score': 1.0, '_source': {'nick': 'Panu', 'gender': 'male', 'marry_state': 0, 'height': 180, 'weight': 72, 'education': 8, 'residence_city': '海淀', 'age': 36, 'self_introduce': '我是芬兰数学家，在中科院工作. 我想找一个在北京工作和生活的女朋友.', 'income': 5.0, 'horoscope': '天秤座', 'blood_type': 'O', 'profession': 4.0, 'hometown_province': '其他'}}, {'_index': 'test_index', '_id': '177929372', '_score': 1.0, '_source': {'nick': '不离不弃ever', 'gender': 'male', 'marry_state': 0, 'height': 175, 'weight': 99, 'education': 7, 'residence_city': '西城', 'age': 48, 'interest': '[网络, 读书, 体育运动, 旅游, 中国菜, 健康食品, 励志与成功, 行业发展, 惬意海岛, 繁华都市, 秀美山水, 江河大川, 小桥流水人家]', 'self_introduce': '北京名校本硕毕业，京户，西城有房（无贷）。别人评价人品好、靠谱、综合素质高。包容、幽默、孝顺、稳重、诚信，有责任心。休息时看书，健身，听音乐。注重饮食，健康，不吸烟不好酒，没有任何不良嗜好。自身条件不差，之所以至今未婚是因为当年从外地考到帝都一路打拼，主要精力放在学业工作上，也因为婚姻大事关乎一生，甚至下一代，不想草率结婚，但也不是挑剔，只看缘分。***警告：本人只为婚姻，非诚勿扰远离。各种托、中介、理财、博彩、传销、支教资助等形形色色骗子被本人发现一律报警。***告诉你一个防骗秘诀：只要提到钱让你掏腰包的就是骗子，无论什么理由！！', 'income': 2.0, 'horoscope': '天秤座', 'blood_type': 'O', 'profession': 9.0, 'ethnic': 56.0, 'university': '清华大学'}}, {'_index': 'test_index', '_id': '173975328', '_score': 1.0, '_source': {'nick': 'Mr Rt158', 'gender': 'male', 'marry_state': 0, 'height': 175, 'weight': 48, 'education': 7, 'residence_city': '西城', 'age': 48, 'interest': '[中国菜, 健康食品, 励志与成功, 投资理财, 人文社科, 自然科学, 什么都看, 惬意海岛, 繁华都市, 秀美山水, 历史遗迹, 江河大川]', 'self_introduce': '北京名校本科硕士毕业，京户京房无贷，心地善良、人品很好，做事很靠谱、孝敬长辈，很有责任感。喜欢旅行,看书,健身。不挑食，喜欢健康生活。无不良嗜好，不吸烟（也很介意别人吸烟），不好酒。现在的生活状态和心情，可以说是“想结婚,静待缘分”。众里寻她千百度，命里佳人在何处？非婚姻目的者勿扰，骗子一律报警。善意给诚意征婚的人：只要没见面核实身份谈钱就是骗子，无论借钱还是赚钱都是套路，拉黑！', 'income': 2.0, 'horoscope': '天秤座', 'profession': 26.0, 'ethnic': 56.0, 'university': '清华大学'}}, {'_index': 'test_index', '_id': '129852534', '_score': 1.0, '_source': {'nick': 'zeng', 'gender': 'male', 'marry_state': 0, 'height': 168, 'weight': 70, 'education': 7, 'residence_city': '贵阳', 'age': 49, 'interest': '[写作, 读书, 绘画, 中国菜, 文学, 政治与军事, 健康与养生, 投资理财, 人文社科, 喜剧, 战争, 纪录片, 政治事件, 理财投资, 图书馆/书店, 惬意海岛, 繁华都市, 广袤森林, 历史遗迹, 小桥流水人家]', 'self_introduce': '我是1974年生，硕士学历，本科学工科。研究生读中文，做的工作是与文字有关，平时最大的爱好就是画画，或做些插图设计。我在前几年买了一套二手房，环境好，旁边有一个依河建的湿地公园。有房贷，但公积金可以覆盖房贷。无车贷。我的三观算是比较正的，从2014年开始，每月向一个儿童基金会捐一百元，每月从我的卡上自动转过去。由于种种原因，错过了一些我爱的人和爱我的人。年龄不小了，可期望还在。所以，希望在这里能找到那个\\\\\\\\\" 我的爱人\\\\\\\\\"。', 'income': 1.0, 'horoscope': '双鱼座', 'profession': 11.0, 'hometown_province': '湖南', 'hometown_city': '娄底', 'ethnic': 56.0, 'university': '湘潭大学'}}, {'_index': 'test_index', '_id': '105983137', '_score': 1.0, '_source': {'nick': '韩洛华', 'gender': 'male', 'marry_state': 0, 'height': 172, 'weight': 59, 'education': 5, 'residence_city': '杭州', 'age': 39, 'self_introduce': '实实在在地介绍下自己吧。从小生活在一个普通而又安静的环境中，父母都为国家打工，而我则是个内心叛逆但表现文静的好学生。原本应该像父母期望的那样传承着公职工作或者做点文化行当，但由于大学学了英法语，又因为一次巧合作为交换生出去了半年。大学毕业后就做起了外贸工作，但近几年主要从事内贸服装辅料行当。其实人生之所以精彩吧，也就是它的幻化不定，一直觉得自己以后想做个文化人、哪怕是伪文化人，没想到最后竟是个生意人。这让我想起小的时候妈妈常说我没遗传好，长得不行。那时候流行男孩国字脸、大眼、黑黑的蛮男人的感觉，而我却脸尖尖的、小眼、特白、红唇高鼻的像个姑娘。但没想到20岁后韩剧流行，老妈竟然突然说我还蛮帅的…刚过了而立之年，一直习惯孤单，其实很多时候都是一种掩饰。我真心想找一个我爱也爱我的女孩，没多大要求，只有简简单单的两点：我喜欢成熟、年纪大点没关系但不要太小的；还有就是不要瘦，因为哥哥', 'income': 5.0, 'horoscope': '天秤座', 'blood_type': 'O', 'profession': 6.0, 'hometown_province': '浙江', 'hometown_city': '杭州', 'ethnic': 56.0, 'university': '浙江大学'}}, {'_index': 'test_index', '_id': '102784991', '_score': 1.0, '_source': {'nick': '小羽', 'gender': 'male', 'marry_state': 0, 'height': 181, 'weight': 47, 'education': 5, 'residence_city': '朝阳', 'age': 37, 'interest': '[网络, 音乐, 体育运动, 旅游, 电子游戏, 中国菜, 烧烤, 巧克力和甜点, 文学, 动漫与幽默, 历史传记, 动作冒险, 科幻魔幻, 悬疑推理, 动画, 体育赛事, 相声曲艺, 饭店, 电影院, 卡拉OK, 体育馆, 在自己或朋友家里, 秀美山水, 小桥流水人家]', 'self_introduce': '挺懒的，懒得写这块，又挺急的，急着找对象。哎，委屈下我自己，动动笔吧。哈哈————————————————就先来个自评吧。你在看的这位帅哥，有点老了，86年的，年轻的时候那也是妥妥的回头率8成的小鲜肉一枚，可惜，时光这把杀猪刀割的有点狠。把”小鲜”都给割掉了，只剩块肉了。————————————————话说回来，好歹还是块肉，还有那么点嚼劲呢。也算风韵犹存吧。物质上呢，有房有车有稳定收入，不能说多优质。只是值得庆幸的是，我一直挺老实，也没培养出什么奢侈的追求，所以生活也就没什么压力。精神上呢，没什么精神，挺晚的了，困。————————————————-正经点吧！倔强的总是以为自己还是曾经的青葱少年，倔强的总是认为爱情会自己找来。但是时光告诉我，它更倔强，它貌似跟我不熟，不会对此网开一面。所以，我来了这里。更真诚的期待能在这里得到爱情的眷顾。找到另一半，牵着手，一起走，互相分享快乐，互相倾诉烦恼。偶尔冲那位倔强的时光打个招呼，然后依偎在一起，幸福的慢慢变老。__ _____________________补充一些，我属于比较接地气的普通人，会聊这顿的油盐柴米，明天的烤串啤酒大排档，未来某天的自驾游，也会宅在家玩会游戏，看看电影，看看综艺，听听小说相声，偶尔出门运动运动，跑跑步打打球。总之，俗人一枚，生活中也没有太多的仪式感。要真去吃个什么米其林，看个音乐会，也能看，但不会有什么陶冶情操的感觉，跟吃个麻辣烫，听个小剧场相声一个感觉，香就是好的。我呢，有房有车，就算不工作也有稳定收入，我目前也没什么太大的事业心，要做出什么大成就，每天多陪陪家人，周末带着老婆孩子玩一玩，逛一逛，健健康康，享受生活，慢慢记住生活，记录生活就知足了。______________', 'income': 2.0, 'horoscope': '双子座', 'blood_type': 'A', 'profession': 26.0, 'hometown_city': '北京朝阳', 'ethnic': 56.0}}, {'_index': 'test_index', '_id': '81312178', '_score': 1.0, '_source': {'nick': '南城阿牛', 'gender': 'male', 'marry_state': 0, 'height': 178, 'weight': 53, 'education': 5, 'residence_city': '南京', 'age': 30, 'interest': '[摄影, 音乐, 中国菜, 悬疑推理, 商场, 电影院, 逛街, 惬意海岛, 繁华都市, 风情名城, 历史遗迹]', 'self_introduce': '我是南京人 93年双鱼座 身高178 IT男。爱好：摄影、健身、弹吉他这个年纪应该为了自己的终生大事考虑考虑了，所以真心寻求一位我的另一半，希望你性格温顺，有自己的想法，如果肤白又爱笑，就更加分啦。我是个浪漫随性的人，生活是现实的，也是多彩的，我需要你陪我游遍千山万水，你需要我陪你度过春夏秋冬。', 'income': 2.0, 'horoscope': '双鱼座', 'profession': 3.0, 'hometown_province': '江苏', 'hometown_city': '南京', 'ethnic': 56.0}}, {'_index': 'test_index', '_id': '141511789', '_score': 1.0, '_source': {'nick': '水水小鱼', 'gender': 'male', 'marry_state': 1, 'height': 172, 'weight': 71, 'education': 5, 'residence_city': '海淀', 'age': 40, 'interest': '[网络, 汽车, 音乐, 烹饪, 旅游, 中国菜, 泰国菜, 法国菜, 俄罗斯菜, 烧烤, 校园青春, 励志与成功, 动漫与幽默, 政治与军事, 历史传记, 爱情, 喜剧, 动作冒险, 科幻魔幻, 悬疑推理, 政治事件, 娱乐八卦, 体育赛事, 影视热片, 休闲生活, 饭店, 商场, 电影院, 卡拉OK, 逛街, 惬意海岛, 名山古刹, 繁华都市, 风情名城, 秀美山水]', 'self_introduce': '北京土著爷们，简单的3口之家，独生子女，父母居住在海淀区圆明园附近的自家平房，我自己居住在海淀区上地附近一小区，学历大本，*党员，并在部队退伍以后，进去一家事业单位，任文职工作。有正事工作，此外每月还有一定的房租收入，有自己的独立住房和车辆，工作生活稳定。军旅生涯的历练让我格外坚强刚毅，使我在工作中积极进取，生活中勤劳肯干，任何家务皆能自理，空闲十分还可自制几道小菜，爱好音乐，电影，运动，美食，旅游等等，对于高品质生活有自己独有的见解和追求。不知道您看过我的资料感觉合适吗？我想寻找一位心灵相通，相互理解，开开心心的另一半，如果您是的话，那就赶快联系我吧，因为我深信真正的幸福不是他人恩赐得到的，而是靠自己创造付出拥有的！', 'income': 2.0, 'horoscope': '天秤座', 'blood_type': 'B', 'profession': 8.0, 'hometown_city': '北京海淀', 'ethnic': 56.0, 'university': '中共中央党校'}}, {'_index': 'test_index', '_id': '297067621', '_score': 1.0, '_source': {'nick': '许诺', 'gender': 'male', 'marry_state': 1, 'height': 174, 'weight': 80, 'education': 5, 'residence_city': '汕头', 'age': 47, 'self_introduce': '从颜值开始。哈。哈。我是一名医生，住市区金平区，老家鮀浦，老了我大几率会选择回归牛田洋的田园生活，有意者同行哈。离异是因为我在国外多年，聚少离多，感情不知不觉淡化了，和平分手，孩子归她。我的择友信息很简单，不符合者请勿扰。我不会挑剔，也不敢挑剔，因为人生苦短。这是我的基本情况。', 'income': 2.0, 'horoscope': '摩羯座', 'hometown_province': '广东', 'hometown_city': '汕头', 'ethnic': 56.0}}, {'_index': 'test_index', '_id': '391293003', '_score': 1.0, '_source': {'nick': '0', 'gender': 'male', 'marry_state': 1, 'height': 179, 'weight': 76, 'education': 5, 'residence_city': '深圳', 'age': 47, 'self_introduce': '关于再婚：虽然婚姻在当今社会已形同儿戏。但婚姻不是男女激情，更不是一时冲动，而是两个成熟灵魂通过相识相知，慎重诚恳的选择。重组家庭，对有失败婚姻经历的人，都需要巨大的勇气。请修复好前一段婚姻带来的心灵创伤，再开始一段新的情感和婚姻，我不是情绪安慰剂，也不是自恋型人格魅力的见证人。关于再婚后的孩子父母照顾问题：我要是选择你，会对你的孩子视如己出，用心照顾，呵护，养育，对你的父母也是一样，但不代表作为你丈夫的责任，希望我们两人为了家同心协力，共同呵护家庭和家人，（注明）个人主义，想找合作伙伴的，请不要给我发信，谢谢，有些时候不打扰也是一种礼貌！我性格开朗乐观；虽不能做上绝味佳肴，却懂得生活的讲究；喜欢音乐；喜欢运动，经常晨起来锻练，喜欢的事情很多，希望有一人能和我一起去发现美，感受美！希望你温柔贤惠、性格开朗，纵使生活给了我们很多历练和考验，愿往后余生，相敬如宾、相濡以沫、相辅相成！生活不止眼前的苟且，还有诗和远方！', 'income': 2.0, 'horoscope': '双子座'}}]}}\n"
     ]
    }
   ],
   "source": [
    "# 存在字段查询\n",
    "# 查询test索引中，包含age字段的数据\n",
    "print(es.search(index='test_index',query={'exists':{'field':'age'}}))"
   ]
  },
  {
   "cell_type": "code",
   "execution_count": null,
   "metadata": {},
   "outputs": [],
   "source": []
  },
  {
   "attachments": {},
   "cell_type": "markdown",
   "metadata": {},
   "source": [
    "## 查询"
   ]
  },
  {
   "attachments": {},
   "cell_type": "markdown",
   "metadata": {},
   "source": [
    "### 查询所有数据"
   ]
  },
  {
   "cell_type": "code",
   "execution_count": 198,
   "metadata": {},
   "outputs": [],
   "source": [
    "def print_result(res):\n",
    "    if isinstance(res, ObjectApiResponse):\n",
    "        print(res['hits']['total'])\n",
    "    "
   ]
  },
  {
   "cell_type": "code",
   "execution_count": 199,
   "metadata": {},
   "outputs": [
    {
     "name": "stdout",
     "output_type": "stream",
     "text": [
      "{'value': 294, 'relation': 'eq'}\n"
     ]
    }
   ],
   "source": [
    "query = {\n",
    "        \"match_all\":{}\n",
    "    }\n",
    "res = es.search(index=\"test_index\", query=query)\n",
    "print_result(res)"
   ]
  },
  {
   "attachments": {},
   "cell_type": "markdown",
   "metadata": {},
   "source": [
    "### 查询存在值的字段数据"
   ]
  },
  {
   "cell_type": "code",
   "execution_count": 258,
   "metadata": {},
   "outputs": [
    {
     "name": "stdout",
     "output_type": "stream",
     "text": [
      "{'value': 110, 'relation': 'eq'}\n",
      "{'value': 186, 'relation': 'eq'}\n"
     ]
    }
   ],
   "source": [
    "# 存在字段查询\n",
    "# 查询存在字段的值\n",
    "res = es.search(index='test_index',query={'exists':{'field':'university'}})\n",
    "print_result(res)\n",
    "res = es.search(index='test_index',query={'exists':{'field':'blood_type'}})\n",
    "print_result(res)"
   ]
  },
  {
   "attachments": {},
   "cell_type": "markdown",
   "metadata": {},
   "source": [
    "### 等于查询term和terms"
   ]
  },
  {
   "cell_type": "code",
   "execution_count": 203,
   "metadata": {},
   "outputs": [
    {
     "name": "stdout",
     "output_type": "stream",
     "text": [
      "{'value': 1, 'relation': 'eq'}\n"
     ]
    }
   ],
   "source": [
    "query = {\n",
    "        \"term\": {\n",
    "            \"nick\":\"岁月\"\n",
    "        }\n",
    "    }\n",
    "res = es.search(index=\"test_index\", query=query)\n",
    "print_result(res)"
   ]
  },
  {
   "cell_type": "code",
   "execution_count": 204,
   "metadata": {},
   "outputs": [
    {
     "data": {
      "text/plain": [
       "[{'_index': 'test_index',\n",
       "  '_id': '391437935',\n",
       "  '_score': 4.591747,\n",
       "  '_source': {'nick': '岁月',\n",
       "   'gender': 'male',\n",
       "   'marry_state': 1,\n",
       "   'height': 177,\n",
       "   'weight': 52,\n",
       "   'education': 5,\n",
       "   'residence_city': '青岛',\n",
       "   'age': 41,\n",
       "   'self_introduce': '我容易相处，为人实在，低调做人，踏实做事，懂得照顾呵护自己的女人是我最大的优点。习惯换位思考，只是些许大男子主义，不过也仅限于很偶然的那么几天，算是男性每个月的生理期，俗称大姨夫。性格开朗温顺的我是你值得信任和依靠托付一生的人。',\n",
       "   'income': 4.0,\n",
       "   'horoscope': '双子座',\n",
       "   'blood_type': 'O',\n",
       "   'profession': 7.0,\n",
       "   'hometown_province': '福建',\n",
       "   'hometown_city': '厦门',\n",
       "   'ethnic': 56.0}}]"
      ]
     },
     "execution_count": 204,
     "metadata": {},
     "output_type": "execute_result"
    }
   ],
   "source": [
    "res['hits']['hits']"
   ]
  },
  {
   "cell_type": "code",
   "execution_count": 206,
   "metadata": {},
   "outputs": [
    {
     "name": "stdout",
     "output_type": "stream",
     "text": [
      "{'value': 3, 'relation': 'eq'}\n"
     ]
    }
   ],
   "source": [
    "query = {\n",
    "        \"terms\": {\n",
    "            \"hometown_city\":[\"厦门\",\"福建厦门\"]\n",
    "        }\n",
    "    }\n",
    "res = es.search(index=\"test_index\", query=query)\n",
    "print_result(res)"
   ]
  },
  {
   "attachments": {},
   "cell_type": "markdown",
   "metadata": {},
   "source": [
    "### 包含查询\n",
    "match: 匹配[字段]包含\"xxx\"关键字的数据 \\\n",
    "multi_match: 多个字段里匹配包含\"xxx\"关键字的数据"
   ]
  },
  {
   "cell_type": "code",
   "execution_count": 207,
   "metadata": {},
   "outputs": [
    {
     "name": "stdout",
     "output_type": "stream",
     "text": [
      "{'value': 3, 'relation': 'eq'}\n"
     ]
    }
   ],
   "source": [
    "query = {\n",
    "        \"match\": {\n",
    "            \"hometown_city\":\"厦门\"\n",
    "        }\n",
    "    }\n",
    "res = es.search(index=\"test_index\", query=query)\n",
    "print_result(res)"
   ]
  },
  {
   "cell_type": "code",
   "execution_count": 209,
   "metadata": {},
   "outputs": [
    {
     "name": "stdout",
     "output_type": "stream",
     "text": [
      "{'value': 4, 'relation': 'eq'}\n"
     ]
    }
   ],
   "source": [
    "query = {\n",
    "        \"multi_match\": {\n",
    "            \"query\":\"厦门\",\n",
    "            \"fields\":[\"hometown_city\",\"residence_city\"]\n",
    "        }\n",
    "    }\n",
    "res = es.search(index=\"test_index\", query=query)\n",
    "print_result(res)"
   ]
  },
  {
   "attachments": {},
   "cell_type": "markdown",
   "metadata": {},
   "source": [
    "### 搜索所有ids"
   ]
  },
  {
   "cell_type": "code",
   "execution_count": 210,
   "metadata": {},
   "outputs": [
    {
     "name": "stdout",
     "output_type": "stream",
     "text": [
      "{'value': 2, 'relation': 'eq'}\n"
     ]
    }
   ],
   "source": [
    "query = {\n",
    "        \"ids\": {\n",
    "            \"values\":[71120970, 197836311]\n",
    "        }\n",
    "    }\n",
    "res = es.search(index=\"test_index\", query=query)\n",
    "print_result(res)"
   ]
  },
  {
   "attachments": {},
   "cell_type": "markdown",
   "metadata": {},
   "source": [
    "### 复合查询bool\n",
    "bool有3类查询关系，must(都满足),should(其中一个满足),must_not(都不满足)"
   ]
  },
  {
   "cell_type": "code",
   "execution_count": 211,
   "metadata": {},
   "outputs": [
    {
     "name": "stdout",
     "output_type": "stream",
     "text": [
      "{'value': 111, 'relation': 'eq'}\n"
     ]
    }
   ],
   "source": [
    "query = {\n",
    "    \"bool\":{\n",
    "        \"must\":[\n",
    "            {\"term\":{\n",
    "                \"gender\":\"female\"}\n",
    "            },\n",
    "            {\"match\":{\n",
    "                \"marry_state\":0}\n",
    "            }\n",
    "        ],\n",
    "        \"should\":[\n",
    "            {\n",
    "                \"terms\":{\n",
    "                    \"hometown_city\":[\"厦门\",\"福建厦门\"]\n",
    "                }},\n",
    "            {\n",
    "                \"multi_match\": {\n",
    "                    \"query\":\"深圳\",\n",
    "                    \"fields\":[\"hometown_city\",\"residence_city\"]\n",
    "                    }\n",
    "            }\n",
    "        ]\n",
    "    }\n",
    "}\n",
    "res = es.search(index=\"test_index\", query=query)\n",
    "print_result(res)"
   ]
  },
  {
   "attachments": {},
   "cell_type": "markdown",
   "metadata": {},
   "source": []
  },
  {
   "attachments": {},
   "cell_type": "markdown",
   "metadata": {},
   "source": [
    "### 切片查询\n",
    "选定范围参数from, size? 返回结果有问题"
   ]
  },
  {
   "cell_type": "code",
   "execution_count": 220,
   "metadata": {},
   "outputs": [
    {
     "name": "stdout",
     "output_type": "stream",
     "text": [
      "{'value': 294, 'relation': 'eq'}\n"
     ]
    }
   ],
   "source": [
    "query = {\n",
    "    \"match_all\":{}\n",
    "    }\n",
    "res = es.search(index=\"test_index\", query=query, from_=100, size=3)\n",
    "print_result(res)"
   ]
  },
  {
   "attachments": {},
   "cell_type": "markdown",
   "metadata": {},
   "source": [
    "### 范围查询"
   ]
  },
  {
   "cell_type": "code",
   "execution_count": 218,
   "metadata": {},
   "outputs": [
    {
     "name": "stdout",
     "output_type": "stream",
     "text": [
      "{'value': 22, 'relation': 'eq'}\n"
     ]
    }
   ],
   "source": [
    "query = {\n",
    "        \"range\":{\n",
    "            \"age\":{\n",
    "                \"gte\":18,       # >=18\n",
    "                \"lte\":30        # <=30\n",
    "            }\n",
    "        }\n",
    "}\n",
    "res = es.search(index=\"test_index\", query=query)\n",
    "print_result(res)"
   ]
  },
  {
   "attachments": {},
   "cell_type": "markdown",
   "metadata": {},
   "source": [
    "### 前缀查询"
   ]
  },
  {
   "cell_type": "code",
   "execution_count": 222,
   "metadata": {},
   "outputs": [
    {
     "name": "stdout",
     "output_type": "stream",
     "text": [
      "{'value': 4, 'relation': 'eq'}\n"
     ]
    }
   ],
   "source": [
    "query = {\n",
    "        \"prefix\":{\n",
    "            \"university\":\"中国\"\n",
    "        }\n",
    "}\n",
    "res = es.search(index=\"test_index\", query=query)\n",
    "print_result(res)"
   ]
  },
  {
   "cell_type": "code",
   "execution_count": null,
   "metadata": {},
   "outputs": [],
   "source": []
  },
  {
   "attachments": {},
   "cell_type": "markdown",
   "metadata": {},
   "source": [
    "### 通配符\n"
   ]
  },
  {
   "cell_type": "code",
   "execution_count": 225,
   "metadata": {},
   "outputs": [
    {
     "name": "stdout",
     "output_type": "stream",
     "text": [
      "{'value': 125, 'relation': 'eq'}\n"
     ]
    }
   ],
   "source": [
    "query = {\n",
    "        \"wildcard\":{\n",
    "            \"interest\":\"*菜\"\n",
    "        }\n",
    "}\n",
    "res = es.search(index=\"test_index\", query=query)\n",
    "print_result(res)"
   ]
  },
  {
   "attachments": {},
   "cell_type": "markdown",
   "metadata": {},
   "source": [
    "### 正则查询"
   ]
  },
  {
   "cell_type": "code",
   "execution_count": 255,
   "metadata": {},
   "outputs": [
    {
     "name": "stdout",
     "output_type": "stream",
     "text": [
      "{'value': 2, 'relation': 'eq'}\n",
      "{'took': 4, 'timed_out': False, '_shards': {'total': 2, 'successful': 2, 'skipped': 0, 'failed': 0}, 'hits': {'total': {'value': 2, 'relation': 'eq'}, 'max_score': 1.0, 'hits': [{'_index': 'test_index', '_id': '390612840', '_score': 1.0, '_source': {'nick': '阳光男孩', 'gender': 'male', 'marry_state': 0, 'height': 175, 'weight': 70, 'education': 7, 'residence_city': '成都', 'age': 34, 'interest': '[汽车, 读书, 体育运动, 旅游, 中国菜, 意大利菜, 健康食品, 励志与成功, 运动健身, 烹饪与饮食, 旅游, 爱情, 悬疑推理, 历史传记, 体育赛事, 理财投资, 影视热片, 电影院, 图书馆/书店, 体育馆, 逛街, 惬意海岛, 繁华都市, 历史遗迹]', 'self_introduce': '本人阳光爱笑类型，真诚可靠，来这里真诚找结婚对象，从小家教严格，不抽烟，不喝酒，不去酒吧夜店，没有什么不良嗜好，工作之余喜欢旅游、运动、看书等，希望缘分尽快到来。那些骗子请绕道，各种投资、借钱、酒托等都是骗子，请远离我！晚点遇到你，余生都是你。祝福大家早日找到自己的心仪对象！', 'income': 2.0, 'horoscope': '处女座', 'blood_type': 'A', 'profession': 8.0, 'ethnic': 56.0, 'university': '中国人民大学'}}, {'_index': 'test_index', '_id': '298984226', '_score': 1.0, '_source': {'nick': '未央', 'gender': 'female', 'marry_state': 1, 'height': 165, 'weight': 100, 'education': 5, 'residence_city': '海淀', 'age': 54, 'self_introduce': '起落有觉，进退无碍；自洽舒服，融他欢喜。你好，我是未央，北京生人，祖籍山东胶东。在京高校从事人事管理工作，高级职称，事业编制。性格温润、优雅大方。坚持慢跑、健美操，擅长书画、手工，喜欢音乐、旅行……多年国内外分隔两地离异，一子麻省理工学院全奖博士在读，经济独立。希望同城的你，诚实自律、健康豁达，未来携手去看不一样的世界。', 'income': 4.0, 'horoscope': '天秤座', 'profession': 4.0, 'hometown_city': '北京', 'ethnic': 56.0, 'university': '中国人民大学'}}]}}\n"
     ]
    }
   ],
   "source": [
    "query = {\n",
    "        \"regexp\":{\n",
    "            \"university\":\"中国..\"\n",
    "        }\n",
    "}\n",
    "res = es.search(index=\"test_index\", query=query)\n",
    "print_result(res)\n",
    "print(res)\n"
   ]
  },
  {
   "attachments": {},
   "cell_type": "markdown",
   "metadata": {},
   "source": [
    "### 排序\n",
    "asc升序，desc降序 \\\n",
    "多字段排序，注意顺序！写在前面的优先排序"
   ]
  },
  {
   "cell_type": "code",
   "execution_count": 226,
   "metadata": {},
   "outputs": [
    {
     "name": "stdout",
     "output_type": "stream",
     "text": [
      "{'value': 294, 'relation': 'eq'}\n"
     ]
    }
   ],
   "source": [
    "query = {\n",
    "        \"match_all\":{}\n",
    "}\n",
    "sort = [{\n",
    "    \"age\":{\"order\":\"asc\"}\n",
    "    },\n",
    "    {\n",
    "        \"height\":{\n",
    "            \"order\":\"asc\"\n",
    "        }\n",
    "    }\n",
    "]\n",
    "res = es.search(index=\"test_index\", query=query, sort=sort)\n",
    "print_result(res)"
   ]
  },
  {
   "cell_type": "code",
   "execution_count": 228,
   "metadata": {},
   "outputs": [
    {
     "name": "stdout",
     "output_type": "stream",
     "text": [
      "{'_index': 'test_index', '_id': '387991466', '_score': None, '_source': {'nick': '湘南*番禺*古坝*东明', 'gender': 'male', 'marry_state': 0, 'height': 175, 'weight': 53, 'education': 4, 'residence_city': '广州', 'age': 22, 'interest': '[网络, 体育运动, 中国菜, 艺术与摄影, 运动健身, 喜剧, 电影院, 图书馆/书店]', 'self_introduce': '来自湖南衡阳的我.学历不高.大专毕业.浓眉单眼皮可爱小眼睛.简单,孝顺,内敛.不抽烟.不喝酒.不赌博.平时爱好游泳和打羽毛球.来到广州这个大城市.一切都要从头开始.不像在家.都有父母的关爱.来到这个平台.希望找个能同甘共苦的.一起拼搏.志同道合的人.信息虚假和找借口投资的人还请绕道.勤奋的我一直努力着，终于可以让父母因我而骄傲。但是，再坚强的我，也会有疲惫的时候，多么希望早上起床，有人为我准备了早餐；多么期待晚上下班，有盏灯在为我等候着。期待能够与一位温…非诚勿扰', 'income': 1.0, 'horoscope': '处女座', 'blood_type': 'A', 'profession': 23.0, 'hometown_province': '湖南', 'hometown_city': '衡阳', 'ethnic': 56.0, 'university': '湖南铁路科技职业技术学院'}, 'sort': [22, 175]}\n",
      "{'_index': 'test_index', '_id': '307291178', '_score': None, '_source': {'nick': '醉易温柔的在纽伦堡', 'gender': 'female', 'marry_state': 0, 'height': 175, 'weight': 69, 'education': 4, 'residence_city': '广州', 'age': 23, 'interest': '[舞蹈, 中国菜, 运动健身, 爱情, 娱乐八卦, 在自己或朋友家里, 繁华都市]', 'self_introduce': '年龄25，毕业2年了，关于外貌，漂亮,高挑,丰满，身材比较欧美。不用开口就问我v信，这里都聊不了三句，v信能聊出啥？谢谢', 'income': 1.0, 'horoscope': '摩羯座', 'blood_type': 'A', 'hometown_province': '广东', 'ethnic': 56.0}, 'sort': [23, 175]}\n",
      "{'_index': 'test_index', '_id': '388199282', '_score': None, '_source': {'nick': '小雨', 'gender': 'female', 'marry_state': 0, 'height': 171, 'weight': 86, 'education': 5, 'residence_city': '长沙', 'age': 24, 'self_introduce': '宅女一枚，身边没有合适男生，母胎单身，现在想寻找一位合适的男士来共度余生。以下是我个人的情况介绍：年龄：24岁净身高：171cm职业：证券从业人员性格特点：慢热型、宅女、性格温和、好相处、积极乐观、诚实善良、有责任心、喜欢小孩、爱整洁、爱旅游、会厨艺，偶尔烹饪，周末有时候会做点点心。愿意做一贤妻良母。希望对方的基本条件：1. 年龄在23-38岁之间；2. 身高不低于168cm;3. 有稳定的工作和收入；4. 有责任心，成熟稳重，有上进心；5. 对家庭和感情认真负责；6. 爱好健康生活，无不良嗜好；7. 诚实守信，家庭和谐。如果你符合以上条件，愿意和我一起走过人生的每一个阶段，那么请联系我吧！期待与你相识相知！骗子勿扰！不以结婚为目的的勿扰！', 'income': 1.0, 'horoscope': '双子座', 'profession': 7.0, 'hometown_province': '湖南', 'hometown_city': '长沙', 'ethnic': 56.0}, 'sort': [24, 171]}\n",
      "{'_index': 'test_index', '_id': '307363422', '_score': None, '_source': {'nick': '光芒星', 'gender': 'female', 'marry_state': 0, 'height': 164, 'weight': 68, 'education': 5, 'residence_city': '广州', 'age': 25, 'interest': '[音乐, 园艺, 舞蹈, 绘画, 旅游, 中国菜, 泰国菜, 巧克力和甜点, 动漫与幽默, 动作冒险, 悬疑推理, 什么都看, 娱乐八卦, 相声曲艺, 休闲生活, 电影院, 音乐会, 温泉, 名山古刹, 风情名城, 秀美山水, 江河大川, 小桥流水人家]', 'self_introduce': '我生于1998年5月份，性格活泼、开朗、率性！随着年龄的增长，我已经步入了婚嫁的黄金期，为了配合我人生重要的阶段，也为了让亲人们少操点心，选择了这里，希望我好运满满，遇到合适的男生！我从小在广州长大，已经习惯了广东的气候和风土人情，所以我只找广东省内的男孩，年龄必须是23---29之间，身高必须175以上，最少大专学历，否则，很抱歉！将不会回复。', 'income': 1.0, 'horoscope': '双子座', 'hometown_province': '广东', 'hometown_city': '广州', 'ethnic': 56.0}, 'sort': [25, 164]}\n",
      "{'_index': 'test_index', '_id': '232369300', '_score': None, '_source': {'nick': '坐着蜗牛上高速', 'gender': 'female', 'marry_state': 0, 'height': 170, 'weight': 76, 'education': 5, 'residence_city': '深圳', 'age': 25, 'interest': '[音乐, 写作, 舞蹈, 烹饪, 读书]', 'self_introduce': '我是个性格开朗、积极上进的女孩，在深圳芯片公司上班。平时喜欢烹饪、看书、户外运动；琴棋书画略懂一些：会绘画、唱歌、舞蹈、竖笛、写诗作词和写文章（QQ空间有我自己的原创诗词），以前公司举行诗词大赛，我写了一篇诗词得了一等奖，公司奖励了我2000元。我平时喜欢自己做做饭，觉得吃着自己炒的菜，有种成就感，也喜欢周末在家搞下卫生，看看书。对于爱情：我将于茫茫人海中寻访我惟一灵魂之伴侣，得之，我幸；不得，我命，如此而已。愿得一人心，白首不相离。', 'income': 2.0, 'horoscope': '射手座', 'ethnic': 56.0, 'university': '长沙理工大学'}, 'sort': [25, 170]}\n",
      "{'_index': 'test_index', '_id': '366724500', '_score': None, '_source': {'nick': 'Chennnn', 'gender': 'female', 'marry_state': 0, 'height': 156, 'weight': 60, 'education': 7, 'residence_city': '宝山', 'age': 26, 'interest': '[剧院, 音乐会, 温泉, 咖啡厅, 卡拉OK]', 'self_introduce': '谢谢翻阅我的资料^_^目前是教龄刚满1年的在沪教书匠一枚。有自己理想的工作，在自己理想的学校。因为社交圈比较小，所以来到这里，希望可以找到一起共度一生的那个人。', 'income': 2.0, 'horoscope': '天蝎座', 'profession': 4.0, 'hometown_province': '江西', 'hometown_city': '吉安', 'ethnic': 56.0, 'university': '上海师范大学'}, 'sort': [26, 156]}\n",
      "{'_index': 'test_index', '_id': '240502301', '_score': None, '_source': {'nick': '你的猫跑掉了', 'gender': 'female', 'marry_state': 0, 'height': 165, 'weight': 60, 'education': 5, 'residence_city': '成都', 'age': 26, 'self_introduce': '我目前在成都，因为项目现在运转成熟所以每天下午5点基本准时下班，很少有加班的情况。是家里的独生女。身高165，体重在95到100斤之间浮动。大学本科学历，计划未来考研究生（会根据实际情况权衡是否需要）。没有过同居史。因为自己平时比较宅所以除了工作基本接触不到男生，希望可以找到只属于我的白马王子(*^ω^*)不接受闪婚。离异或者成都以外的朋友不用私信了，谢谢。', 'income': 1.0, 'horoscope': '巨蟹座', 'ethnic': 56.0}, 'sort': [26, 165]}\n",
      "{'_index': 'test_index', '_id': '252660993', '_score': None, '_source': {'nick': '佳佳', 'gender': 'female', 'marry_state': 0, 'height': 166, 'weight': 88, 'education': 5, 'residence_city': '长沙', 'age': 28, 'interest': '[动物, 摄影, 音乐, 中国菜, 日本菜, 健康食品, 巧克力和甜点, 校园青春, 艺术与摄影, 动漫与幽默, 烹饪与饮食, 爱情, 喜剧, 科幻魔幻, 动画, 历史传记, 休闲生活, 商场, 电影院, 惬意海岛, 名山古刹, 繁华都市, 风情名城, 秀美山水]', 'self_introduce': '我女佳佳今天满二十八岁，为父心急，代女征婚。父母双方家庭都是教师世家，她自己也是小学老师，虽不在编，但工作稳定。由于家教严格，交际面狭窄，至今没有恋爱经历。小女单纯真诚善良孝顺，没有任何不良嗜好。希望找到一位未婚，38岁以内，有稳定工作和一定的经济基础，本科以上学历的优秀男士在一年内前结婚。不求对方大富大贵，却必须有养家的能力。小女名下有房产3套，车库一间，资料完全真实，身份证已认证，照片纯天然，未做任何整形。在双方见面正式交往前是必须要查验身份证毕业证的，并且不会有婚前同居的可能，请那些没有诚意的，诈骗的,心怀不轨的,凤凰男妈宝男别来信了。来信太多，如无回复就是双方不合适，请谅解。社会复杂，网络虚幻，为父把关实属无奈，请谅解。20220928', 'income': 1.0, 'horoscope': '天秤座', 'blood_type': 'A', 'profession': 4.0, 'hometown_province': '湖南', 'hometown_city': '长沙', 'ethnic': 56.0}, 'sort': [28, 166]}\n",
      "{'_index': 'test_index', '_id': '356252657', '_score': None, '_source': {'nick': '不秋草', 'gender': 'female', 'marry_state': 0, 'height': 168, 'weight': 53, 'education': 5, 'residence_city': '厦门', 'age': 28, 'self_introduce': '我的家和单位都在岛内，普通的三口之家（父母和我），我们生活得很幸福；自己是一个自重自立、有独立思想、喜静顾家的女孩。我想找一个兴趣爱好不多，正直，自律，没有不良嗜好，上进并顾家的岛内工薪阶层男孩。希望你生长在一个完整和睦幸福的家庭里（有良好家风的知识分子家庭最佳），人品正，有良好的家教，无外债贷款；样貌、学历、能力及家境都能在中等以上。我没有遇到过心仪的男孩，也不愿意轻易辜负了自己，故没有什么感情经历。哈哈哈，这里会有很优秀的小哥哥吗？谋事在人，成事在天。我已经完成一半了，至于能否找到心仪的你，那就要看缘分如何了。呵呵呵……不符合我择偶要求的男孩，不分担家务的男孩，不自立的男孩，请不要发消息来，谢谢啦！', 'income': 2.0, 'horoscope': '天秤座', 'hometown_province': '福建', 'hometown_city': '厦门', 'ethnic': 56.0}, 'sort': [28, 168]}\n",
      "{'_index': 'test_index', '_id': '387765578', '_score': None, '_source': {'nick': '侠胆憨熊', 'gender': 'male', 'marry_state': 0, 'height': 171, 'weight': 81, 'education': 7, 'residence_city': '朝阳', 'age': 28, 'interest': '[音乐, 体育运动, 旅游]', 'self_introduce': '//来信前请阅独白。我承认本人要求不低，但非常真诚认真，所以设置了明确的选择条件。不知系统为何未严格过滤，收到了很多意外来信，抱歉不能逐一回复。//憨憨的笨蛋熊一只，骨子里满富侠肝义胆，还有些睿智与勇敢。小时候武侠小说没少读，嘿嘿。酷爱旅行与运动，喜欢音乐与科幻。//虽说受过比较多的教育，但内心还是非常热血和富有激情，乐观浪漫主义者。//看问题习惯性以辨证的方式，尽管偶尔打打鸡血看起来会贴上“愤青”的标签，但其实那是一种内心热血与激情的外在展现，实际上不喜欢极端也不希望朋友爱人有极端方式。//有一点大男子主义，但绝不过度，懂得倾听心爱之人和呵护她的感受，喜欢以析理的方式解决大部分分歧。臂力惊人，但主要用在防御方面（小时候多用于进攻)，嘿嘿//期望我的她温柔体贴，美丽可人，有一定的文化素养和兴趣爱好方面的交集。//因为是认真找老婆，所以希望符合条件的女生联络我。我也设置了部分必要条件，如学历和年龄，没有任何偏见，仅是个人倾向性或喜好，请理解，谢谢。', 'income': 4.0, 'horoscope': '天秤座', 'blood_type': 'O', 'profession': 7.0, 'hometown_province': '湖南', 'hometown_city': '长沙', 'ethnic': 0.0, 'university': '复旦大学'}, 'sort': [28, 171]}\n"
     ]
    }
   ],
   "source": [
    "for per in res['hits']['hits']:\n",
    "    print(per)"
   ]
  },
  {
   "attachments": {},
   "cell_type": "markdown",
   "metadata": {},
   "source": [
    "### 响应过滤\n",
    "filter_path, 多个条件用逗号隔开\n",
    "es.search(index=\"index_name\",doc_type=\"type_name\",filter_path=[\"hits.hits._id\"])"
   ]
  },
  {
   "cell_type": "code",
   "execution_count": 235,
   "metadata": {},
   "outputs": [
    {
     "name": "stdout",
     "output_type": "stream",
     "text": [
      "{'took': 2, 'timed_out': False, '_shards': {'total': 2, 'successful': 2, 'skipped': 0, 'failed': 0}, 'hits': {'total': {'value': 22, 'relation': 'eq'}, 'max_score': 1.0, 'hits': [{'_index': 'test_index', '_id': '81312178', '_score': 1.0, '_source': {'nick': '南城阿牛', 'gender': 'male', 'marry_state': 0, 'height': 178, 'weight': 53, 'education': 5, 'residence_city': '南京', 'age': 30, 'interest': '[摄影, 音乐, 中国菜, 悬疑推理, 商场, 电影院, 逛街, 惬意海岛, 繁华都市, 风情名城, 历史遗迹]', 'self_introduce': '我是南京人 93年双鱼座 身高178 IT男。爱好：摄影、健身、弹吉他这个年纪应该为了自己的终生大事考虑考虑了，所以真心寻求一位我的另一半，希望你性格温顺，有自己的想法，如果肤白又爱笑，就更加分啦。我是个浪漫随性的人，生活是现实的，也是多彩的，我需要你陪我游遍千山万水，你需要我陪你度过春夏秋冬。', 'income': 2.0, 'horoscope': '双鱼座', 'profession': 3.0, 'hometown_province': '江苏', 'hometown_city': '南京', 'ethnic': 56.0}}, {'_index': 'test_index', '_id': '390589656', '_score': 1.0, '_source': {'nick': 'mayday', 'gender': 'male', 'marry_state': 0, 'height': 179, 'weight': 46, 'education': 3, 'residence_city': '沙坪坝', 'age': 29, 'self_introduce': '来自沙坪坝94年的双鱼座，也是很典型的双鱼座、现目前在家附近上班，从事数控车工行业，有一套全款三室和代步车。长相6分左右 照片有点不上相 平时很爱听歌。自我标签是善良 对待感觉忠贞 有趣的灵魂。', 'income': 1.0, 'horoscope': '双鱼座', 'blood_type': 'A', 'ethnic': 56.0}}, {'_index': 'test_index', '_id': '387991466', '_score': 1.0, '_source': {'nick': '湘南*番禺*古坝*东明', 'gender': 'male', 'marry_state': 0, 'height': 175, 'weight': 53, 'education': 4, 'residence_city': '广州', 'age': 22, 'interest': '[网络, 体育运动, 中国菜, 艺术与摄影, 运动健身, 喜剧, 电影院, 图书馆/书店]', 'self_introduce': '来自湖南衡阳的我.学历不高.大专毕业.浓眉单眼皮可爱小眼睛.简单,孝顺,内敛.不抽烟.不喝酒.不赌博.平时爱好游泳和打羽毛球.来到广州这个大城市.一切都要从头开始.不像在家.都有父母的关爱.来到这个平台.希望找个能同甘共苦的.一起拼搏.志同道合的人.信息虚假和找借口投资的人还请绕道.勤奋的我一直努力着，终于可以让父母因我而骄傲。但是，再坚强的我，也会有疲惫的时候，多么希望早上起床，有人为我准备了早餐；多么期待晚上下班，有盏灯在为我等候着。期待能够与一位温…非诚勿扰', 'income': 1.0, 'horoscope': '处女座', 'blood_type': 'A', 'profession': 23.0, 'hometown_province': '湖南', 'hometown_city': '衡阳', 'ethnic': 56.0, 'university': '湖南铁路科技职业技术学院'}}, {'_index': 'test_index', '_id': '388071826', '_score': 1.0, '_source': {'nick': '红色小花蕾', 'gender': 'female', 'marry_state': 0, 'height': 163, 'weight': 96, 'education': 5, 'residence_city': '南京', 'age': 30, 'interest': '[音乐, 体育运动, 旅游, 中国菜, 励志与成功, 运动健身, 旅游, 爱情, 影视热片, 休闲生活, 秀美山水, 江河大川]', 'self_introduce': '我：属鸡，九三年出生并成长在长江之北、滁河之边一个以猪头肉闻名的小城，她的名字叫六**合。一家三口，都作为土生土长的本地人，标准的原生态家庭。爸爸之前从事技术工程类工作，现已退休；妈妈一直在中医院从事医务工作，今年八月将退居二线。我毕业后在幼儿园学校当老师，两年后调至本地一社区医院上班至今，目前负责社区老年健康管理。长期以来圈子简单以及宁缺毋滥执念，加上三年无休止的疫情封控和核酸采集，似乎浪费并耽误了我太多光阴。所以嘛，活该单身：）：）之前恋爱经历简单，已成为了非常遥远且非常模糊的过去。没有了疫情、脱下了大白服， 生活回归到了正常轨道，个人问题被真正提上了日程。妈妈说她退休后唯一任务就是继续为“人民”服务，这个“人民”就是我们的下一代：帮我们带孩子。但亲爱的孩子，你在哪里呢？未来的他，又在哪里呢？很早之前就听人说过这个平台并有成功案例。公元2023年6月9日，终于鼓起很大的勇气注册，希望在这里也能够邂逅美好的爱情，更希望能一路长久。忽然想起了任向东的那首老歌：我曾想过这样的画面，牵你的手走过斑马线，我们是路口最美的风景，引来羡慕的目光一片......六**合或江北的优先考虑，因为我希望离双方父母都能近一些。围绕在双方父母附近，一起陪伴他们到老，就是我最大的心愿。总书记说，不忘初心、牢记使命。那我们为了初心、为了使命而一起努力吧！备注：希望你真诚，骗子请绕道，非诚勿扰！', 'income': 1.0, 'horoscope': '水瓶座', 'profession': 8.0, 'hometown_province': '江苏', 'hometown_city': '南京', 'ethnic': 56.0}}, {'_index': 'test_index', '_id': '384442817', '_score': 1.0, '_source': {'nick': '噜啦啦', 'gender': 'female', 'marry_state': 0, 'height': 165, 'weight': 79, 'education': 5, 'residence_city': '成都', 'age': 30, 'self_introduce': '正儿八经找对象，GAY、搞耍的勿扰 谢谢合作我工作稳定，福利尚可，五险两金一直到退休，0%失业概率希望找一位有家庭责任感、安心想成家、温柔片耙耳朵、没大男子主义、没暴脾气的男士看这里：不找 大男子主义、自我为中心、我行我素、脾气大的我三观正，不抽烟 不喝酒 不麻将 不夜店，未婚未育希望你最好不经常出差的，最好也别抽烟这样周末能和三五朋友一起喝茶、郊游，品尝美食~享受快乐人生希望早点认识 温柔的你', 'income': 4.0, 'horoscope': '射手座', 'profession': 8.0, 'hometown_province': '四川', 'hometown_city': '成都', 'ethnic': 56.0}}, {'_index': 'test_index', '_id': '366724500', '_score': 1.0, '_source': {'nick': 'Chennnn', 'gender': 'female', 'marry_state': 0, 'height': 156, 'weight': 60, 'education': 7, 'residence_city': '宝山', 'age': 26, 'interest': '[剧院, 音乐会, 温泉, 咖啡厅, 卡拉OK]', 'self_introduce': '谢谢翻阅我的资料^_^目前是教龄刚满1年的在沪教书匠一枚。有自己理想的工作，在自己理想的学校。因为社交圈比较小，所以来到这里，希望可以找到一起共度一生的那个人。', 'income': 2.0, 'horoscope': '天蝎座', 'profession': 4.0, 'hometown_province': '江西', 'hometown_city': '吉安', 'ethnic': 56.0, 'university': '上海师范大学'}}, {'_index': 'test_index', '_id': '356252657', '_score': 1.0, '_source': {'nick': '不秋草', 'gender': 'female', 'marry_state': 0, 'height': 168, 'weight': 53, 'education': 5, 'residence_city': '厦门', 'age': 28, 'self_introduce': '我的家和单位都在岛内，普通的三口之家（父母和我），我们生活得很幸福；自己是一个自重自立、有独立思想、喜静顾家的女孩。我想找一个兴趣爱好不多，正直，自律，没有不良嗜好，上进并顾家的岛内工薪阶层男孩。希望你生长在一个完整和睦幸福的家庭里（有良好家风的知识分子家庭最佳），人品正，有良好的家教，无外债贷款；样貌、学历、能力及家境都能在中等以上。我没有遇到过心仪的男孩，也不愿意轻易辜负了自己，故没有什么感情经历。哈哈哈，这里会有很优秀的小哥哥吗？谋事在人，成事在天。我已经完成一半了，至于能否找到心仪的你，那就要看缘分如何了。呵呵呵……不符合我择偶要求的男孩，不分担家务的男孩，不自立的男孩，请不要发消息来，谢谢啦！', 'income': 2.0, 'horoscope': '天秤座', 'hometown_province': '福建', 'hometown_city': '厦门', 'ethnic': 56.0}}, {'_index': 'test_index', '_id': '302134346', '_score': 1.0, '_source': {'nick': '寻觅', 'gender': 'female', 'marry_state': 0, 'height': 159, 'weight': 70, 'education': 5, 'residence_city': '永州', 'age': 29, 'self_introduce': '我大学毕业后，通过校招进入永州市一家国有大银行，由于父母都有正式工作，思想单纯，无忧无虑，一晃到了结婚的年龄，只想找一个条件相当，父母没有负担，且自己在永州市冷水滩有稳定工作的男士结伴，平淡生活。希望对方真诚，诚恳，憎恨婚托，欺诈，假冒。我是诚心来找男友恋爱结婚的，非诚勿扰，我只要喜欢，自己认定了的就专一，从一而终，厌恶朝三暮四。', 'income': 1.0, 'horoscope': '天秤座', 'profession': 7.0, 'hometown_province': '湖南', 'hometown_city': '永州', 'ethnic': 56.0}}, {'_index': 'test_index', '_id': '252660993', '_score': 1.0, '_source': {'nick': '佳佳', 'gender': 'female', 'marry_state': 0, 'height': 166, 'weight': 88, 'education': 5, 'residence_city': '长沙', 'age': 28, 'interest': '[动物, 摄影, 音乐, 中国菜, 日本菜, 健康食品, 巧克力和甜点, 校园青春, 艺术与摄影, 动漫与幽默, 烹饪与饮食, 爱情, 喜剧, 科幻魔幻, 动画, 历史传记, 休闲生活, 商场, 电影院, 惬意海岛, 名山古刹, 繁华都市, 风情名城, 秀美山水]', 'self_introduce': '我女佳佳今天满二十八岁，为父心急，代女征婚。父母双方家庭都是教师世家，她自己也是小学老师，虽不在编，但工作稳定。由于家教严格，交际面狭窄，至今没有恋爱经历。小女单纯真诚善良孝顺，没有任何不良嗜好。希望找到一位未婚，38岁以内，有稳定工作和一定的经济基础，本科以上学历的优秀男士在一年内前结婚。不求对方大富大贵，却必须有养家的能力。小女名下有房产3套，车库一间，资料完全真实，身份证已认证，照片纯天然，未做任何整形。在双方见面正式交往前是必须要查验身份证毕业证的，并且不会有婚前同居的可能，请那些没有诚意的，诈骗的,心怀不轨的,凤凰男妈宝男别来信了。来信太多，如无回复就是双方不合适，请谅解。社会复杂，网络虚幻，为父把关实属无奈，请谅解。20220928', 'income': 1.0, 'horoscope': '天秤座', 'blood_type': 'A', 'profession': 4.0, 'hometown_province': '湖南', 'hometown_city': '长沙', 'ethnic': 56.0}}, {'_index': 'test_index', '_id': '232369300', '_score': 1.0, '_source': {'nick': '坐着蜗牛上高速', 'gender': 'female', 'marry_state': 0, 'height': 170, 'weight': 76, 'education': 5, 'residence_city': '深圳', 'age': 25, 'interest': '[音乐, 写作, 舞蹈, 烹饪, 读书]', 'self_introduce': '我是个性格开朗、积极上进的女孩，在深圳芯片公司上班。平时喜欢烹饪、看书、户外运动；琴棋书画略懂一些：会绘画、唱歌、舞蹈、竖笛、写诗作词和写文章（QQ空间有我自己的原创诗词），以前公司举行诗词大赛，我写了一篇诗词得了一等奖，公司奖励了我2000元。我平时喜欢自己做做饭，觉得吃着自己炒的菜，有种成就感，也喜欢周末在家搞下卫生，看看书。对于爱情：我将于茫茫人海中寻访我惟一灵魂之伴侣，得之，我幸；不得，我命，如此而已。愿得一人心，白首不相离。', 'income': 2.0, 'horoscope': '射手座', 'ethnic': 56.0, 'university': '长沙理工大学'}}]}}\n"
     ]
    }
   ],
   "source": [
    "query = {\n",
    "        \"range\":{\n",
    "            \"age\":{\n",
    "                \"gte\":18,       # >=18\n",
    "                \"lte\":30        # <=30\n",
    "            }\n",
    "        }\n",
    "}\n",
    "res = es.search(index=\"test_index\", query=query)\n",
    "print(res)"
   ]
  },
  {
   "cell_type": "code",
   "execution_count": 236,
   "metadata": {},
   "outputs": [
    {
     "name": "stdout",
     "output_type": "stream",
     "text": [
      "{'hits': {'hits': [{'_index': 'test_index', '_id': '81312178', '_score': 1.0, '_source': {'nick': '南城阿牛', 'gender': 'male', 'marry_state': 0, 'height': 178, 'weight': 53, 'education': 5, 'residence_city': '南京', 'age': 30, 'interest': '[摄影, 音乐, 中国菜, 悬疑推理, 商场, 电影院, 逛街, 惬意海岛, 繁华都市, 风情名城, 历史遗迹]', 'self_introduce': '我是南京人 93年双鱼座 身高178 IT男。爱好：摄影、健身、弹吉他这个年纪应该为了自己的终生大事考虑考虑了，所以真心寻求一位我的另一半，希望你性格温顺，有自己的想法，如果肤白又爱笑，就更加分啦。我是个浪漫随性的人，生活是现实的，也是多彩的，我需要你陪我游遍千山万水，你需要我陪你度过春夏秋冬。', 'income': 2.0, 'horoscope': '双鱼座', 'profession': 3.0, 'hometown_province': '江苏', 'hometown_city': '南京', 'ethnic': 56.0}}, {'_index': 'test_index', '_id': '390589656', '_score': 1.0, '_source': {'nick': 'mayday', 'gender': 'male', 'marry_state': 0, 'height': 179, 'weight': 46, 'education': 3, 'residence_city': '沙坪坝', 'age': 29, 'self_introduce': '来自沙坪坝94年的双鱼座，也是很典型的双鱼座、现目前在家附近上班，从事数控车工行业，有一套全款三室和代步车。长相6分左右 照片有点不上相 平时很爱听歌。自我标签是善良 对待感觉忠贞 有趣的灵魂。', 'income': 1.0, 'horoscope': '双鱼座', 'blood_type': 'A', 'ethnic': 56.0}}, {'_index': 'test_index', '_id': '387991466', '_score': 1.0, '_source': {'nick': '湘南*番禺*古坝*东明', 'gender': 'male', 'marry_state': 0, 'height': 175, 'weight': 53, 'education': 4, 'residence_city': '广州', 'age': 22, 'interest': '[网络, 体育运动, 中国菜, 艺术与摄影, 运动健身, 喜剧, 电影院, 图书馆/书店]', 'self_introduce': '来自湖南衡阳的我.学历不高.大专毕业.浓眉单眼皮可爱小眼睛.简单,孝顺,内敛.不抽烟.不喝酒.不赌博.平时爱好游泳和打羽毛球.来到广州这个大城市.一切都要从头开始.不像在家.都有父母的关爱.来到这个平台.希望找个能同甘共苦的.一起拼搏.志同道合的人.信息虚假和找借口投资的人还请绕道.勤奋的我一直努力着，终于可以让父母因我而骄傲。但是，再坚强的我，也会有疲惫的时候，多么希望早上起床，有人为我准备了早餐；多么期待晚上下班，有盏灯在为我等候着。期待能够与一位温…非诚勿扰', 'income': 1.0, 'horoscope': '处女座', 'blood_type': 'A', 'profession': 23.0, 'hometown_province': '湖南', 'hometown_city': '衡阳', 'ethnic': 56.0, 'university': '湖南铁路科技职业技术学院'}}, {'_index': 'test_index', '_id': '388071826', '_score': 1.0, '_source': {'nick': '红色小花蕾', 'gender': 'female', 'marry_state': 0, 'height': 163, 'weight': 96, 'education': 5, 'residence_city': '南京', 'age': 30, 'interest': '[音乐, 体育运动, 旅游, 中国菜, 励志与成功, 运动健身, 旅游, 爱情, 影视热片, 休闲生活, 秀美山水, 江河大川]', 'self_introduce': '我：属鸡，九三年出生并成长在长江之北、滁河之边一个以猪头肉闻名的小城，她的名字叫六**合。一家三口，都作为土生土长的本地人，标准的原生态家庭。爸爸之前从事技术工程类工作，现已退休；妈妈一直在中医院从事医务工作，今年八月将退居二线。我毕业后在幼儿园学校当老师，两年后调至本地一社区医院上班至今，目前负责社区老年健康管理。长期以来圈子简单以及宁缺毋滥执念，加上三年无休止的疫情封控和核酸采集，似乎浪费并耽误了我太多光阴。所以嘛，活该单身：）：）之前恋爱经历简单，已成为了非常遥远且非常模糊的过去。没有了疫情、脱下了大白服， 生活回归到了正常轨道，个人问题被真正提上了日程。妈妈说她退休后唯一任务就是继续为“人民”服务，这个“人民”就是我们的下一代：帮我们带孩子。但亲爱的孩子，你在哪里呢？未来的他，又在哪里呢？很早之前就听人说过这个平台并有成功案例。公元2023年6月9日，终于鼓起很大的勇气注册，希望在这里也能够邂逅美好的爱情，更希望能一路长久。忽然想起了任向东的那首老歌：我曾想过这样的画面，牵你的手走过斑马线，我们是路口最美的风景，引来羡慕的目光一片......六**合或江北的优先考虑，因为我希望离双方父母都能近一些。围绕在双方父母附近，一起陪伴他们到老，就是我最大的心愿。总书记说，不忘初心、牢记使命。那我们为了初心、为了使命而一起努力吧！备注：希望你真诚，骗子请绕道，非诚勿扰！', 'income': 1.0, 'horoscope': '水瓶座', 'profession': 8.0, 'hometown_province': '江苏', 'hometown_city': '南京', 'ethnic': 56.0}}, {'_index': 'test_index', '_id': '384442817', '_score': 1.0, '_source': {'nick': '噜啦啦', 'gender': 'female', 'marry_state': 0, 'height': 165, 'weight': 79, 'education': 5, 'residence_city': '成都', 'age': 30, 'self_introduce': '正儿八经找对象，GAY、搞耍的勿扰 谢谢合作我工作稳定，福利尚可，五险两金一直到退休，0%失业概率希望找一位有家庭责任感、安心想成家、温柔片耙耳朵、没大男子主义、没暴脾气的男士看这里：不找 大男子主义、自我为中心、我行我素、脾气大的我三观正，不抽烟 不喝酒 不麻将 不夜店，未婚未育希望你最好不经常出差的，最好也别抽烟这样周末能和三五朋友一起喝茶、郊游，品尝美食~享受快乐人生希望早点认识 温柔的你', 'income': 4.0, 'horoscope': '射手座', 'profession': 8.0, 'hometown_province': '四川', 'hometown_city': '成都', 'ethnic': 56.0}}, {'_index': 'test_index', '_id': '366724500', '_score': 1.0, '_source': {'nick': 'Chennnn', 'gender': 'female', 'marry_state': 0, 'height': 156, 'weight': 60, 'education': 7, 'residence_city': '宝山', 'age': 26, 'interest': '[剧院, 音乐会, 温泉, 咖啡厅, 卡拉OK]', 'self_introduce': '谢谢翻阅我的资料^_^目前是教龄刚满1年的在沪教书匠一枚。有自己理想的工作，在自己理想的学校。因为社交圈比较小，所以来到这里，希望可以找到一起共度一生的那个人。', 'income': 2.0, 'horoscope': '天蝎座', 'profession': 4.0, 'hometown_province': '江西', 'hometown_city': '吉安', 'ethnic': 56.0, 'university': '上海师范大学'}}, {'_index': 'test_index', '_id': '356252657', '_score': 1.0, '_source': {'nick': '不秋草', 'gender': 'female', 'marry_state': 0, 'height': 168, 'weight': 53, 'education': 5, 'residence_city': '厦门', 'age': 28, 'self_introduce': '我的家和单位都在岛内，普通的三口之家（父母和我），我们生活得很幸福；自己是一个自重自立、有独立思想、喜静顾家的女孩。我想找一个兴趣爱好不多，正直，自律，没有不良嗜好，上进并顾家的岛内工薪阶层男孩。希望你生长在一个完整和睦幸福的家庭里（有良好家风的知识分子家庭最佳），人品正，有良好的家教，无外债贷款；样貌、学历、能力及家境都能在中等以上。我没有遇到过心仪的男孩，也不愿意轻易辜负了自己，故没有什么感情经历。哈哈哈，这里会有很优秀的小哥哥吗？谋事在人，成事在天。我已经完成一半了，至于能否找到心仪的你，那就要看缘分如何了。呵呵呵……不符合我择偶要求的男孩，不分担家务的男孩，不自立的男孩，请不要发消息来，谢谢啦！', 'income': 2.0, 'horoscope': '天秤座', 'hometown_province': '福建', 'hometown_city': '厦门', 'ethnic': 56.0}}, {'_index': 'test_index', '_id': '302134346', '_score': 1.0, '_source': {'nick': '寻觅', 'gender': 'female', 'marry_state': 0, 'height': 159, 'weight': 70, 'education': 5, 'residence_city': '永州', 'age': 29, 'self_introduce': '我大学毕业后，通过校招进入永州市一家国有大银行，由于父母都有正式工作，思想单纯，无忧无虑，一晃到了结婚的年龄，只想找一个条件相当，父母没有负担，且自己在永州市冷水滩有稳定工作的男士结伴，平淡生活。希望对方真诚，诚恳，憎恨婚托，欺诈，假冒。我是诚心来找男友恋爱结婚的，非诚勿扰，我只要喜欢，自己认定了的就专一，从一而终，厌恶朝三暮四。', 'income': 1.0, 'horoscope': '天秤座', 'profession': 7.0, 'hometown_province': '湖南', 'hometown_city': '永州', 'ethnic': 56.0}}, {'_index': 'test_index', '_id': '252660993', '_score': 1.0, '_source': {'nick': '佳佳', 'gender': 'female', 'marry_state': 0, 'height': 166, 'weight': 88, 'education': 5, 'residence_city': '长沙', 'age': 28, 'interest': '[动物, 摄影, 音乐, 中国菜, 日本菜, 健康食品, 巧克力和甜点, 校园青春, 艺术与摄影, 动漫与幽默, 烹饪与饮食, 爱情, 喜剧, 科幻魔幻, 动画, 历史传记, 休闲生活, 商场, 电影院, 惬意海岛, 名山古刹, 繁华都市, 风情名城, 秀美山水]', 'self_introduce': '我女佳佳今天满二十八岁，为父心急，代女征婚。父母双方家庭都是教师世家，她自己也是小学老师，虽不在编，但工作稳定。由于家教严格，交际面狭窄，至今没有恋爱经历。小女单纯真诚善良孝顺，没有任何不良嗜好。希望找到一位未婚，38岁以内，有稳定工作和一定的经济基础，本科以上学历的优秀男士在一年内前结婚。不求对方大富大贵，却必须有养家的能力。小女名下有房产3套，车库一间，资料完全真实，身份证已认证，照片纯天然，未做任何整形。在双方见面正式交往前是必须要查验身份证毕业证的，并且不会有婚前同居的可能，请那些没有诚意的，诈骗的,心怀不轨的,凤凰男妈宝男别来信了。来信太多，如无回复就是双方不合适，请谅解。社会复杂，网络虚幻，为父把关实属无奈，请谅解。20220928', 'income': 1.0, 'horoscope': '天秤座', 'blood_type': 'A', 'profession': 4.0, 'hometown_province': '湖南', 'hometown_city': '长沙', 'ethnic': 56.0}}, {'_index': 'test_index', '_id': '232369300', '_score': 1.0, '_source': {'nick': '坐着蜗牛上高速', 'gender': 'female', 'marry_state': 0, 'height': 170, 'weight': 76, 'education': 5, 'residence_city': '深圳', 'age': 25, 'interest': '[音乐, 写作, 舞蹈, 烹饪, 读书]', 'self_introduce': '我是个性格开朗、积极上进的女孩，在深圳芯片公司上班。平时喜欢烹饪、看书、户外运动；琴棋书画略懂一些：会绘画、唱歌、舞蹈、竖笛、写诗作词和写文章（QQ空间有我自己的原创诗词），以前公司举行诗词大赛，我写了一篇诗词得了一等奖，公司奖励了我2000元。我平时喜欢自己做做饭，觉得吃着自己炒的菜，有种成就感，也喜欢周末在家搞下卫生，看看书。对于爱情：我将于茫茫人海中寻访我惟一灵魂之伴侣，得之，我幸；不得，我命，如此而已。愿得一人心，白首不相离。', 'income': 2.0, 'horoscope': '射手座', 'ethnic': 56.0, 'university': '长沙理工大学'}}]}}\n"
     ]
    }
   ],
   "source": [
    "res = es.search(index=\"test_index\", query=query, filter_path=[\"hits.hits\"])\n",
    "print(res)\n"
   ]
  },
  {
   "attachments": {},
   "cell_type": "markdown",
   "metadata": {},
   "source": [
    "### 获取匹配数count\n"
   ]
  },
  {
   "cell_type": "code",
   "execution_count": 237,
   "metadata": {},
   "outputs": [
    {
     "name": "stdout",
     "output_type": "stream",
     "text": [
      "{'count': 22, '_shards': {'total': 2, 'successful': 2, 'skipped': 0, 'failed': 0}}\n"
     ]
    }
   ],
   "source": [
    "query = {\n",
    "        \"range\":{\n",
    "            \"age\":{\n",
    "                \"gte\":18,       # >=18\n",
    "                \"lte\":30        # <=30\n",
    "            }\n",
    "        }\n",
    "}\n",
    "res = es.count(index=\"test_index\", query=query)\n",
    "print(res)"
   ]
  },
  {
   "attachments": {},
   "cell_type": "markdown",
   "metadata": {},
   "source": [
    "## 聚合"
   ]
  },
  {
   "attachments": {},
   "cell_type": "markdown",
   "metadata": {},
   "source": [
    "### 获取最小值"
   ]
  },
  {
   "cell_type": "code",
   "execution_count": 247,
   "metadata": {},
   "outputs": [
    {
     "name": "stdout",
     "output_type": "stream",
     "text": [
      "22.0\n"
     ]
    }
   ],
   "source": [
    "# 聚合查询\n",
    "aggs = {\n",
    "    \"min_age\": {\n",
    "        \"min\": {\n",
    "            \"field\": \"age\"\n",
    "        }\n",
    "    }\n",
    "}\n",
    "\n",
    "# 执行聚合查询\n",
    "result = es.search(index=\"test_index\", aggs= aggs)\n",
    "\n",
    "min_age = result[\"aggregations\"][\"min_age\"][\"value\"]\n",
    "print(min_age)"
   ]
  },
  {
   "attachments": {},
   "cell_type": "markdown",
   "metadata": {},
   "source": [
    "### 最大值"
   ]
  },
  {
   "cell_type": "code",
   "execution_count": 248,
   "metadata": {},
   "outputs": [
    {
     "name": "stdout",
     "output_type": "stream",
     "text": [
      "75.0\n"
     ]
    }
   ],
   "source": [
    "# 聚合查询\n",
    "aggs = {\n",
    "    \"max_age\": {\n",
    "        \"max\": {\n",
    "            \"field\": \"age\"\n",
    "        }\n",
    "    }\n",
    "}\n",
    "\n",
    "# 执行聚合查询\n",
    "result = es.search(index=\"test_index\", aggs= aggs)\n",
    "\n",
    "max_age = result[\"aggregations\"][\"max_age\"][\"value\"]\n",
    "print(max_age)"
   ]
  },
  {
   "attachments": {},
   "cell_type": "markdown",
   "metadata": {},
   "source": [
    "### 平均值"
   ]
  },
  {
   "cell_type": "code",
   "execution_count": 245,
   "metadata": {},
   "outputs": [
    {
     "name": "stdout",
     "output_type": "stream",
     "text": [
      "female 44.09787234042553\n",
      "male 42.58620689655172\n"
     ]
    }
   ],
   "source": [
    "# 聚合查询\n",
    "aggs = {\n",
    "    \"group_by_gender\": {\n",
    "        \"terms\": {\n",
    "            \"field\": \"gender\"\n",
    "        },\n",
    "        \"aggs\": {\n",
    "            \"avg_age\": {\n",
    "                \"avg\": {\n",
    "                    \"field\": \"age\"\n",
    "                }\n",
    "            }\n",
    "        }\n",
    "    }\n",
    "}\n",
    "\n",
    "# 执行聚合查询\n",
    "# result = es.search(index=\"test_index\", body={\"size\": 2, \"aggs\": aggs})\n",
    "result = es.search(index=\"test_index\", aggs= aggs)\n",
    "\n",
    "# 输出结果\n",
    "for bucket in result[\"aggregations\"][\"group_by_gender\"][\"buckets\"]:\n",
    "    print(bucket[\"key\"], bucket[\"avg_age\"][\"value\"])"
   ]
  },
  {
   "attachments": {},
   "cell_type": "markdown",
   "metadata": {},
   "source": [
    "### 求和"
   ]
  },
  {
   "cell_type": "code",
   "execution_count": 249,
   "metadata": {},
   "outputs": [
    {
     "name": "stdout",
     "output_type": "stream",
     "text": [
      "12833.0\n"
     ]
    }
   ],
   "source": [
    "# 聚合查询\n",
    "aggs = {\n",
    "    \"sum_age\": {\n",
    "        \"sum\": {\n",
    "            \"field\": \"age\"\n",
    "        }\n",
    "    }\n",
    "}\n",
    "\n",
    "# 执行聚合查询\n",
    "result = es.search(index=\"test_index\", aggs= aggs)\n",
    "\n",
    "sum_age = result[\"aggregations\"][\"sum_age\"][\"value\"]\n",
    "print(sum_age)"
   ]
  },
  {
   "cell_type": "code",
   "execution_count": 250,
   "metadata": {},
   "outputs": [
    {
     "name": "stdout",
     "output_type": "stream",
     "text": [
      "{'took': 2, 'timed_out': False, '_shards': {'total': 2, 'successful': 2, 'skipped': 0, 'failed': 0}, 'hits': {'total': {'value': 22, 'relation': 'eq'}, 'max_score': 1.0, 'hits': [{'_index': 'test_index', '_id': '81312178', '_score': 1.0, '_source': {'nick': '南城阿牛', 'gender': 'male', 'marry_state': 0, 'height': 178, 'weight': 53, 'education': 5, 'residence_city': '南京', 'age': 30, 'interest': '[摄影, 音乐, 中国菜, 悬疑推理, 商场, 电影院, 逛街, 惬意海岛, 繁华都市, 风情名城, 历史遗迹]', 'self_introduce': '我是南京人 93年双鱼座 身高178 IT男。爱好：摄影、健身、弹吉他这个年纪应该为了自己的终生大事考虑考虑了，所以真心寻求一位我的另一半，希望你性格温顺，有自己的想法，如果肤白又爱笑，就更加分啦。我是个浪漫随性的人，生活是现实的，也是多彩的，我需要你陪我游遍千山万水，你需要我陪你度过春夏秋冬。', 'income': 2.0, 'horoscope': '双鱼座', 'profession': 3.0, 'hometown_province': '江苏', 'hometown_city': '南京', 'ethnic': 56.0}}, {'_index': 'test_index', '_id': '390589656', '_score': 1.0, '_source': {'nick': 'mayday', 'gender': 'male', 'marry_state': 0, 'height': 179, 'weight': 46, 'education': 3, 'residence_city': '沙坪坝', 'age': 29, 'self_introduce': '来自沙坪坝94年的双鱼座，也是很典型的双鱼座、现目前在家附近上班，从事数控车工行业，有一套全款三室和代步车。长相6分左右 照片有点不上相 平时很爱听歌。自我标签是善良 对待感觉忠贞 有趣的灵魂。', 'income': 1.0, 'horoscope': '双鱼座', 'blood_type': 'A', 'ethnic': 56.0}}, {'_index': 'test_index', '_id': '387991466', '_score': 1.0, '_source': {'nick': '湘南*番禺*古坝*东明', 'gender': 'male', 'marry_state': 0, 'height': 175, 'weight': 53, 'education': 4, 'residence_city': '广州', 'age': 22, 'interest': '[网络, 体育运动, 中国菜, 艺术与摄影, 运动健身, 喜剧, 电影院, 图书馆/书店]', 'self_introduce': '来自湖南衡阳的我.学历不高.大专毕业.浓眉单眼皮可爱小眼睛.简单,孝顺,内敛.不抽烟.不喝酒.不赌博.平时爱好游泳和打羽毛球.来到广州这个大城市.一切都要从头开始.不像在家.都有父母的关爱.来到这个平台.希望找个能同甘共苦的.一起拼搏.志同道合的人.信息虚假和找借口投资的人还请绕道.勤奋的我一直努力着，终于可以让父母因我而骄傲。但是，再坚强的我，也会有疲惫的时候，多么希望早上起床，有人为我准备了早餐；多么期待晚上下班，有盏灯在为我等候着。期待能够与一位温…非诚勿扰', 'income': 1.0, 'horoscope': '处女座', 'blood_type': 'A', 'profession': 23.0, 'hometown_province': '湖南', 'hometown_city': '衡阳', 'ethnic': 56.0, 'university': '湖南铁路科技职业技术学院'}}, {'_index': 'test_index', '_id': '388071826', '_score': 1.0, '_source': {'nick': '红色小花蕾', 'gender': 'female', 'marry_state': 0, 'height': 163, 'weight': 96, 'education': 5, 'residence_city': '南京', 'age': 30, 'interest': '[音乐, 体育运动, 旅游, 中国菜, 励志与成功, 运动健身, 旅游, 爱情, 影视热片, 休闲生活, 秀美山水, 江河大川]', 'self_introduce': '我：属鸡，九三年出生并成长在长江之北、滁河之边一个以猪头肉闻名的小城，她的名字叫六**合。一家三口，都作为土生土长的本地人，标准的原生态家庭。爸爸之前从事技术工程类工作，现已退休；妈妈一直在中医院从事医务工作，今年八月将退居二线。我毕业后在幼儿园学校当老师，两年后调至本地一社区医院上班至今，目前负责社区老年健康管理。长期以来圈子简单以及宁缺毋滥执念，加上三年无休止的疫情封控和核酸采集，似乎浪费并耽误了我太多光阴。所以嘛，活该单身：）：）之前恋爱经历简单，已成为了非常遥远且非常模糊的过去。没有了疫情、脱下了大白服， 生活回归到了正常轨道，个人问题被真正提上了日程。妈妈说她退休后唯一任务就是继续为“人民”服务，这个“人民”就是我们的下一代：帮我们带孩子。但亲爱的孩子，你在哪里呢？未来的他，又在哪里呢？很早之前就听人说过这个平台并有成功案例。公元2023年6月9日，终于鼓起很大的勇气注册，希望在这里也能够邂逅美好的爱情，更希望能一路长久。忽然想起了任向东的那首老歌：我曾想过这样的画面，牵你的手走过斑马线，我们是路口最美的风景，引来羡慕的目光一片......六**合或江北的优先考虑，因为我希望离双方父母都能近一些。围绕在双方父母附近，一起陪伴他们到老，就是我最大的心愿。总书记说，不忘初心、牢记使命。那我们为了初心、为了使命而一起努力吧！备注：希望你真诚，骗子请绕道，非诚勿扰！', 'income': 1.0, 'horoscope': '水瓶座', 'profession': 8.0, 'hometown_province': '江苏', 'hometown_city': '南京', 'ethnic': 56.0}}, {'_index': 'test_index', '_id': '384442817', '_score': 1.0, '_source': {'nick': '噜啦啦', 'gender': 'female', 'marry_state': 0, 'height': 165, 'weight': 79, 'education': 5, 'residence_city': '成都', 'age': 30, 'self_introduce': '正儿八经找对象，GAY、搞耍的勿扰 谢谢合作我工作稳定，福利尚可，五险两金一直到退休，0%失业概率希望找一位有家庭责任感、安心想成家、温柔片耙耳朵、没大男子主义、没暴脾气的男士看这里：不找 大男子主义、自我为中心、我行我素、脾气大的我三观正，不抽烟 不喝酒 不麻将 不夜店，未婚未育希望你最好不经常出差的，最好也别抽烟这样周末能和三五朋友一起喝茶、郊游，品尝美食~享受快乐人生希望早点认识 温柔的你', 'income': 4.0, 'horoscope': '射手座', 'profession': 8.0, 'hometown_province': '四川', 'hometown_city': '成都', 'ethnic': 56.0}}, {'_index': 'test_index', '_id': '366724500', '_score': 1.0, '_source': {'nick': 'Chennnn', 'gender': 'female', 'marry_state': 0, 'height': 156, 'weight': 60, 'education': 7, 'residence_city': '宝山', 'age': 26, 'interest': '[剧院, 音乐会, 温泉, 咖啡厅, 卡拉OK]', 'self_introduce': '谢谢翻阅我的资料^_^目前是教龄刚满1年的在沪教书匠一枚。有自己理想的工作，在自己理想的学校。因为社交圈比较小，所以来到这里，希望可以找到一起共度一生的那个人。', 'income': 2.0, 'horoscope': '天蝎座', 'profession': 4.0, 'hometown_province': '江西', 'hometown_city': '吉安', 'ethnic': 56.0, 'university': '上海师范大学'}}, {'_index': 'test_index', '_id': '356252657', '_score': 1.0, '_source': {'nick': '不秋草', 'gender': 'female', 'marry_state': 0, 'height': 168, 'weight': 53, 'education': 5, 'residence_city': '厦门', 'age': 28, 'self_introduce': '我的家和单位都在岛内，普通的三口之家（父母和我），我们生活得很幸福；自己是一个自重自立、有独立思想、喜静顾家的女孩。我想找一个兴趣爱好不多，正直，自律，没有不良嗜好，上进并顾家的岛内工薪阶层男孩。希望你生长在一个完整和睦幸福的家庭里（有良好家风的知识分子家庭最佳），人品正，有良好的家教，无外债贷款；样貌、学历、能力及家境都能在中等以上。我没有遇到过心仪的男孩，也不愿意轻易辜负了自己，故没有什么感情经历。哈哈哈，这里会有很优秀的小哥哥吗？谋事在人，成事在天。我已经完成一半了，至于能否找到心仪的你，那就要看缘分如何了。呵呵呵……不符合我择偶要求的男孩，不分担家务的男孩，不自立的男孩，请不要发消息来，谢谢啦！', 'income': 2.0, 'horoscope': '天秤座', 'hometown_province': '福建', 'hometown_city': '厦门', 'ethnic': 56.0}}, {'_index': 'test_index', '_id': '302134346', '_score': 1.0, '_source': {'nick': '寻觅', 'gender': 'female', 'marry_state': 0, 'height': 159, 'weight': 70, 'education': 5, 'residence_city': '永州', 'age': 29, 'self_introduce': '我大学毕业后，通过校招进入永州市一家国有大银行，由于父母都有正式工作，思想单纯，无忧无虑，一晃到了结婚的年龄，只想找一个条件相当，父母没有负担，且自己在永州市冷水滩有稳定工作的男士结伴，平淡生活。希望对方真诚，诚恳，憎恨婚托，欺诈，假冒。我是诚心来找男友恋爱结婚的，非诚勿扰，我只要喜欢，自己认定了的就专一，从一而终，厌恶朝三暮四。', 'income': 1.0, 'horoscope': '天秤座', 'profession': 7.0, 'hometown_province': '湖南', 'hometown_city': '永州', 'ethnic': 56.0}}, {'_index': 'test_index', '_id': '252660993', '_score': 1.0, '_source': {'nick': '佳佳', 'gender': 'female', 'marry_state': 0, 'height': 166, 'weight': 88, 'education': 5, 'residence_city': '长沙', 'age': 28, 'interest': '[动物, 摄影, 音乐, 中国菜, 日本菜, 健康食品, 巧克力和甜点, 校园青春, 艺术与摄影, 动漫与幽默, 烹饪与饮食, 爱情, 喜剧, 科幻魔幻, 动画, 历史传记, 休闲生活, 商场, 电影院, 惬意海岛, 名山古刹, 繁华都市, 风情名城, 秀美山水]', 'self_introduce': '我女佳佳今天满二十八岁，为父心急，代女征婚。父母双方家庭都是教师世家，她自己也是小学老师，虽不在编，但工作稳定。由于家教严格，交际面狭窄，至今没有恋爱经历。小女单纯真诚善良孝顺，没有任何不良嗜好。希望找到一位未婚，38岁以内，有稳定工作和一定的经济基础，本科以上学历的优秀男士在一年内前结婚。不求对方大富大贵，却必须有养家的能力。小女名下有房产3套，车库一间，资料完全真实，身份证已认证，照片纯天然，未做任何整形。在双方见面正式交往前是必须要查验身份证毕业证的，并且不会有婚前同居的可能，请那些没有诚意的，诈骗的,心怀不轨的,凤凰男妈宝男别来信了。来信太多，如无回复就是双方不合适，请谅解。社会复杂，网络虚幻，为父把关实属无奈，请谅解。20220928', 'income': 1.0, 'horoscope': '天秤座', 'blood_type': 'A', 'profession': 4.0, 'hometown_province': '湖南', 'hometown_city': '长沙', 'ethnic': 56.0}}, {'_index': 'test_index', '_id': '232369300', '_score': 1.0, '_source': {'nick': '坐着蜗牛上高速', 'gender': 'female', 'marry_state': 0, 'height': 170, 'weight': 76, 'education': 5, 'residence_city': '深圳', 'age': 25, 'interest': '[音乐, 写作, 舞蹈, 烹饪, 读书]', 'self_introduce': '我是个性格开朗、积极上进的女孩，在深圳芯片公司上班。平时喜欢烹饪、看书、户外运动；琴棋书画略懂一些：会绘画、唱歌、舞蹈、竖笛、写诗作词和写文章（QQ空间有我自己的原创诗词），以前公司举行诗词大赛，我写了一篇诗词得了一等奖，公司奖励了我2000元。我平时喜欢自己做做饭，觉得吃着自己炒的菜，有种成就感，也喜欢周末在家搞下卫生，看看书。对于爱情：我将于茫茫人海中寻访我惟一灵魂之伴侣，得之，我幸；不得，我命，如此而已。愿得一人心，白首不相离。', 'income': 2.0, 'horoscope': '射手座', 'ethnic': 56.0, 'university': '长沙理工大学'}}]}}\n"
     ]
    }
   ],
   "source": [
    "query = {\n",
    "        \"range\":{\n",
    "            \"age\":{\n",
    "                \"gte\":18,       # >=18\n",
    "                \"lte\":30        # <=30\n",
    "            }\n",
    "        }\n",
    "}\n",
    "\n",
    "# 执行聚合查询\n",
    "result = es.search(index=\"test_index\", query=query)\n",
    "print(result)\n"
   ]
  },
  {
   "cell_type": "code",
   "execution_count": 251,
   "metadata": {},
   "outputs": [
    {
     "name": "stdout",
     "output_type": "stream",
     "text": [
      "{'took': 4, 'timed_out': False, '_shards': {'total': 2, 'successful': 2, 'skipped': 0, 'failed': 0}, 'hits': {'total': {'value': 22, 'relation': 'eq'}, 'max_score': 1.0, 'hits': [{'_index': 'test_index', '_id': '81312178', '_score': 1.0, '_source': {'nick': '南城阿牛', 'gender': 'male', 'marry_state': 0, 'height': 178, 'weight': 53, 'education': 5, 'residence_city': '南京', 'age': 30, 'interest': '[摄影, 音乐, 中国菜, 悬疑推理, 商场, 电影院, 逛街, 惬意海岛, 繁华都市, 风情名城, 历史遗迹]', 'self_introduce': '我是南京人 93年双鱼座 身高178 IT男。爱好：摄影、健身、弹吉他这个年纪应该为了自己的终生大事考虑考虑了，所以真心寻求一位我的另一半，希望你性格温顺，有自己的想法，如果肤白又爱笑，就更加分啦。我是个浪漫随性的人，生活是现实的，也是多彩的，我需要你陪我游遍千山万水，你需要我陪你度过春夏秋冬。', 'income': 2.0, 'horoscope': '双鱼座', 'profession': 3.0, 'hometown_province': '江苏', 'hometown_city': '南京', 'ethnic': 56.0}}, {'_index': 'test_index', '_id': '390589656', '_score': 1.0, '_source': {'nick': 'mayday', 'gender': 'male', 'marry_state': 0, 'height': 179, 'weight': 46, 'education': 3, 'residence_city': '沙坪坝', 'age': 29, 'self_introduce': '来自沙坪坝94年的双鱼座，也是很典型的双鱼座、现目前在家附近上班，从事数控车工行业，有一套全款三室和代步车。长相6分左右 照片有点不上相 平时很爱听歌。自我标签是善良 对待感觉忠贞 有趣的灵魂。', 'income': 1.0, 'horoscope': '双鱼座', 'blood_type': 'A', 'ethnic': 56.0}}, {'_index': 'test_index', '_id': '387991466', '_score': 1.0, '_source': {'nick': '湘南*番禺*古坝*东明', 'gender': 'male', 'marry_state': 0, 'height': 175, 'weight': 53, 'education': 4, 'residence_city': '广州', 'age': 22, 'interest': '[网络, 体育运动, 中国菜, 艺术与摄影, 运动健身, 喜剧, 电影院, 图书馆/书店]', 'self_introduce': '来自湖南衡阳的我.学历不高.大专毕业.浓眉单眼皮可爱小眼睛.简单,孝顺,内敛.不抽烟.不喝酒.不赌博.平时爱好游泳和打羽毛球.来到广州这个大城市.一切都要从头开始.不像在家.都有父母的关爱.来到这个平台.希望找个能同甘共苦的.一起拼搏.志同道合的人.信息虚假和找借口投资的人还请绕道.勤奋的我一直努力着，终于可以让父母因我而骄傲。但是，再坚强的我，也会有疲惫的时候，多么希望早上起床，有人为我准备了早餐；多么期待晚上下班，有盏灯在为我等候着。期待能够与一位温…非诚勿扰', 'income': 1.0, 'horoscope': '处女座', 'blood_type': 'A', 'profession': 23.0, 'hometown_province': '湖南', 'hometown_city': '衡阳', 'ethnic': 56.0, 'university': '湖南铁路科技职业技术学院'}}, {'_index': 'test_index', '_id': '388071826', '_score': 1.0, '_source': {'nick': '红色小花蕾', 'gender': 'female', 'marry_state': 0, 'height': 163, 'weight': 96, 'education': 5, 'residence_city': '南京', 'age': 30, 'interest': '[音乐, 体育运动, 旅游, 中国菜, 励志与成功, 运动健身, 旅游, 爱情, 影视热片, 休闲生活, 秀美山水, 江河大川]', 'self_introduce': '我：属鸡，九三年出生并成长在长江之北、滁河之边一个以猪头肉闻名的小城，她的名字叫六**合。一家三口，都作为土生土长的本地人，标准的原生态家庭。爸爸之前从事技术工程类工作，现已退休；妈妈一直在中医院从事医务工作，今年八月将退居二线。我毕业后在幼儿园学校当老师，两年后调至本地一社区医院上班至今，目前负责社区老年健康管理。长期以来圈子简单以及宁缺毋滥执念，加上三年无休止的疫情封控和核酸采集，似乎浪费并耽误了我太多光阴。所以嘛，活该单身：）：）之前恋爱经历简单，已成为了非常遥远且非常模糊的过去。没有了疫情、脱下了大白服， 生活回归到了正常轨道，个人问题被真正提上了日程。妈妈说她退休后唯一任务就是继续为“人民”服务，这个“人民”就是我们的下一代：帮我们带孩子。但亲爱的孩子，你在哪里呢？未来的他，又在哪里呢？很早之前就听人说过这个平台并有成功案例。公元2023年6月9日，终于鼓起很大的勇气注册，希望在这里也能够邂逅美好的爱情，更希望能一路长久。忽然想起了任向东的那首老歌：我曾想过这样的画面，牵你的手走过斑马线，我们是路口最美的风景，引来羡慕的目光一片......六**合或江北的优先考虑，因为我希望离双方父母都能近一些。围绕在双方父母附近，一起陪伴他们到老，就是我最大的心愿。总书记说，不忘初心、牢记使命。那我们为了初心、为了使命而一起努力吧！备注：希望你真诚，骗子请绕道，非诚勿扰！', 'income': 1.0, 'horoscope': '水瓶座', 'profession': 8.0, 'hometown_province': '江苏', 'hometown_city': '南京', 'ethnic': 56.0}}, {'_index': 'test_index', '_id': '384442817', '_score': 1.0, '_source': {'nick': '噜啦啦', 'gender': 'female', 'marry_state': 0, 'height': 165, 'weight': 79, 'education': 5, 'residence_city': '成都', 'age': 30, 'self_introduce': '正儿八经找对象，GAY、搞耍的勿扰 谢谢合作我工作稳定，福利尚可，五险两金一直到退休，0%失业概率希望找一位有家庭责任感、安心想成家、温柔片耙耳朵、没大男子主义、没暴脾气的男士看这里：不找 大男子主义、自我为中心、我行我素、脾气大的我三观正，不抽烟 不喝酒 不麻将 不夜店，未婚未育希望你最好不经常出差的，最好也别抽烟这样周末能和三五朋友一起喝茶、郊游，品尝美食~享受快乐人生希望早点认识 温柔的你', 'income': 4.0, 'horoscope': '射手座', 'profession': 8.0, 'hometown_province': '四川', 'hometown_city': '成都', 'ethnic': 56.0}}, {'_index': 'test_index', '_id': '366724500', '_score': 1.0, '_source': {'nick': 'Chennnn', 'gender': 'female', 'marry_state': 0, 'height': 156, 'weight': 60, 'education': 7, 'residence_city': '宝山', 'age': 26, 'interest': '[剧院, 音乐会, 温泉, 咖啡厅, 卡拉OK]', 'self_introduce': '谢谢翻阅我的资料^_^目前是教龄刚满1年的在沪教书匠一枚。有自己理想的工作，在自己理想的学校。因为社交圈比较小，所以来到这里，希望可以找到一起共度一生的那个人。', 'income': 2.0, 'horoscope': '天蝎座', 'profession': 4.0, 'hometown_province': '江西', 'hometown_city': '吉安', 'ethnic': 56.0, 'university': '上海师范大学'}}, {'_index': 'test_index', '_id': '356252657', '_score': 1.0, '_source': {'nick': '不秋草', 'gender': 'female', 'marry_state': 0, 'height': 168, 'weight': 53, 'education': 5, 'residence_city': '厦门', 'age': 28, 'self_introduce': '我的家和单位都在岛内，普通的三口之家（父母和我），我们生活得很幸福；自己是一个自重自立、有独立思想、喜静顾家的女孩。我想找一个兴趣爱好不多，正直，自律，没有不良嗜好，上进并顾家的岛内工薪阶层男孩。希望你生长在一个完整和睦幸福的家庭里（有良好家风的知识分子家庭最佳），人品正，有良好的家教，无外债贷款；样貌、学历、能力及家境都能在中等以上。我没有遇到过心仪的男孩，也不愿意轻易辜负了自己，故没有什么感情经历。哈哈哈，这里会有很优秀的小哥哥吗？谋事在人，成事在天。我已经完成一半了，至于能否找到心仪的你，那就要看缘分如何了。呵呵呵……不符合我择偶要求的男孩，不分担家务的男孩，不自立的男孩，请不要发消息来，谢谢啦！', 'income': 2.0, 'horoscope': '天秤座', 'hometown_province': '福建', 'hometown_city': '厦门', 'ethnic': 56.0}}, {'_index': 'test_index', '_id': '302134346', '_score': 1.0, '_source': {'nick': '寻觅', 'gender': 'female', 'marry_state': 0, 'height': 159, 'weight': 70, 'education': 5, 'residence_city': '永州', 'age': 29, 'self_introduce': '我大学毕业后，通过校招进入永州市一家国有大银行，由于父母都有正式工作，思想单纯，无忧无虑，一晃到了结婚的年龄，只想找一个条件相当，父母没有负担，且自己在永州市冷水滩有稳定工作的男士结伴，平淡生活。希望对方真诚，诚恳，憎恨婚托，欺诈，假冒。我是诚心来找男友恋爱结婚的，非诚勿扰，我只要喜欢，自己认定了的就专一，从一而终，厌恶朝三暮四。', 'income': 1.0, 'horoscope': '天秤座', 'profession': 7.0, 'hometown_province': '湖南', 'hometown_city': '永州', 'ethnic': 56.0}}, {'_index': 'test_index', '_id': '252660993', '_score': 1.0, '_source': {'nick': '佳佳', 'gender': 'female', 'marry_state': 0, 'height': 166, 'weight': 88, 'education': 5, 'residence_city': '长沙', 'age': 28, 'interest': '[动物, 摄影, 音乐, 中国菜, 日本菜, 健康食品, 巧克力和甜点, 校园青春, 艺术与摄影, 动漫与幽默, 烹饪与饮食, 爱情, 喜剧, 科幻魔幻, 动画, 历史传记, 休闲生活, 商场, 电影院, 惬意海岛, 名山古刹, 繁华都市, 风情名城, 秀美山水]', 'self_introduce': '我女佳佳今天满二十八岁，为父心急，代女征婚。父母双方家庭都是教师世家，她自己也是小学老师，虽不在编，但工作稳定。由于家教严格，交际面狭窄，至今没有恋爱经历。小女单纯真诚善良孝顺，没有任何不良嗜好。希望找到一位未婚，38岁以内，有稳定工作和一定的经济基础，本科以上学历的优秀男士在一年内前结婚。不求对方大富大贵，却必须有养家的能力。小女名下有房产3套，车库一间，资料完全真实，身份证已认证，照片纯天然，未做任何整形。在双方见面正式交往前是必须要查验身份证毕业证的，并且不会有婚前同居的可能，请那些没有诚意的，诈骗的,心怀不轨的,凤凰男妈宝男别来信了。来信太多，如无回复就是双方不合适，请谅解。社会复杂，网络虚幻，为父把关实属无奈，请谅解。20220928', 'income': 1.0, 'horoscope': '天秤座', 'blood_type': 'A', 'profession': 4.0, 'hometown_province': '湖南', 'hometown_city': '长沙', 'ethnic': 56.0}}, {'_index': 'test_index', '_id': '232369300', '_score': 1.0, '_source': {'nick': '坐着蜗牛上高速', 'gender': 'female', 'marry_state': 0, 'height': 170, 'weight': 76, 'education': 5, 'residence_city': '深圳', 'age': 25, 'interest': '[音乐, 写作, 舞蹈, 烹饪, 读书]', 'self_introduce': '我是个性格开朗、积极上进的女孩，在深圳芯片公司上班。平时喜欢烹饪、看书、户外运动；琴棋书画略懂一些：会绘画、唱歌、舞蹈、竖笛、写诗作词和写文章（QQ空间有我自己的原创诗词），以前公司举行诗词大赛，我写了一篇诗词得了一等奖，公司奖励了我2000元。我平时喜欢自己做做饭，觉得吃着自己炒的菜，有种成就感，也喜欢周末在家搞下卫生，看看书。对于爱情：我将于茫茫人海中寻访我惟一灵魂之伴侣，得之，我幸；不得，我命，如此而已。愿得一人心，白首不相离。', 'income': 2.0, 'horoscope': '射手座', 'ethnic': 56.0, 'university': '长沙理工大学'}}]}, 'aggregations': {'min_age': {'value': 22.0}}}\n",
      "22.0\n"
     ]
    }
   ],
   "source": [
    "# 聚合查询\n",
    "aggs = {\n",
    "    \"min_age\": {\n",
    "        \"min\": {\n",
    "            \"field\": \"age\"\n",
    "        }\n",
    "    }\n",
    "}\n",
    "\n",
    "# 执行聚合查询\n",
    "result = es.search(index=\"test_index\", query=query, aggs=aggs)\n",
    "print(result)\n",
    "min_age = result[\"aggregations\"][\"min_age\"][\"value\"]\n",
    "print(min_age)"
   ]
  },
  {
   "cell_type": "code",
   "execution_count": 252,
   "metadata": {},
   "outputs": [
    {
     "name": "stdout",
     "output_type": "stream",
     "text": [
      "{'took': 3, 'timed_out': False, '_shards': {'total': 2, 'successful': 2, 'skipped': 0, 'failed': 0}, 'hits': {'total': {'value': 22, 'relation': 'eq'}, 'max_score': 1.0, 'hits': [{'_index': 'test_index', '_id': '81312178', '_score': 1.0, '_source': {'nick': '南城阿牛', 'gender': 'male', 'marry_state': 0, 'height': 178, 'weight': 53, 'education': 5, 'residence_city': '南京', 'age': 30, 'interest': '[摄影, 音乐, 中国菜, 悬疑推理, 商场, 电影院, 逛街, 惬意海岛, 繁华都市, 风情名城, 历史遗迹]', 'self_introduce': '我是南京人 93年双鱼座 身高178 IT男。爱好：摄影、健身、弹吉他这个年纪应该为了自己的终生大事考虑考虑了，所以真心寻求一位我的另一半，希望你性格温顺，有自己的想法，如果肤白又爱笑，就更加分啦。我是个浪漫随性的人，生活是现实的，也是多彩的，我需要你陪我游遍千山万水，你需要我陪你度过春夏秋冬。', 'income': 2.0, 'horoscope': '双鱼座', 'profession': 3.0, 'hometown_province': '江苏', 'hometown_city': '南京', 'ethnic': 56.0}}, {'_index': 'test_index', '_id': '390589656', '_score': 1.0, '_source': {'nick': 'mayday', 'gender': 'male', 'marry_state': 0, 'height': 179, 'weight': 46, 'education': 3, 'residence_city': '沙坪坝', 'age': 29, 'self_introduce': '来自沙坪坝94年的双鱼座，也是很典型的双鱼座、现目前在家附近上班，从事数控车工行业，有一套全款三室和代步车。长相6分左右 照片有点不上相 平时很爱听歌。自我标签是善良 对待感觉忠贞 有趣的灵魂。', 'income': 1.0, 'horoscope': '双鱼座', 'blood_type': 'A', 'ethnic': 56.0}}, {'_index': 'test_index', '_id': '387991466', '_score': 1.0, '_source': {'nick': '湘南*番禺*古坝*东明', 'gender': 'male', 'marry_state': 0, 'height': 175, 'weight': 53, 'education': 4, 'residence_city': '广州', 'age': 22, 'interest': '[网络, 体育运动, 中国菜, 艺术与摄影, 运动健身, 喜剧, 电影院, 图书馆/书店]', 'self_introduce': '来自湖南衡阳的我.学历不高.大专毕业.浓眉单眼皮可爱小眼睛.简单,孝顺,内敛.不抽烟.不喝酒.不赌博.平时爱好游泳和打羽毛球.来到广州这个大城市.一切都要从头开始.不像在家.都有父母的关爱.来到这个平台.希望找个能同甘共苦的.一起拼搏.志同道合的人.信息虚假和找借口投资的人还请绕道.勤奋的我一直努力着，终于可以让父母因我而骄傲。但是，再坚强的我，也会有疲惫的时候，多么希望早上起床，有人为我准备了早餐；多么期待晚上下班，有盏灯在为我等候着。期待能够与一位温…非诚勿扰', 'income': 1.0, 'horoscope': '处女座', 'blood_type': 'A', 'profession': 23.0, 'hometown_province': '湖南', 'hometown_city': '衡阳', 'ethnic': 56.0, 'university': '湖南铁路科技职业技术学院'}}, {'_index': 'test_index', '_id': '388071826', '_score': 1.0, '_source': {'nick': '红色小花蕾', 'gender': 'female', 'marry_state': 0, 'height': 163, 'weight': 96, 'education': 5, 'residence_city': '南京', 'age': 30, 'interest': '[音乐, 体育运动, 旅游, 中国菜, 励志与成功, 运动健身, 旅游, 爱情, 影视热片, 休闲生活, 秀美山水, 江河大川]', 'self_introduce': '我：属鸡，九三年出生并成长在长江之北、滁河之边一个以猪头肉闻名的小城，她的名字叫六**合。一家三口，都作为土生土长的本地人，标准的原生态家庭。爸爸之前从事技术工程类工作，现已退休；妈妈一直在中医院从事医务工作，今年八月将退居二线。我毕业后在幼儿园学校当老师，两年后调至本地一社区医院上班至今，目前负责社区老年健康管理。长期以来圈子简单以及宁缺毋滥执念，加上三年无休止的疫情封控和核酸采集，似乎浪费并耽误了我太多光阴。所以嘛，活该单身：）：）之前恋爱经历简单，已成为了非常遥远且非常模糊的过去。没有了疫情、脱下了大白服， 生活回归到了正常轨道，个人问题被真正提上了日程。妈妈说她退休后唯一任务就是继续为“人民”服务，这个“人民”就是我们的下一代：帮我们带孩子。但亲爱的孩子，你在哪里呢？未来的他，又在哪里呢？很早之前就听人说过这个平台并有成功案例。公元2023年6月9日，终于鼓起很大的勇气注册，希望在这里也能够邂逅美好的爱情，更希望能一路长久。忽然想起了任向东的那首老歌：我曾想过这样的画面，牵你的手走过斑马线，我们是路口最美的风景，引来羡慕的目光一片......六**合或江北的优先考虑，因为我希望离双方父母都能近一些。围绕在双方父母附近，一起陪伴他们到老，就是我最大的心愿。总书记说，不忘初心、牢记使命。那我们为了初心、为了使命而一起努力吧！备注：希望你真诚，骗子请绕道，非诚勿扰！', 'income': 1.0, 'horoscope': '水瓶座', 'profession': 8.0, 'hometown_province': '江苏', 'hometown_city': '南京', 'ethnic': 56.0}}, {'_index': 'test_index', '_id': '384442817', '_score': 1.0, '_source': {'nick': '噜啦啦', 'gender': 'female', 'marry_state': 0, 'height': 165, 'weight': 79, 'education': 5, 'residence_city': '成都', 'age': 30, 'self_introduce': '正儿八经找对象，GAY、搞耍的勿扰 谢谢合作我工作稳定，福利尚可，五险两金一直到退休，0%失业概率希望找一位有家庭责任感、安心想成家、温柔片耙耳朵、没大男子主义、没暴脾气的男士看这里：不找 大男子主义、自我为中心、我行我素、脾气大的我三观正，不抽烟 不喝酒 不麻将 不夜店，未婚未育希望你最好不经常出差的，最好也别抽烟这样周末能和三五朋友一起喝茶、郊游，品尝美食~享受快乐人生希望早点认识 温柔的你', 'income': 4.0, 'horoscope': '射手座', 'profession': 8.0, 'hometown_province': '四川', 'hometown_city': '成都', 'ethnic': 56.0}}, {'_index': 'test_index', '_id': '366724500', '_score': 1.0, '_source': {'nick': 'Chennnn', 'gender': 'female', 'marry_state': 0, 'height': 156, 'weight': 60, 'education': 7, 'residence_city': '宝山', 'age': 26, 'interest': '[剧院, 音乐会, 温泉, 咖啡厅, 卡拉OK]', 'self_introduce': '谢谢翻阅我的资料^_^目前是教龄刚满1年的在沪教书匠一枚。有自己理想的工作，在自己理想的学校。因为社交圈比较小，所以来到这里，希望可以找到一起共度一生的那个人。', 'income': 2.0, 'horoscope': '天蝎座', 'profession': 4.0, 'hometown_province': '江西', 'hometown_city': '吉安', 'ethnic': 56.0, 'university': '上海师范大学'}}, {'_index': 'test_index', '_id': '356252657', '_score': 1.0, '_source': {'nick': '不秋草', 'gender': 'female', 'marry_state': 0, 'height': 168, 'weight': 53, 'education': 5, 'residence_city': '厦门', 'age': 28, 'self_introduce': '我的家和单位都在岛内，普通的三口之家（父母和我），我们生活得很幸福；自己是一个自重自立、有独立思想、喜静顾家的女孩。我想找一个兴趣爱好不多，正直，自律，没有不良嗜好，上进并顾家的岛内工薪阶层男孩。希望你生长在一个完整和睦幸福的家庭里（有良好家风的知识分子家庭最佳），人品正，有良好的家教，无外债贷款；样貌、学历、能力及家境都能在中等以上。我没有遇到过心仪的男孩，也不愿意轻易辜负了自己，故没有什么感情经历。哈哈哈，这里会有很优秀的小哥哥吗？谋事在人，成事在天。我已经完成一半了，至于能否找到心仪的你，那就要看缘分如何了。呵呵呵……不符合我择偶要求的男孩，不分担家务的男孩，不自立的男孩，请不要发消息来，谢谢啦！', 'income': 2.0, 'horoscope': '天秤座', 'hometown_province': '福建', 'hometown_city': '厦门', 'ethnic': 56.0}}, {'_index': 'test_index', '_id': '302134346', '_score': 1.0, '_source': {'nick': '寻觅', 'gender': 'female', 'marry_state': 0, 'height': 159, 'weight': 70, 'education': 5, 'residence_city': '永州', 'age': 29, 'self_introduce': '我大学毕业后，通过校招进入永州市一家国有大银行，由于父母都有正式工作，思想单纯，无忧无虑，一晃到了结婚的年龄，只想找一个条件相当，父母没有负担，且自己在永州市冷水滩有稳定工作的男士结伴，平淡生活。希望对方真诚，诚恳，憎恨婚托，欺诈，假冒。我是诚心来找男友恋爱结婚的，非诚勿扰，我只要喜欢，自己认定了的就专一，从一而终，厌恶朝三暮四。', 'income': 1.0, 'horoscope': '天秤座', 'profession': 7.0, 'hometown_province': '湖南', 'hometown_city': '永州', 'ethnic': 56.0}}, {'_index': 'test_index', '_id': '252660993', '_score': 1.0, '_source': {'nick': '佳佳', 'gender': 'female', 'marry_state': 0, 'height': 166, 'weight': 88, 'education': 5, 'residence_city': '长沙', 'age': 28, 'interest': '[动物, 摄影, 音乐, 中国菜, 日本菜, 健康食品, 巧克力和甜点, 校园青春, 艺术与摄影, 动漫与幽默, 烹饪与饮食, 爱情, 喜剧, 科幻魔幻, 动画, 历史传记, 休闲生活, 商场, 电影院, 惬意海岛, 名山古刹, 繁华都市, 风情名城, 秀美山水]', 'self_introduce': '我女佳佳今天满二十八岁，为父心急，代女征婚。父母双方家庭都是教师世家，她自己也是小学老师，虽不在编，但工作稳定。由于家教严格，交际面狭窄，至今没有恋爱经历。小女单纯真诚善良孝顺，没有任何不良嗜好。希望找到一位未婚，38岁以内，有稳定工作和一定的经济基础，本科以上学历的优秀男士在一年内前结婚。不求对方大富大贵，却必须有养家的能力。小女名下有房产3套，车库一间，资料完全真实，身份证已认证，照片纯天然，未做任何整形。在双方见面正式交往前是必须要查验身份证毕业证的，并且不会有婚前同居的可能，请那些没有诚意的，诈骗的,心怀不轨的,凤凰男妈宝男别来信了。来信太多，如无回复就是双方不合适，请谅解。社会复杂，网络虚幻，为父把关实属无奈，请谅解。20220928', 'income': 1.0, 'horoscope': '天秤座', 'blood_type': 'A', 'profession': 4.0, 'hometown_province': '湖南', 'hometown_city': '长沙', 'ethnic': 56.0}}, {'_index': 'test_index', '_id': '232369300', '_score': 1.0, '_source': {'nick': '坐着蜗牛上高速', 'gender': 'female', 'marry_state': 0, 'height': 170, 'weight': 76, 'education': 5, 'residence_city': '深圳', 'age': 25, 'interest': '[音乐, 写作, 舞蹈, 烹饪, 读书]', 'self_introduce': '我是个性格开朗、积极上进的女孩，在深圳芯片公司上班。平时喜欢烹饪、看书、户外运动；琴棋书画略懂一些：会绘画、唱歌、舞蹈、竖笛、写诗作词和写文章（QQ空间有我自己的原创诗词），以前公司举行诗词大赛，我写了一篇诗词得了一等奖，公司奖励了我2000元。我平时喜欢自己做做饭，觉得吃着自己炒的菜，有种成就感，也喜欢周末在家搞下卫生，看看书。对于爱情：我将于茫茫人海中寻访我惟一灵魂之伴侣，得之，我幸；不得，我命，如此而已。愿得一人心，白首不相离。', 'income': 2.0, 'horoscope': '射手座', 'ethnic': 56.0, 'university': '长沙理工大学'}}]}, 'aggregations': {'max_age': {'value': 30.0}}}\n",
      "30.0\n"
     ]
    }
   ],
   "source": [
    "# 聚合查询\n",
    "aggs = {\n",
    "    \"max_age\": {\n",
    "        \"max\": {\n",
    "            \"field\": \"age\"\n",
    "        }\n",
    "    }\n",
    "}\n",
    "# 执行聚合查询\n",
    "result = es.search(index=\"test_index\", query=query, aggs=aggs)\n",
    "print(result)\n",
    "max_age = result[\"aggregations\"][\"max_age\"][\"value\"]\n",
    "print(max_age)"
   ]
  },
  {
   "attachments": {},
   "cell_type": "markdown",
   "metadata": {},
   "source": [
    "query = {\n",
    "        \"range\":{\n",
    "            \"age\":{\n",
    "                \"gte\":18,       # >=18\n",
    "                \"lte\":30        # <=30\n",
    "            }\n",
    "        }\n",
    "}"
   ]
  }
 ],
 "metadata": {
  "kernelspec": {
   "display_name": "es",
   "language": "python",
   "name": "python3"
  },
  "language_info": {
   "codemirror_mode": {
    "name": "ipython",
    "version": 3
   },
   "file_extension": ".py",
   "mimetype": "text/x-python",
   "name": "python",
   "nbconvert_exporter": "python",
   "pygments_lexer": "ipython3",
   "version": "3.10.0"
  },
  "orig_nbformat": 4
 },
 "nbformat": 4,
 "nbformat_minor": 2
}
